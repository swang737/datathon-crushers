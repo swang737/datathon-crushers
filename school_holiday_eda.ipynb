{
 "cells": [
  {
   "cell_type": "code",
   "execution_count": 2,
   "id": "7cd01448",
   "metadata": {},
   "outputs": [],
   "source": [
    "import pandas as pd"
   ]
  },
  {
   "cell_type": "code",
   "execution_count": 4,
   "id": "2606f963",
   "metadata": {},
   "outputs": [],
   "source": [
    "all_holidays_victoria_df = pd.read_csv(\"all_holidays_victoria.csv\")"
   ]
  },
  {
   "cell_type": "code",
   "execution_count": null,
   "id": "10e33cb1",
   "metadata": {},
   "outputs": [
    {
     "name": "stdout",
     "output_type": "stream",
     "text": [
      "<class 'pandas.core.frame.DataFrame'>\n",
      "RangeIndex: 2851 entries, 0 to 2850\n",
      "Data columns (total 6 columns):\n",
      " #   Column          Non-Null Count  Dtype \n",
      "---  ------          --------------  ----- \n",
      " 0   dateType        2851 non-null   object\n",
      " 1   name            2851 non-null   object\n",
      " 2   important_date  2851 non-null   object\n",
      " 3   publisher       2851 non-null   object\n",
      " 4   description     1680 non-null   object\n",
      " 5   source          2795 non-null   object\n",
      "dtypes: object(6)\n",
      "memory usage: 133.8+ KB\n"
     ]
    }
   ],
   "source": [
    "all_holidays_victoria_df.info()"
   ]
  },
  {
   "cell_type": "code",
   "execution_count": null,
   "id": "a87f0582",
   "metadata": {},
   "outputs": [],
   "source": [
    "all_holidays_victoria_df"
   ]
  },
  {
   "cell_type": "code",
   "execution_count": 9,
   "id": "d431b590",
   "metadata": {},
   "outputs": [
    {
     "data": {
      "text/plain": [
       "array(['Lent', 'Great lent (Orthodox)', 'Purim', 'Ridvan', 'Pesach',\n",
       "       'Ramadan', 'Krishna Janmashtami', 'Declaration of the Bab',\n",
       "       \"Tisha B'Av\", 'Navaratri', 'Sukkot', 'Advent', 'All Saints day',\n",
       "       'Hanukkah', 'Maghi', 'Lailat al Miraj', 'Holy Week',\n",
       "       'Great Lent (Orthodox)', 'Eid Al Adha', 'Raksha Bandhan',\n",
       "       'Rosh Hashanah', 'Lailat al Qadr', 'Christmas', 'Diwali',\n",
       "       'Birth of Guru Nanak Dev Sahib Ji', 'Ash Wednesday',\n",
       "       'Mahayana New Year', 'Nirvana Day', 'Martyrdom of the Bab',\n",
       "       'Eid ul Fitr', 'Ashala Puja / Dharma Day',\n",
       "       \"Ascension of Baha'ullah\", 'Hijra', \"Birth of Baha'ullah\",\n",
       "       'Birthday of Guru Gobind Singh Ji', 'Epiphany ',\n",
       "       'Chinese New Year', 'Theravada New Year', 'Holi', 'Shavuot',\n",
       "       'Assumption of the Blessed Virgin Mary', 'Bodhi Day',\n",
       "       'Tet Nam Moiaabs', 'New Ruz', 'Good/Holy Friday',\n",
       "       'Easter/Pascha [Orthodox]', 'Pentecost', 'Dussehra',\n",
       "       'Bandi Chhor Divas (Diwali)', 'Birth of Bab', 'Yom Kippur',\n",
       "       'Magha Puja Day / Sangha Day', 'Baisakhi', 'Simchat Torah',\n",
       "       'Martyrdom of Guru Arjun Dev Ji', 'Vesak / Buddha Day',\n",
       "       'All Saints Day', 'Nativity (Orthodox)', 'Hola Mohalla',\n",
       "       'Rama Navami', \"Lailat al Bara'ah\",\n",
       "       'Conferment of Guruship to Guru Granth Sahib',\n",
       "       'Martyrdom of Guru Tegh Bahadur Ji', 'Bodhi', 'Yom HaShoah',\n",
       "       'Easter/Pascha (Orthodox)', 'Easter', 'MahaShivaratri', 'Epiphany',\n",
       "       'Ganesh Chaturthi', 'Naw Ruz', 'Birth of the Bab', 'Pongal',\n",
       "       'Lent begins on Ash Wednesday', 'Asalha Puja/Dharma Day',\n",
       "       'Both Houses sitting', 'Legislative council only',\n",
       "       'Both Houses sitting - Budget Day', 'Melbourne Cup day',\n",
       "       'Saturday before Easter Sunday', \"Queen's Birthday\",\n",
       "       'Easter Monday', 'Labour Day', 'Melbourne Cup',\n",
       "       \"New Year's Day - additional public holiday\", 'ANZAC Day',\n",
       "       'Good Friday', 'Christmas Day', 'Boxing Day', 'Australia day',\n",
       "       'Australia Day',\n",
       "       'Australia Day (26 Jan is a Sunday hence Monday is a public holiday)',\n",
       "       'Easter Sunday', \"New Year's Day\", 'New Years Day',\n",
       "       'Friday before the AFL grand final',\n",
       "       'Boxing Day - additional public holiday', 'Boxing day',\n",
       "       'Australia Day - As Australia Day falls on a Sunday the public holiday is on the following Monday',\n",
       "       \"Kings's Birthday\", 'Christmas Day - additional public holiday',\n",
       "       'Christmas day', 'Term 1 2019 - Holiday start date',\n",
       "       'Term 3 2022 - Holiday end date',\n",
       "       'Term 4 2022 - Holiday start date',\n",
       "       'Term 4 2020 - Holiday start date',\n",
       "       'Term 1 2021 - Holiday start date',\n",
       "       'Term 3 2023 - Holiday start date',\n",
       "       'Term 3 2022 - Holiday start date',\n",
       "       'Term 3 2021 - Holiday end date',\n",
       "       'Term 1 2024 - Holiday start date',\n",
       "       'Term 1 2025 - Holiday start date',\n",
       "       'Term 1 2020 - Holiday start date',\n",
       "       'Term 3 2020 - Holiday start date',\n",
       "       'Term 1 2024 - Holiday end date',\n",
       "       'Term 3 2024 - Holiday start date',\n",
       "       'Term 1 2023 - Holiday end date',\n",
       "       'Term 2 2023 - Holiday start date',\n",
       "       'Term 3 2021 - Holiday start date',\n",
       "       'Term 4 2024 - Holiday start date',\n",
       "       'Term 1 2022 - Holiday end date', 'Term 2 2022 - Holiday end date',\n",
       "       'Term 2 2025 - Holiday end date',\n",
       "       'Term 3 2025 - Holiday start date',\n",
       "       'Term 1 2025 - Holiday end date', 'Term 3 2025 - Holiday end date',\n",
       "       'Term 1 2019 Holiday end date', 'Term 4  2019 Holiday end date',\n",
       "       'Term 2 2020 - Holiday end date', 'Term 4 2021 - Holiday end date',\n",
       "       'Term 1 2022 - Holiday start date',\n",
       "       'Term 4 2023 - Holiday start date',\n",
       "       'Term 4 2023 - Holiday end date', 'Term 3 2024 - Holiday end date',\n",
       "       'Term 4 2022 - Holiday end date', 'Term 2 2023 - Holiday end date',\n",
       "       'Term 2 2024 - Holiday end date', 'Term 2 2021 - Holiday end date',\n",
       "       'Term2 2019 Holiday start date', 'Term 3 2019 - Holiday end date',\n",
       "       'Term 2 2021 - Holiday start date',\n",
       "       'Term 2 2025 - Holiday start date',\n",
       "       'Term 4 2025 - Holiday start date',\n",
       "       'Term 4 2021 - Holiday start date',\n",
       "       'Term 3 2019 - Holiday start date',\n",
       "       'Term 2 2019 - Holiday end date',\n",
       "       'Term 4 2019 - Holiday start date',\n",
       "       'Term 1 2020 - Holiday end date',\n",
       "       'Term 2 2020 - Holiday start date',\n",
       "       'Term 2 2022 - Holiday start date',\n",
       "       'Term 1 2023 - Holiday start date',\n",
       "       'Term 4 2020 - Holiday end date', 'Term 1 2021 - Holiday end date',\n",
       "       'Term 3 2020 - Holiday end date', 'Term 3 2023 - Holiday end date',\n",
       "       'Term 2 2024 - Holiday start date',\n",
       "       'Term 4 2024 - Holiday end date', 'Term 1 2019 -Start date',\n",
       "       'Term 1 2020 - Start date - Students start 29 January in government schools',\n",
       "       'Term 3 2020 - Start date', 'Term 4 2020 - End date',\n",
       "       'Term 3 2023 - Start date', 'Term 4 2023 - End date',\n",
       "       'Term 1 2024 - End date', 'Term 2 2024 - End date',\n",
       "       'Term 4 2022 - End date', 'Term 3 2019 - Start date',\n",
       "       'Term 1 2021 - End date', 'Term 3 2021 - Start date',\n",
       "       'Term 3 2020 - End date',\n",
       "       'Term 1 2022 - Start date - Students start 31 January in government schools',\n",
       "       'Term 1 2023 - Start date - Students start 30 January in government schools',\n",
       "       'Term 4 2020 - Start date', 'Term 4 2025 - End date',\n",
       "       'Term 1 2025 - Start date - Students start 29 January in government schools',\n",
       "       'Term 2 2025 - End date', 'Term 3 2025 - Start date',\n",
       "       'Term 2 2023 - Start date', 'Term 2 2023 - End date',\n",
       "       'Term 4 2021 - Start date', 'Term 4 2021 - End date',\n",
       "       'Term 1 2023 - Start date', 'Term 2 2024 - Start date',\n",
       "       'Term 1 2024 - Start date', 'Term 2 2020 - End date',\n",
       "       'Term 3 2023 - End date', 'Term 4 2025 - Start date',\n",
       "       'Term 1 2025 - Start date', 'Term 1 2019 -End date',\n",
       "       'Term 1 2024 - Start date - Students start 30 January in government schools',\n",
       "       'Term 3 2024 - Start date', 'Term 2 2022 - Start date',\n",
       "       'Term 2 2022 - End date', 'Term 4 2024 - Start date',\n",
       "       'Term 4 2022 - Start date', 'Term 1 2023 - End date',\n",
       "       'Term 2 2020 - Start date', 'Term 1 2020 - Start date',\n",
       "       'Term 1 2022 - End date', 'Term 1 2025 - End date',\n",
       "       'Term 3 2025 - End date', 'Term 2 2019 - Start date',\n",
       "       'Term 2 2019 - End date', 'Term 4 2019 -Start date',\n",
       "       'Term 3 2019-End date', 'Term 4 2019-End date',\n",
       "       'Term 1 2021 - Start date - Students start 28 January in government schools',\n",
       "       'Term 3 2022 - Start date', 'Term 1 2021 - Start date',\n",
       "       'Term 2 2021 - Start date', 'Term 1 2020 - End date',\n",
       "       'Term 3 2022 - End date', 'Term 1 2022 - Start date',\n",
       "       'Term 2 2021 - End date', 'Term 4 2024 - End date',\n",
       "       'Term 4 2023 - Start date', 'Term 2 2025 - Start date',\n",
       "       'Term 3 2024 - End date', 'Daylight Savings Ends',\n",
       "       'Daylight Savings Starts', 'Tet Nam Moiaabsc', 'Magha Puja Day',\n",
       "       'Tibetan New Year', 'Mahavir Jayanti', 'Asalha Puja', 'Ullambana',\n",
       "       'Paryushana', 'Samvatsari', 'Daslakshana', 'Kshamavani', 'Kathina',\n",
       "       'Shemini Atzeret', 'Mahavira Nirvana (Diwali)',\n",
       "       'Day of the Covenant', \"Ascension of Abdu'l-Baha\",\n",
       "       'Assembly only sitting', 'Council only sitting',\n",
       "       'National Day of Mourning', 'Epiphany (Orthdox)',\n",
       "       'Lailat at Miraj', 'Lent begins', 'Annunciation', 'Ashura',\n",
       "       'Regional sitting - Council only', 'Assembly only',\n",
       "       'Feast of Epiphany (Orthdox)', 'Lunar New Year',\n",
       "       'Losar/Tibetan New Year', 'Good/Holy Friday (Orthodox)',\n",
       "       'Saga Dawa Duchen',\n",
       "       'Term 1 2026 - Start date - students start 28 January in government schools',\n",
       "       'Term 2 2026 - Start date', 'Term 3 2026 - Start date',\n",
       "       'Term 4 2026 - Start date', 'Term 1 2026 - End date',\n",
       "       'Term 2 2026 - End date', 'Term 3 2026 - End date',\n",
       "       'Term 4 2026 - End date',\n",
       "       'Term 1 2027 - Start date - students start 28 January in government schools',\n",
       "       'Term 2 2027 - Start date', 'Term 3 2027 - Start date',\n",
       "       'Term 4 2027 - Start date', 'Term 1 2027 - End date',\n",
       "       'Term 2 2027 - End date', 'Term 3 2027 - End date',\n",
       "       'Term 4 2027 - End date',\n",
       "       'Term 1 2028 - Start date - students start 28 January in government schools',\n",
       "       'Term 2 2028 - Start date', 'Term 3 2028 - Start date',\n",
       "       'Term 4 2028 - Start date', 'Term 1 2028 - End date',\n",
       "       'Term 2 2028 - End date', 'Term 3 2028 - End date',\n",
       "       'Term 4 2028 - End date',\n",
       "       'Term 1 2029 - Start date - students start 30 January in government schools',\n",
       "       'Term 2 2029 - Start date', 'Term 3 2029 - Start date',\n",
       "       'Term 4 2029 - Start date', 'Term 1 2029 - End date',\n",
       "       'Term 2 2029 - End date', 'Term 3 2029 - End date',\n",
       "       'Term 4 2029 - End date',\n",
       "       'Term 1 2030 - Start date - students start 30 January in government schools',\n",
       "       'Term 2 2030 - Start date', 'Term 3 2030 - Start date',\n",
       "       'Term 4 2030 - Start date', 'Term 1 2030 - End date',\n",
       "       'Term 2 2030 - End date', 'Term 3 2030 - End date',\n",
       "       'Term 4 2030 - End date', 'Sikh New Year', 'Easter/Pascha',\n",
       "       'Vaisakhi'], dtype=object)"
      ]
     },
     "execution_count": 9,
     "metadata": {},
     "output_type": "execute_result"
    }
   ],
   "source": [
    "all_holidays_victoria_df[\"name\"].unique()"
   ]
  },
  {
   "cell_type": "code",
   "execution_count": 32,
   "id": "022e65bb",
   "metadata": {},
   "outputs": [],
   "source": [
    "school_holidays = all_holidays_victoria_df[all_holidays_victoria_df[\"dateType\"] == \"SCHOOL_HOLIDAY\"]\n"
   ]
  },
  {
   "cell_type": "code",
   "execution_count": null,
   "id": "a078e080",
   "metadata": {},
   "outputs": [
    {
     "name": "stderr",
     "output_type": "stream",
     "text": [
      "/var/folders/83/z6dh6x592f7cw62tg8hz97000000gp/T/ipykernel_26076/653416732.py:2: SettingWithCopyWarning: \n",
      "A value is trying to be set on a copy of a slice from a DataFrame.\n",
      "Try using .loc[row_indexer,col_indexer] = value instead\n",
      "\n",
      "See the caveats in the documentation: https://pandas.pydata.org/pandas-docs/stable/user_guide/indexing.html#returning-a-view-versus-a-copy\n",
      "  school_holidays[\"important_date\"] = pd.to_datetime(school_holidays[\"important_date\"], dayfirst=True)\n"
     ]
    }
   ],
   "source": [
    "# Convert string to datetime\n",
    "school_holidays[\"important_date\"] = pd.to_datetime(school_holidays[\"important_date\"], dayfirst=True)  \n"
   ]
  },
  {
   "cell_type": "code",
   "execution_count": null,
   "id": "97356d4c",
   "metadata": {},
   "outputs": [
    {
     "data": {
      "application/vnd.microsoft.datawrangler.viewer.v0+json": {
       "columns": [
        {
         "name": "index",
         "rawType": "int64",
         "type": "integer"
        },
        {
         "name": "week",
         "rawType": "datetime64[ns]",
         "type": "datetime"
        },
        {
         "name": "is_holiday",
         "rawType": "int64",
         "type": "integer"
        }
       ],
       "ref": "c9c40f62-9477-450e-8dfe-2b9d048c8b53",
       "rows": [
        [
         "0",
         "2019-01-07 00:00:00",
         "0"
        ],
        [
         "1",
         "2019-01-14 00:00:00",
         "0"
        ],
        [
         "2",
         "2019-01-21 00:00:00",
         "0"
        ],
        [
         "3",
         "2019-01-28 00:00:00",
         "0"
        ],
        [
         "4",
         "2019-02-04 00:00:00",
         "0"
        ],
        [
         "5",
         "2019-02-11 00:00:00",
         "0"
        ],
        [
         "6",
         "2019-02-18 00:00:00",
         "0"
        ],
        [
         "7",
         "2019-02-25 00:00:00",
         "0"
        ],
        [
         "8",
         "2019-03-04 00:00:00",
         "0"
        ],
        [
         "9",
         "2019-03-11 00:00:00",
         "0"
        ],
        [
         "10",
         "2019-03-18 00:00:00",
         "0"
        ],
        [
         "11",
         "2019-03-25 00:00:00",
         "0"
        ],
        [
         "12",
         "2019-04-01 00:00:00",
         "0"
        ],
        [
         "13",
         "2019-04-08 00:00:00",
         "1"
        ],
        [
         "14",
         "2019-04-15 00:00:00",
         "1"
        ],
        [
         "15",
         "2019-04-22 00:00:00",
         "0"
        ],
        [
         "16",
         "2019-04-29 00:00:00",
         "0"
        ],
        [
         "17",
         "2019-05-06 00:00:00",
         "0"
        ],
        [
         "18",
         "2019-05-13 00:00:00",
         "0"
        ],
        [
         "19",
         "2019-05-20 00:00:00",
         "0"
        ],
        [
         "20",
         "2019-05-27 00:00:00",
         "0"
        ],
        [
         "21",
         "2019-06-03 00:00:00",
         "0"
        ],
        [
         "22",
         "2019-06-10 00:00:00",
         "0"
        ],
        [
         "23",
         "2019-06-17 00:00:00",
         "0"
        ],
        [
         "24",
         "2019-06-24 00:00:00",
         "0"
        ],
        [
         "25",
         "2019-07-01 00:00:00",
         "1"
        ],
        [
         "26",
         "2019-07-08 00:00:00",
         "1"
        ],
        [
         "27",
         "2019-07-15 00:00:00",
         "0"
        ],
        [
         "28",
         "2019-07-22 00:00:00",
         "0"
        ],
        [
         "29",
         "2019-07-29 00:00:00",
         "0"
        ],
        [
         "30",
         "2019-08-05 00:00:00",
         "0"
        ],
        [
         "31",
         "2019-08-12 00:00:00",
         "0"
        ],
        [
         "32",
         "2019-08-19 00:00:00",
         "0"
        ],
        [
         "33",
         "2019-08-26 00:00:00",
         "0"
        ],
        [
         "34",
         "2019-09-02 00:00:00",
         "0"
        ],
        [
         "35",
         "2019-09-09 00:00:00",
         "0"
        ],
        [
         "36",
         "2019-09-16 00:00:00",
         "0"
        ],
        [
         "37",
         "2019-09-23 00:00:00",
         "1"
        ],
        [
         "38",
         "2019-09-30 00:00:00",
         "1"
        ],
        [
         "39",
         "2019-10-07 00:00:00",
         "0"
        ],
        [
         "40",
         "2019-10-14 00:00:00",
         "0"
        ],
        [
         "41",
         "2019-10-21 00:00:00",
         "0"
        ],
        [
         "42",
         "2019-10-28 00:00:00",
         "0"
        ],
        [
         "43",
         "2019-11-04 00:00:00",
         "0"
        ],
        [
         "44",
         "2019-11-11 00:00:00",
         "0"
        ],
        [
         "45",
         "2019-11-18 00:00:00",
         "0"
        ],
        [
         "46",
         "2019-11-25 00:00:00",
         "0"
        ],
        [
         "47",
         "2019-12-02 00:00:00",
         "0"
        ],
        [
         "48",
         "2019-12-09 00:00:00",
         "0"
        ],
        [
         "49",
         "2019-12-16 00:00:00",
         "0"
        ]
       ],
       "shape": {
        "columns": 2,
        "rows": 365
       }
      },
      "text/html": [
       "<div>\n",
       "<style scoped>\n",
       "    .dataframe tbody tr th:only-of-type {\n",
       "        vertical-align: middle;\n",
       "    }\n",
       "\n",
       "    .dataframe tbody tr th {\n",
       "        vertical-align: top;\n",
       "    }\n",
       "\n",
       "    .dataframe thead th {\n",
       "        text-align: right;\n",
       "    }\n",
       "</style>\n",
       "<table border=\"1\" class=\"dataframe\">\n",
       "  <thead>\n",
       "    <tr style=\"text-align: right;\">\n",
       "      <th></th>\n",
       "      <th>week</th>\n",
       "      <th>is_holiday</th>\n",
       "    </tr>\n",
       "  </thead>\n",
       "  <tbody>\n",
       "    <tr>\n",
       "      <th>0</th>\n",
       "      <td>2019-01-07</td>\n",
       "      <td>0</td>\n",
       "    </tr>\n",
       "    <tr>\n",
       "      <th>1</th>\n",
       "      <td>2019-01-14</td>\n",
       "      <td>0</td>\n",
       "    </tr>\n",
       "    <tr>\n",
       "      <th>2</th>\n",
       "      <td>2019-01-21</td>\n",
       "      <td>0</td>\n",
       "    </tr>\n",
       "    <tr>\n",
       "      <th>3</th>\n",
       "      <td>2019-01-28</td>\n",
       "      <td>0</td>\n",
       "    </tr>\n",
       "    <tr>\n",
       "      <th>4</th>\n",
       "      <td>2019-02-04</td>\n",
       "      <td>0</td>\n",
       "    </tr>\n",
       "    <tr>\n",
       "      <th>...</th>\n",
       "      <td>...</td>\n",
       "      <td>...</td>\n",
       "    </tr>\n",
       "    <tr>\n",
       "      <th>360</th>\n",
       "      <td>2025-12-01</td>\n",
       "      <td>0</td>\n",
       "    </tr>\n",
       "    <tr>\n",
       "      <th>361</th>\n",
       "      <td>2025-12-08</td>\n",
       "      <td>0</td>\n",
       "    </tr>\n",
       "    <tr>\n",
       "      <th>362</th>\n",
       "      <td>2025-12-15</td>\n",
       "      <td>0</td>\n",
       "    </tr>\n",
       "    <tr>\n",
       "      <th>363</th>\n",
       "      <td>2025-12-22</td>\n",
       "      <td>0</td>\n",
       "    </tr>\n",
       "    <tr>\n",
       "      <th>364</th>\n",
       "      <td>2025-12-29</td>\n",
       "      <td>0</td>\n",
       "    </tr>\n",
       "  </tbody>\n",
       "</table>\n",
       "<p>365 rows × 2 columns</p>\n",
       "</div>"
      ],
      "text/plain": [
       "          week  is_holiday\n",
       "0   2019-01-07           0\n",
       "1   2019-01-14           0\n",
       "2   2019-01-21           0\n",
       "3   2019-01-28           0\n",
       "4   2019-02-04           0\n",
       "..         ...         ...\n",
       "360 2025-12-01           0\n",
       "361 2025-12-08           0\n",
       "362 2025-12-15           0\n",
       "363 2025-12-22           0\n",
       "364 2025-12-29           0\n",
       "\n",
       "[365 rows x 2 columns]"
      ]
     },
     "execution_count": 46,
     "metadata": {},
     "output_type": "execute_result"
    }
   ],
   "source": [
    "import numpy as np\n",
    "import re\n",
    "\n",
    "# --- 0) Start from your dataframe of holidays only ---\n",
    "hol = school_holidays.copy()\n",
    "hol = hol[hol[\"dateType\"].eq(\"SCHOOL_HOLIDAY\")].copy()\n",
    "\n",
    "# Parse the date column\n",
    "hol[\"important_date\"] = pd.to_datetime(hol[\"important_date\"], dayfirst=True, errors=\"coerce\")\n",
    "\n",
    "# --- 1) Robust start/end detection (just the words 'start'/'end') ---\n",
    "name_lower = hol[\"name\"].str.lower()\n",
    "hol[\"boundary\"] = np.where(name_lower.str.contains(r\"\\bend\\b\"), \"end\",\n",
    "                   np.where(name_lower.str.contains(r\"\\bstart\\b\"), \"start\", pd.NA))\n",
    "\n",
    "# Keep only rows where we could tell start/end\n",
    "hol = hol.dropna(subset=[\"boundary\"])\n",
    "\n",
    "# --- 2) Extract a clean key to pair starts with ends (e.g., 'Term 3 2025') ---\n",
    "# Handles 'Term 3 2025', 'Term3 2025', extra spaces, etc.\n",
    "hol[\"term\"] = hol[\"name\"].str.extract(r\"term\\s*([1-4])\", flags=re.I, expand=True)\n",
    "hol[\"year\"] = hol[\"name\"].str.extract(r\"(20\\d{2}|2030)\", flags=re.I, expand=True)\n",
    "hol = hol.dropna(subset=[\"term\",\"year\"])\n",
    "hol[\"term_key\"] = \"Term \" + hol[\"term\"].astype(str) + \" \" + hol[\"year\"].astype(str)\n",
    "\n",
    "# --- 3) Get one start + end per term_key (min/max covers duplicates) ---\n",
    "tidy = (hol.groupby([\"term_key\"])\n",
    "          .agg(start=(\"important_date\", lambda s: s[name_lower.loc[s.index].str.contains(r\"\\bstart\\b\")].min()),\n",
    "               end  =(\"important_date\", lambda s: s[name_lower.loc[s.index].str.contains(r\"\\bend\\b\")].max()))\n",
    "          .reset_index())\n",
    "\n",
    "# Drop incomplete or reversed intervals\n",
    "tidy = tidy.dropna(subset=[\"start\",\"end\"])\n",
    "tidy = tidy[tidy[\"start\"] <= tidy[\"end\"]].sort_values(\"start\").reset_index(drop=True)\n",
    "\n",
    "# --- 4) Weekly calendar with overlap logic (counts weeks that partially overlap) ---\n",
    "calendar = pd.DataFrame({\"week\": pd.date_range(\"2014-01-01\", \"2030-12-31\", freq=\"W-MON\")})\n",
    "calendar[\"week_end\"] = calendar[\"week\"] + pd.Timedelta(days=6)\n",
    "calendar[\"is_holiday\"] = 0\n",
    "\n",
    "for _, r in tidy.iterrows():\n",
    "    overlap = (calendar[\"week_end\"] >= r[\"start\"]) & (calendar[\"week\"] <= r[\"end\"])\n",
    "    calendar.loc[overlap, \"is_holiday\"] = 1\n",
    "\n",
    "holiday_weeks_victoria = calendar[[\"week\", \"is_holiday\"]]\n",
    "\n",
    "# Find the range of years actually present in your Excel file\n",
    "min_year = hol[\"important_date\"].dt.year.min()\n",
    "max_year = hol[\"important_date\"].dt.year.max()\n",
    "\n",
    "# Keep only weeks within that year range\n",
    "holiday_weeks_victoria = holiday_weeks_victoria[\n",
    "    (holiday_weeks_victoria[\"week\"].dt.year >= min_year) &\n",
    "    (holiday_weeks_victoria[\"week\"].dt.year <= max_year)\n",
    "].reset_index(drop=True)\n",
    "\n",
    "holiday_weeks_victoria\n"
   ]
  },
  {
   "cell_type": "code",
   "execution_count": 39,
   "id": "ed96b1aa",
   "metadata": {},
   "outputs": [
    {
     "data": {
      "application/vnd.microsoft.datawrangler.viewer.v0+json": {
       "columns": [
        {
         "name": "index",
         "rawType": "int64",
         "type": "integer"
        },
        {
         "name": "City",
         "rawType": "object",
         "type": "string"
        },
        {
         "name": "Date",
         "rawType": "object",
         "type": "string"
        },
        {
         "name": "schoolhols",
         "rawType": "int64",
         "type": "integer"
        },
        {
         "name": "school.hols",
         "rawType": "float64",
         "type": "float"
        }
       ],
       "ref": "972794f2-5f14-4d84-87a4-353e9dbe2839",
       "rows": [
        [
         "1",
         "Adelaide",
         "2004-01-01",
         "1",
         "4.0"
        ],
        [
         "2",
         "Brisbane",
         "2004-01-01",
         "1",
         "4.0"
        ],
        [
         "3",
         "Canberra",
         "2004-01-01",
         "1",
         "4.0"
        ],
        [
         "4",
         "Darwin",
         "2004-01-01",
         "1",
         "4.0"
        ],
        [
         "5",
         "Hobart",
         "2004-01-01",
         "1",
         "4.0"
        ],
        [
         "6",
         "Melbourne",
         "2004-01-01",
         "1",
         "4.0"
        ],
        [
         "7",
         "Perth",
         "2004-01-01",
         "1",
         "4.0"
        ],
        [
         "8",
         "Sydney",
         "2004-01-01",
         "1",
         "4.0"
        ],
        [
         "9",
         "Adelaide",
         "2004-01-02",
         "1",
         "4.0"
        ],
        [
         "10",
         "Brisbane",
         "2004-01-02",
         "1",
         "4.0"
        ],
        [
         "11",
         "Canberra",
         "2004-01-02",
         "1",
         "4.0"
        ],
        [
         "12",
         "Darwin",
         "2004-01-02",
         "1",
         "4.0"
        ],
        [
         "13",
         "Hobart",
         "2004-01-02",
         "1",
         "4.0"
        ],
        [
         "14",
         "Melbourne",
         "2004-01-02",
         "1",
         "4.0"
        ],
        [
         "15",
         "Perth",
         "2004-01-02",
         "1",
         "4.0"
        ],
        [
         "16",
         "Sydney",
         "2004-01-02",
         "1",
         "4.0"
        ],
        [
         "17",
         "Adelaide",
         "2004-01-03",
         "1",
         "4.0"
        ],
        [
         "18",
         "Brisbane",
         "2004-01-03",
         "1",
         "4.0"
        ],
        [
         "19",
         "Canberra",
         "2004-01-03",
         "1",
         "4.0"
        ],
        [
         "20",
         "Darwin",
         "2004-01-03",
         "1",
         "4.0"
        ],
        [
         "21",
         "Hobart",
         "2004-01-03",
         "1",
         "4.0"
        ],
        [
         "22",
         "Melbourne",
         "2004-01-03",
         "1",
         "4.0"
        ],
        [
         "23",
         "Perth",
         "2004-01-03",
         "1",
         "4.0"
        ],
        [
         "24",
         "Sydney",
         "2004-01-03",
         "1",
         "4.0"
        ],
        [
         "25",
         "Adelaide",
         "2004-01-04",
         "1",
         "4.0"
        ],
        [
         "26",
         "Brisbane",
         "2004-01-04",
         "1",
         "4.0"
        ],
        [
         "27",
         "Canberra",
         "2004-01-04",
         "1",
         "4.0"
        ],
        [
         "28",
         "Darwin",
         "2004-01-04",
         "1",
         "4.0"
        ],
        [
         "29",
         "Hobart",
         "2004-01-04",
         "1",
         "4.0"
        ],
        [
         "30",
         "Melbourne",
         "2004-01-04",
         "1",
         "4.0"
        ],
        [
         "31",
         "Perth",
         "2004-01-04",
         "1",
         "4.0"
        ],
        [
         "32",
         "Sydney",
         "2004-01-04",
         "1",
         "4.0"
        ],
        [
         "33",
         "Adelaide",
         "2004-01-05",
         "1",
         "4.0"
        ],
        [
         "34",
         "Brisbane",
         "2004-01-05",
         "1",
         "4.0"
        ],
        [
         "35",
         "Canberra",
         "2004-01-05",
         "1",
         "4.0"
        ],
        [
         "36",
         "Darwin",
         "2004-01-05",
         "1",
         "4.0"
        ],
        [
         "37",
         "Hobart",
         "2004-01-05",
         "1",
         "4.0"
        ],
        [
         "38",
         "Melbourne",
         "2004-01-05",
         "1",
         "4.0"
        ],
        [
         "39",
         "Perth",
         "2004-01-05",
         "1",
         "4.0"
        ],
        [
         "40",
         "Sydney",
         "2004-01-05",
         "1",
         "4.0"
        ],
        [
         "41",
         "Adelaide",
         "2004-01-06",
         "1",
         "4.0"
        ],
        [
         "42",
         "Brisbane",
         "2004-01-06",
         "1",
         "4.0"
        ],
        [
         "43",
         "Canberra",
         "2004-01-06",
         "1",
         "4.0"
        ],
        [
         "44",
         "Darwin",
         "2004-01-06",
         "1",
         "4.0"
        ],
        [
         "45",
         "Hobart",
         "2004-01-06",
         "1",
         "4.0"
        ],
        [
         "46",
         "Melbourne",
         "2004-01-06",
         "1",
         "4.0"
        ],
        [
         "47",
         "Perth",
         "2004-01-06",
         "1",
         "4.0"
        ],
        [
         "48",
         "Sydney",
         "2004-01-06",
         "1",
         "4.0"
        ],
        [
         "49",
         "Adelaide",
         "2004-01-07",
         "1",
         "4.0"
        ],
        [
         "50",
         "Brisbane",
         "2004-01-07",
         "1",
         "4.0"
        ]
       ],
       "shape": {
        "columns": 4,
        "rows": 58440
       }
      },
      "text/html": [
       "<div>\n",
       "<style scoped>\n",
       "    .dataframe tbody tr th:only-of-type {\n",
       "        vertical-align: middle;\n",
       "    }\n",
       "\n",
       "    .dataframe tbody tr th {\n",
       "        vertical-align: top;\n",
       "    }\n",
       "\n",
       "    .dataframe thead th {\n",
       "        text-align: right;\n",
       "    }\n",
       "</style>\n",
       "<table border=\"1\" class=\"dataframe\">\n",
       "  <thead>\n",
       "    <tr style=\"text-align: right;\">\n",
       "      <th></th>\n",
       "      <th>City</th>\n",
       "      <th>Date</th>\n",
       "      <th>schoolhols</th>\n",
       "      <th>school.hols</th>\n",
       "    </tr>\n",
       "  </thead>\n",
       "  <tbody>\n",
       "    <tr>\n",
       "      <th>1</th>\n",
       "      <td>Adelaide</td>\n",
       "      <td>2004-01-01</td>\n",
       "      <td>1</td>\n",
       "      <td>4.0</td>\n",
       "    </tr>\n",
       "    <tr>\n",
       "      <th>2</th>\n",
       "      <td>Brisbane</td>\n",
       "      <td>2004-01-01</td>\n",
       "      <td>1</td>\n",
       "      <td>4.0</td>\n",
       "    </tr>\n",
       "    <tr>\n",
       "      <th>3</th>\n",
       "      <td>Canberra</td>\n",
       "      <td>2004-01-01</td>\n",
       "      <td>1</td>\n",
       "      <td>4.0</td>\n",
       "    </tr>\n",
       "    <tr>\n",
       "      <th>4</th>\n",
       "      <td>Darwin</td>\n",
       "      <td>2004-01-01</td>\n",
       "      <td>1</td>\n",
       "      <td>4.0</td>\n",
       "    </tr>\n",
       "    <tr>\n",
       "      <th>5</th>\n",
       "      <td>Hobart</td>\n",
       "      <td>2004-01-01</td>\n",
       "      <td>1</td>\n",
       "      <td>4.0</td>\n",
       "    </tr>\n",
       "    <tr>\n",
       "      <th>...</th>\n",
       "      <td>...</td>\n",
       "      <td>...</td>\n",
       "      <td>...</td>\n",
       "      <td>...</td>\n",
       "    </tr>\n",
       "    <tr>\n",
       "      <th>58436</th>\n",
       "      <td>Darwin</td>\n",
       "      <td>2023-12-31</td>\n",
       "      <td>1</td>\n",
       "      <td>4.0</td>\n",
       "    </tr>\n",
       "    <tr>\n",
       "      <th>58437</th>\n",
       "      <td>Hobart</td>\n",
       "      <td>2023-12-31</td>\n",
       "      <td>1</td>\n",
       "      <td>4.0</td>\n",
       "    </tr>\n",
       "    <tr>\n",
       "      <th>58438</th>\n",
       "      <td>Melbourne</td>\n",
       "      <td>2023-12-31</td>\n",
       "      <td>1</td>\n",
       "      <td>4.0</td>\n",
       "    </tr>\n",
       "    <tr>\n",
       "      <th>58439</th>\n",
       "      <td>Perth</td>\n",
       "      <td>2023-12-31</td>\n",
       "      <td>1</td>\n",
       "      <td>4.0</td>\n",
       "    </tr>\n",
       "    <tr>\n",
       "      <th>58440</th>\n",
       "      <td>Sydney</td>\n",
       "      <td>2023-12-31</td>\n",
       "      <td>1</td>\n",
       "      <td>4.0</td>\n",
       "    </tr>\n",
       "  </tbody>\n",
       "</table>\n",
       "<p>58440 rows × 4 columns</p>\n",
       "</div>"
      ],
      "text/plain": [
       "            City        Date  schoolhols  school.hols\n",
       "1       Adelaide  2004-01-01           1          4.0\n",
       "2       Brisbane  2004-01-01           1          4.0\n",
       "3       Canberra  2004-01-01           1          4.0\n",
       "4         Darwin  2004-01-01           1          4.0\n",
       "5         Hobart  2004-01-01           1          4.0\n",
       "...          ...         ...         ...          ...\n",
       "58436     Darwin  2023-12-31           1          4.0\n",
       "58437     Hobart  2023-12-31           1          4.0\n",
       "58438  Melbourne  2023-12-31           1          4.0\n",
       "58439      Perth  2023-12-31           1          4.0\n",
       "58440     Sydney  2023-12-31           1          4.0\n",
       "\n",
       "[58440 rows x 4 columns]"
      ]
     },
     "execution_count": 39,
     "metadata": {},
     "output_type": "execute_result"
    }
   ],
   "source": [
    "school_holidays_all_states = pd.read_csv(\"school.holidays_all_states.txt\")\n",
    "school_holidays_all_states"
   ]
  },
  {
   "cell_type": "code",
   "execution_count": 47,
   "id": "16d7b659",
   "metadata": {},
   "outputs": [
    {
     "name": "stdout",
     "output_type": "stream",
     "text": [
      "Min date: 2004-01-01 00:00:00\n",
      "Max date: 2023-12-31 00:00:00\n"
     ]
    }
   ],
   "source": [
    "# Make sure Date column is datetime\n",
    "school_holidays_all_states[\"Date\"] = pd.to_datetime(school_holidays_all_states[\"Date\"])\n",
    "\n",
    "# Find min and max\n",
    "min_date = school_holidays_all_states[\"Date\"].min()\n",
    "max_date = school_holidays_all_states[\"Date\"].max()\n",
    "\n",
    "print(\"Min date:\", min_date)\n",
    "print(\"Max date:\", max_date)\n"
   ]
  },
  {
   "cell_type": "code",
   "execution_count": 83,
   "id": "02867225",
   "metadata": {},
   "outputs": [
    {
     "data": {
      "application/vnd.microsoft.datawrangler.viewer.v0+json": {
       "columns": [
        {
         "name": "index",
         "rawType": "int64",
         "type": "integer"
        },
        {
         "name": "week",
         "rawType": "datetime64[ns]",
         "type": "datetime"
        },
        {
         "name": "is_holiday",
         "rawType": "int64",
         "type": "integer"
        }
       ],
       "ref": "478f9e24-22f5-42ad-a694-04fcf45ff973",
       "rows": [
        [
         "0",
         "2003-12-30 00:00:00",
         "1"
        ],
        [
         "1",
         "2004-01-06 00:00:00",
         "1"
        ],
        [
         "2",
         "2004-01-13 00:00:00",
         "1"
        ],
        [
         "3",
         "2004-01-20 00:00:00",
         "1"
        ],
        [
         "4",
         "2004-01-27 00:00:00",
         "1"
        ],
        [
         "5",
         "2004-02-03 00:00:00",
         "0"
        ],
        [
         "6",
         "2004-02-10 00:00:00",
         "0"
        ],
        [
         "7",
         "2004-02-17 00:00:00",
         "0"
        ],
        [
         "8",
         "2004-02-24 00:00:00",
         "0"
        ],
        [
         "9",
         "2004-03-02 00:00:00",
         "0"
        ],
        [
         "10",
         "2004-03-09 00:00:00",
         "0"
        ],
        [
         "11",
         "2004-03-16 00:00:00",
         "0"
        ],
        [
         "12",
         "2004-03-23 00:00:00",
         "0"
        ],
        [
         "13",
         "2004-03-30 00:00:00",
         "1"
        ],
        [
         "14",
         "2004-04-06 00:00:00",
         "1"
        ],
        [
         "15",
         "2004-04-13 00:00:00",
         "1"
        ],
        [
         "16",
         "2004-04-20 00:00:00",
         "0"
        ],
        [
         "17",
         "2004-04-27 00:00:00",
         "0"
        ],
        [
         "18",
         "2004-05-04 00:00:00",
         "0"
        ],
        [
         "19",
         "2004-05-11 00:00:00",
         "0"
        ],
        [
         "20",
         "2004-05-18 00:00:00",
         "0"
        ],
        [
         "21",
         "2004-05-25 00:00:00",
         "0"
        ],
        [
         "22",
         "2004-06-01 00:00:00",
         "0"
        ],
        [
         "23",
         "2004-06-08 00:00:00",
         "0"
        ],
        [
         "24",
         "2004-06-15 00:00:00",
         "0"
        ],
        [
         "25",
         "2004-06-22 00:00:00",
         "1"
        ],
        [
         "26",
         "2004-06-29 00:00:00",
         "1"
        ],
        [
         "27",
         "2004-07-06 00:00:00",
         "1"
        ],
        [
         "28",
         "2004-07-13 00:00:00",
         "0"
        ],
        [
         "29",
         "2004-07-20 00:00:00",
         "0"
        ],
        [
         "30",
         "2004-07-27 00:00:00",
         "0"
        ],
        [
         "31",
         "2004-08-03 00:00:00",
         "0"
        ],
        [
         "32",
         "2004-08-10 00:00:00",
         "0"
        ],
        [
         "33",
         "2004-08-17 00:00:00",
         "0"
        ],
        [
         "34",
         "2004-08-24 00:00:00",
         "0"
        ],
        [
         "35",
         "2004-08-31 00:00:00",
         "0"
        ],
        [
         "36",
         "2004-09-07 00:00:00",
         "0"
        ],
        [
         "37",
         "2004-09-14 00:00:00",
         "1"
        ],
        [
         "38",
         "2004-09-21 00:00:00",
         "1"
        ],
        [
         "39",
         "2004-09-28 00:00:00",
         "1"
        ],
        [
         "40",
         "2004-10-05 00:00:00",
         "0"
        ],
        [
         "41",
         "2004-10-12 00:00:00",
         "0"
        ],
        [
         "42",
         "2004-10-19 00:00:00",
         "0"
        ],
        [
         "43",
         "2004-10-26 00:00:00",
         "0"
        ],
        [
         "44",
         "2004-11-02 00:00:00",
         "0"
        ],
        [
         "45",
         "2004-11-09 00:00:00",
         "0"
        ],
        [
         "46",
         "2004-11-16 00:00:00",
         "0"
        ],
        [
         "47",
         "2004-11-23 00:00:00",
         "0"
        ],
        [
         "48",
         "2004-11-30 00:00:00",
         "0"
        ],
        [
         "49",
         "2004-12-07 00:00:00",
         "0"
        ]
       ],
       "shape": {
        "columns": 2,
        "rows": 1409
       }
      },
      "text/html": [
       "<div>\n",
       "<style scoped>\n",
       "    .dataframe tbody tr th:only-of-type {\n",
       "        vertical-align: middle;\n",
       "    }\n",
       "\n",
       "    .dataframe tbody tr th {\n",
       "        vertical-align: top;\n",
       "    }\n",
       "\n",
       "    .dataframe thead th {\n",
       "        text-align: right;\n",
       "    }\n",
       "</style>\n",
       "<table border=\"1\" class=\"dataframe\">\n",
       "  <thead>\n",
       "    <tr style=\"text-align: right;\">\n",
       "      <th></th>\n",
       "      <th>week</th>\n",
       "      <th>is_holiday</th>\n",
       "    </tr>\n",
       "  </thead>\n",
       "  <tbody>\n",
       "    <tr>\n",
       "      <th>0</th>\n",
       "      <td>2003-12-30</td>\n",
       "      <td>1</td>\n",
       "    </tr>\n",
       "    <tr>\n",
       "      <th>1</th>\n",
       "      <td>2004-01-06</td>\n",
       "      <td>1</td>\n",
       "    </tr>\n",
       "    <tr>\n",
       "      <th>2</th>\n",
       "      <td>2004-01-13</td>\n",
       "      <td>1</td>\n",
       "    </tr>\n",
       "    <tr>\n",
       "      <th>3</th>\n",
       "      <td>2004-01-20</td>\n",
       "      <td>1</td>\n",
       "    </tr>\n",
       "    <tr>\n",
       "      <th>4</th>\n",
       "      <td>2004-01-27</td>\n",
       "      <td>1</td>\n",
       "    </tr>\n",
       "    <tr>\n",
       "      <th>...</th>\n",
       "      <td>...</td>\n",
       "      <td>...</td>\n",
       "    </tr>\n",
       "    <tr>\n",
       "      <th>1404</th>\n",
       "      <td>2025-12-01</td>\n",
       "      <td>0</td>\n",
       "    </tr>\n",
       "    <tr>\n",
       "      <th>1405</th>\n",
       "      <td>2025-12-08</td>\n",
       "      <td>0</td>\n",
       "    </tr>\n",
       "    <tr>\n",
       "      <th>1406</th>\n",
       "      <td>2025-12-15</td>\n",
       "      <td>0</td>\n",
       "    </tr>\n",
       "    <tr>\n",
       "      <th>1407</th>\n",
       "      <td>2025-12-22</td>\n",
       "      <td>0</td>\n",
       "    </tr>\n",
       "    <tr>\n",
       "      <th>1408</th>\n",
       "      <td>2025-12-29</td>\n",
       "      <td>0</td>\n",
       "    </tr>\n",
       "  </tbody>\n",
       "</table>\n",
       "<p>1409 rows × 2 columns</p>\n",
       "</div>"
      ],
      "text/plain": [
       "           week  is_holiday\n",
       "0    2003-12-30           1\n",
       "1    2004-01-06           1\n",
       "2    2004-01-13           1\n",
       "3    2004-01-20           1\n",
       "4    2004-01-27           1\n",
       "...         ...         ...\n",
       "1404 2025-12-01           0\n",
       "1405 2025-12-08           0\n",
       "1406 2025-12-15           0\n",
       "1407 2025-12-22           0\n",
       "1408 2025-12-29           0\n",
       "\n",
       "[1409 rows x 2 columns]"
      ]
     },
     "execution_count": 83,
     "metadata": {},
     "output_type": "execute_result"
    }
   ],
   "source": [
    "# Concat both sources\n",
    "combined = pd.concat([\n",
    "    holiday_weeks_victoria.assign(source=\"vic\"),\n",
    "    mel_weekly[[\"week\", \"is_holiday\"]].assign(source=\"mel\")\n",
    "])\n",
    "\n",
    "# Prefer mel where overlap: sort so mel rows come first\n",
    "combined = combined.sort_values([\"week\", \"source\"], ascending=[True, False])\n",
    "\n",
    "# Drop duplicates, keeping the first occurrence (mel first)\n",
    "combined = combined.drop_duplicates(subset=\"week\", keep=\"first\")\n",
    "\n",
    "# Final combined dataframe\n",
    "holiday_weeks_victoria = combined.sort_values(\"week\")[[\"week\", \"is_holiday\"]].reset_index(drop=True)\n",
    "\n",
    "holiday_weeks_victoria\n"
   ]
  },
  {
   "cell_type": "code",
   "execution_count": 82,
   "id": "1dd94b37",
   "metadata": {},
   "outputs": [
    {
     "data": {
      "application/vnd.microsoft.datawrangler.viewer.v0+json": {
       "columns": [
        {
         "name": "index",
         "rawType": "int64",
         "type": "integer"
        },
        {
         "name": "week",
         "rawType": "datetime64[ns]",
         "type": "datetime"
        },
        {
         "name": "is_holiday",
         "rawType": "int64",
         "type": "integer"
        }
       ],
       "ref": "4ac2b926-64b2-45ee-83ee-ef8dcfa84841",
       "rows": [
        [
         "0",
         "2003-12-30 00:00:00",
         "1"
        ],
        [
         "1",
         "2004-01-06 00:00:00",
         "1"
        ],
        [
         "2",
         "2004-01-13 00:00:00",
         "1"
        ],
        [
         "3",
         "2004-01-20 00:00:00",
         "1"
        ],
        [
         "4",
         "2004-01-27 00:00:00",
         "1"
        ],
        [
         "5",
         "2004-02-03 00:00:00",
         "0"
        ],
        [
         "6",
         "2004-02-10 00:00:00",
         "0"
        ],
        [
         "7",
         "2004-02-17 00:00:00",
         "0"
        ],
        [
         "8",
         "2004-02-24 00:00:00",
         "0"
        ],
        [
         "9",
         "2004-03-02 00:00:00",
         "0"
        ],
        [
         "10",
         "2004-03-09 00:00:00",
         "0"
        ],
        [
         "11",
         "2004-03-16 00:00:00",
         "0"
        ],
        [
         "12",
         "2004-03-23 00:00:00",
         "0"
        ],
        [
         "13",
         "2004-03-30 00:00:00",
         "1"
        ],
        [
         "14",
         "2004-04-06 00:00:00",
         "1"
        ],
        [
         "15",
         "2004-04-13 00:00:00",
         "1"
        ],
        [
         "16",
         "2004-04-20 00:00:00",
         "0"
        ],
        [
         "17",
         "2004-04-27 00:00:00",
         "0"
        ],
        [
         "18",
         "2004-05-04 00:00:00",
         "0"
        ],
        [
         "19",
         "2004-05-11 00:00:00",
         "0"
        ],
        [
         "20",
         "2004-05-18 00:00:00",
         "0"
        ],
        [
         "21",
         "2004-05-25 00:00:00",
         "0"
        ],
        [
         "22",
         "2004-06-01 00:00:00",
         "0"
        ],
        [
         "23",
         "2004-06-08 00:00:00",
         "0"
        ],
        [
         "24",
         "2004-06-15 00:00:00",
         "0"
        ],
        [
         "25",
         "2004-06-22 00:00:00",
         "1"
        ],
        [
         "26",
         "2004-06-29 00:00:00",
         "1"
        ],
        [
         "27",
         "2004-07-06 00:00:00",
         "1"
        ],
        [
         "28",
         "2004-07-13 00:00:00",
         "0"
        ],
        [
         "29",
         "2004-07-20 00:00:00",
         "0"
        ],
        [
         "30",
         "2004-07-27 00:00:00",
         "0"
        ],
        [
         "31",
         "2004-08-03 00:00:00",
         "0"
        ],
        [
         "32",
         "2004-08-10 00:00:00",
         "0"
        ],
        [
         "33",
         "2004-08-17 00:00:00",
         "0"
        ],
        [
         "34",
         "2004-08-24 00:00:00",
         "0"
        ],
        [
         "35",
         "2004-08-31 00:00:00",
         "0"
        ],
        [
         "36",
         "2004-09-07 00:00:00",
         "0"
        ],
        [
         "37",
         "2004-09-14 00:00:00",
         "1"
        ],
        [
         "38",
         "2004-09-21 00:00:00",
         "1"
        ],
        [
         "39",
         "2004-09-28 00:00:00",
         "1"
        ],
        [
         "40",
         "2004-10-05 00:00:00",
         "0"
        ],
        [
         "41",
         "2004-10-12 00:00:00",
         "0"
        ],
        [
         "42",
         "2004-10-19 00:00:00",
         "0"
        ],
        [
         "43",
         "2004-10-26 00:00:00",
         "0"
        ],
        [
         "44",
         "2004-11-02 00:00:00",
         "0"
        ],
        [
         "45",
         "2004-11-09 00:00:00",
         "0"
        ],
        [
         "46",
         "2004-11-16 00:00:00",
         "0"
        ],
        [
         "47",
         "2004-11-23 00:00:00",
         "0"
        ],
        [
         "48",
         "2004-11-30 00:00:00",
         "0"
        ],
        [
         "49",
         "2004-12-07 00:00:00",
         "0"
        ]
       ],
       "shape": {
        "columns": 2,
        "rows": 1409
       }
      },
      "text/html": [
       "<div>\n",
       "<style scoped>\n",
       "    .dataframe tbody tr th:only-of-type {\n",
       "        vertical-align: middle;\n",
       "    }\n",
       "\n",
       "    .dataframe tbody tr th {\n",
       "        vertical-align: top;\n",
       "    }\n",
       "\n",
       "    .dataframe thead th {\n",
       "        text-align: right;\n",
       "    }\n",
       "</style>\n",
       "<table border=\"1\" class=\"dataframe\">\n",
       "  <thead>\n",
       "    <tr style=\"text-align: right;\">\n",
       "      <th></th>\n",
       "      <th>week</th>\n",
       "      <th>is_holiday</th>\n",
       "    </tr>\n",
       "  </thead>\n",
       "  <tbody>\n",
       "    <tr>\n",
       "      <th>0</th>\n",
       "      <td>2003-12-30</td>\n",
       "      <td>1</td>\n",
       "    </tr>\n",
       "    <tr>\n",
       "      <th>1</th>\n",
       "      <td>2004-01-06</td>\n",
       "      <td>1</td>\n",
       "    </tr>\n",
       "    <tr>\n",
       "      <th>2</th>\n",
       "      <td>2004-01-13</td>\n",
       "      <td>1</td>\n",
       "    </tr>\n",
       "    <tr>\n",
       "      <th>3</th>\n",
       "      <td>2004-01-20</td>\n",
       "      <td>1</td>\n",
       "    </tr>\n",
       "    <tr>\n",
       "      <th>4</th>\n",
       "      <td>2004-01-27</td>\n",
       "      <td>1</td>\n",
       "    </tr>\n",
       "    <tr>\n",
       "      <th>...</th>\n",
       "      <td>...</td>\n",
       "      <td>...</td>\n",
       "    </tr>\n",
       "    <tr>\n",
       "      <th>1404</th>\n",
       "      <td>2025-12-01</td>\n",
       "      <td>0</td>\n",
       "    </tr>\n",
       "    <tr>\n",
       "      <th>1405</th>\n",
       "      <td>2025-12-08</td>\n",
       "      <td>0</td>\n",
       "    </tr>\n",
       "    <tr>\n",
       "      <th>1406</th>\n",
       "      <td>2025-12-15</td>\n",
       "      <td>0</td>\n",
       "    </tr>\n",
       "    <tr>\n",
       "      <th>1407</th>\n",
       "      <td>2025-12-22</td>\n",
       "      <td>0</td>\n",
       "    </tr>\n",
       "    <tr>\n",
       "      <th>1408</th>\n",
       "      <td>2025-12-29</td>\n",
       "      <td>0</td>\n",
       "    </tr>\n",
       "  </tbody>\n",
       "</table>\n",
       "<p>1409 rows × 2 columns</p>\n",
       "</div>"
      ],
      "text/plain": [
       "           week  is_holiday\n",
       "0    2003-12-30           1\n",
       "1    2004-01-06           1\n",
       "2    2004-01-13           1\n",
       "3    2004-01-20           1\n",
       "4    2004-01-27           1\n",
       "...         ...         ...\n",
       "1404 2025-12-01           0\n",
       "1405 2025-12-08           0\n",
       "1406 2025-12-15           0\n",
       "1407 2025-12-22           0\n",
       "1408 2025-12-29           0\n",
       "\n",
       "[1409 rows x 2 columns]"
      ]
     },
     "execution_count": 82,
     "metadata": {},
     "output_type": "execute_result"
    }
   ],
   "source": [
    "# Concat both sources\n",
    "combined = pd.concat([\n",
    "    holiday_weeks_victoria.assign(source=\"vic\"),\n",
    "    mel_weekly[[\"week\", \"is_holiday\"]].assign(source=\"mel\")\n",
    "])\n",
    "\n",
    "# Prefer vic where overlap: sort so vic rows come first\n",
    "combined = combined.sort_values([\"week\", \"source\"], ascending=[True, True])\n",
    "\n",
    "# Drop duplicates, keeping the first occurrence (vic first)\n",
    "combined = combined.drop_duplicates(subset=\"week\", keep=\"first\")\n",
    "\n",
    "# Final combined dataframe\n",
    "holiday_weeks_victoria = combined.sort_values(\"week\")[[\"week\", \"is_holiday\"]].reset_index(drop=True)\n",
    "\n",
    "holiday_weeks_victoria\n",
    "\n"
   ]
  },
  {
   "cell_type": "code",
   "execution_count": 65,
   "id": "7f651963",
   "metadata": {},
   "outputs": [
    {
     "data": {
      "application/vnd.microsoft.datawrangler.viewer.v0+json": {
       "columns": [
        {
         "name": "index",
         "rawType": "int64",
         "type": "integer"
        },
        {
         "name": "week",
         "rawType": "datetime64[ns]",
         "type": "datetime"
        },
        {
         "name": "is_holiday",
         "rawType": "int64",
         "type": "integer"
        }
       ],
       "ref": "0f3b4216-08d5-494e-8bec-30b38e475299",
       "rows": [
        [
         "0",
         "2003-12-30 00:00:00",
         "1"
        ],
        [
         "1",
         "2004-01-06 00:00:00",
         "1"
        ],
        [
         "2",
         "2004-01-13 00:00:00",
         "1"
        ],
        [
         "3",
         "2004-01-20 00:00:00",
         "1"
        ],
        [
         "4",
         "2004-01-27 00:00:00",
         "0"
        ],
        [
         "5",
         "2004-02-03 00:00:00",
         "0"
        ],
        [
         "6",
         "2004-02-10 00:00:00",
         "0"
        ],
        [
         "7",
         "2004-02-17 00:00:00",
         "0"
        ],
        [
         "8",
         "2004-02-24 00:00:00",
         "0"
        ],
        [
         "9",
         "2004-03-02 00:00:00",
         "0"
        ],
        [
         "10",
         "2004-03-09 00:00:00",
         "0"
        ],
        [
         "11",
         "2004-03-16 00:00:00",
         "0"
        ],
        [
         "12",
         "2004-03-23 00:00:00",
         "0"
        ],
        [
         "13",
         "2004-03-30 00:00:00",
         "0"
        ],
        [
         "14",
         "2004-04-06 00:00:00",
         "1"
        ],
        [
         "15",
         "2004-04-13 00:00:00",
         "1"
        ],
        [
         "16",
         "2004-04-20 00:00:00",
         "1"
        ],
        [
         "17",
         "2004-04-27 00:00:00",
         "0"
        ],
        [
         "18",
         "2004-05-04 00:00:00",
         "0"
        ],
        [
         "19",
         "2004-05-11 00:00:00",
         "0"
        ],
        [
         "20",
         "2004-05-18 00:00:00",
         "0"
        ],
        [
         "21",
         "2004-05-25 00:00:00",
         "0"
        ],
        [
         "22",
         "2004-06-01 00:00:00",
         "0"
        ],
        [
         "23",
         "2004-06-08 00:00:00",
         "0"
        ],
        [
         "24",
         "2004-06-15 00:00:00",
         "0"
        ],
        [
         "25",
         "2004-06-22 00:00:00",
         "0"
        ],
        [
         "26",
         "2004-06-29 00:00:00",
         "1"
        ],
        [
         "27",
         "2004-07-06 00:00:00",
         "1"
        ],
        [
         "28",
         "2004-07-13 00:00:00",
         "1"
        ],
        [
         "29",
         "2004-07-20 00:00:00",
         "0"
        ],
        [
         "30",
         "2004-07-27 00:00:00",
         "0"
        ],
        [
         "31",
         "2004-08-03 00:00:00",
         "0"
        ],
        [
         "32",
         "2004-08-10 00:00:00",
         "0"
        ],
        [
         "33",
         "2004-08-17 00:00:00",
         "0"
        ],
        [
         "34",
         "2004-08-24 00:00:00",
         "0"
        ],
        [
         "35",
         "2004-08-31 00:00:00",
         "0"
        ],
        [
         "36",
         "2004-09-07 00:00:00",
         "0"
        ],
        [
         "37",
         "2004-09-14 00:00:00",
         "0"
        ],
        [
         "38",
         "2004-09-21 00:00:00",
         "1"
        ],
        [
         "39",
         "2004-09-28 00:00:00",
         "1"
        ],
        [
         "40",
         "2004-10-05 00:00:00",
         "1"
        ],
        [
         "41",
         "2004-10-12 00:00:00",
         "0"
        ],
        [
         "42",
         "2004-10-19 00:00:00",
         "0"
        ],
        [
         "43",
         "2004-10-26 00:00:00",
         "0"
        ],
        [
         "44",
         "2004-11-02 00:00:00",
         "0"
        ],
        [
         "45",
         "2004-11-09 00:00:00",
         "0"
        ],
        [
         "46",
         "2004-11-16 00:00:00",
         "0"
        ],
        [
         "47",
         "2004-11-23 00:00:00",
         "0"
        ],
        [
         "48",
         "2004-11-30 00:00:00",
         "0"
        ],
        [
         "49",
         "2004-12-07 00:00:00",
         "0"
        ]
       ],
       "shape": {
        "columns": 2,
        "rows": 1044
       }
      },
      "text/html": [
       "<div>\n",
       "<style scoped>\n",
       "    .dataframe tbody tr th:only-of-type {\n",
       "        vertical-align: middle;\n",
       "    }\n",
       "\n",
       "    .dataframe tbody tr th {\n",
       "        vertical-align: top;\n",
       "    }\n",
       "\n",
       "    .dataframe thead th {\n",
       "        text-align: right;\n",
       "    }\n",
       "</style>\n",
       "<table border=\"1\" class=\"dataframe\">\n",
       "  <thead>\n",
       "    <tr style=\"text-align: right;\">\n",
       "      <th></th>\n",
       "      <th>week</th>\n",
       "      <th>is_holiday</th>\n",
       "    </tr>\n",
       "  </thead>\n",
       "  <tbody>\n",
       "    <tr>\n",
       "      <th>0</th>\n",
       "      <td>2003-12-30</td>\n",
       "      <td>1</td>\n",
       "    </tr>\n",
       "    <tr>\n",
       "      <th>1</th>\n",
       "      <td>2004-01-06</td>\n",
       "      <td>1</td>\n",
       "    </tr>\n",
       "    <tr>\n",
       "      <th>2</th>\n",
       "      <td>2004-01-13</td>\n",
       "      <td>1</td>\n",
       "    </tr>\n",
       "    <tr>\n",
       "      <th>3</th>\n",
       "      <td>2004-01-20</td>\n",
       "      <td>1</td>\n",
       "    </tr>\n",
       "    <tr>\n",
       "      <th>4</th>\n",
       "      <td>2004-01-27</td>\n",
       "      <td>0</td>\n",
       "    </tr>\n",
       "    <tr>\n",
       "      <th>...</th>\n",
       "      <td>...</td>\n",
       "      <td>...</td>\n",
       "    </tr>\n",
       "    <tr>\n",
       "      <th>1039</th>\n",
       "      <td>2023-11-28</td>\n",
       "      <td>0</td>\n",
       "    </tr>\n",
       "    <tr>\n",
       "      <th>1040</th>\n",
       "      <td>2023-12-05</td>\n",
       "      <td>0</td>\n",
       "    </tr>\n",
       "    <tr>\n",
       "      <th>1041</th>\n",
       "      <td>2023-12-12</td>\n",
       "      <td>0</td>\n",
       "    </tr>\n",
       "    <tr>\n",
       "      <th>1042</th>\n",
       "      <td>2023-12-19</td>\n",
       "      <td>1</td>\n",
       "    </tr>\n",
       "    <tr>\n",
       "      <th>1043</th>\n",
       "      <td>2023-12-26</td>\n",
       "      <td>1</td>\n",
       "    </tr>\n",
       "  </tbody>\n",
       "</table>\n",
       "<p>1044 rows × 2 columns</p>\n",
       "</div>"
      ],
      "text/plain": [
       "           week  is_holiday\n",
       "0    2003-12-30           1\n",
       "1    2004-01-06           1\n",
       "2    2004-01-13           1\n",
       "3    2004-01-20           1\n",
       "4    2004-01-27           0\n",
       "...         ...         ...\n",
       "1039 2023-11-28           0\n",
       "1040 2023-12-05           0\n",
       "1041 2023-12-12           0\n",
       "1042 2023-12-19           1\n",
       "1043 2023-12-26           1\n",
       "\n",
       "[1044 rows x 2 columns]"
      ]
     },
     "execution_count": 65,
     "metadata": {},
     "output_type": "execute_result"
    }
   ],
   "source": [
    "# Filter Sydney only\n",
    "syd = school_holidays_all_states[\n",
    "    school_holidays_all_states[\"City\"].str.lower() == \"sydney\"\n",
    "].copy()\n",
    "\n",
    "# 1) ensure datetime\n",
    "syd[\"Date\"] = pd.to_datetime(syd[\"Date\"], errors=\"coerce\")\n",
    "\n",
    "# 2) map each day to its week start (Monday)\n",
    "syd[\"week\"] = syd[\"Date\"].dt.to_period(\"W-MON\").dt.start_time\n",
    "\n",
    "# 3) weekly dummy: if any day in the week is a holiday -> 1\n",
    "syd_weekly = (syd.groupby(\"week\")[\"schoolhols\"]\n",
    "                .max()\n",
    "                .reset_index()\n",
    "                .rename(columns={\"schoolhols\": \"is_holiday\"}))\n",
    "\n",
    "# optional: sort\n",
    "syd_weekly = syd_weekly.sort_values(\"week\").reset_index(drop=True)\n",
    "\n",
    "syd_weekly"
   ]
  },
  {
   "cell_type": "code",
   "execution_count": 68,
   "id": "ade44455",
   "metadata": {},
   "outputs": [
    {
     "data": {
      "application/vnd.microsoft.datawrangler.viewer.v0+json": {
       "columns": [
        {
         "name": "index",
         "rawType": "int64",
         "type": "integer"
        },
        {
         "name": "START_DAY",
         "rawType": "object",
         "type": "string"
        },
        {
         "name": "END_DAY",
         "rawType": "object",
         "type": "string"
        }
       ],
       "ref": "23476dba-6f82-4367-946e-810adbc579f3",
       "rows": [
        [
         "0",
         "29/01/2019",
         "12/04/2019"
        ],
        [
         "1",
         "29/04/2019",
         "5/07/2019"
        ],
        [
         "2",
         "22/07/2019",
         "27/09/2019"
        ],
        [
         "3",
         "14/10/2019",
         "20/12/2019"
        ],
        [
         "4",
         "28/01/2020",
         "9/04/2020"
        ],
        [
         "5",
         "27/04/2020",
         "3/07/2020"
        ],
        [
         "6",
         "20/07/2020",
         "25/09/2020"
        ],
        [
         "7",
         "12/10/2020",
         "18/12/2020"
        ],
        [
         "8",
         "27/01/2021",
         "1/04/2021"
        ],
        [
         "9",
         "19/04/2021",
         "25/06/2021"
        ],
        [
         "10",
         "12/07/2021",
         "17/09/2021"
        ],
        [
         "11",
         "5/10/2021",
         "17/12/2021"
        ],
        [
         "12",
         "28/01/2022",
         "8/04/2022"
        ],
        [
         "13",
         "26/04/2022",
         "1/07/2022"
        ],
        [
         "14",
         "18/07/2022",
         "23/09/2022"
        ],
        [
         "15",
         "10/10/2022",
         "20/12/2022"
        ],
        [
         "16",
         "27/01/2023",
         "6/04/2023"
        ],
        [
         "17",
         "24/04/2023",
         "30/06/2023"
        ],
        [
         "18",
         "17/07/2023",
         "22/09/2023"
        ],
        [
         "19",
         "9/10/2023",
         "19/12/2023"
        ],
        [
         "20",
         "30/01/2024",
         "12/04/2024"
        ],
        [
         "21",
         "29/04/2024",
         "5/07/2024"
        ],
        [
         "22",
         "22/07/2024",
         "27/09/2024"
        ],
        [
         "23",
         "14/10/2024",
         "20/12/2024"
        ],
        [
         "24",
         "31/01/2025",
         "11/04/2025"
        ],
        [
         "25",
         "28/04/2025",
         "4/07/2025"
        ],
        [
         "26",
         "21/07/2025",
         "26/09/2025"
        ],
        [
         "27",
         "13/10/2025",
         "19/12/2025"
        ]
       ],
       "shape": {
        "columns": 2,
        "rows": 28
       }
      },
      "text/html": [
       "<div>\n",
       "<style scoped>\n",
       "    .dataframe tbody tr th:only-of-type {\n",
       "        vertical-align: middle;\n",
       "    }\n",
       "\n",
       "    .dataframe tbody tr th {\n",
       "        vertical-align: top;\n",
       "    }\n",
       "\n",
       "    .dataframe thead th {\n",
       "        text-align: right;\n",
       "    }\n",
       "</style>\n",
       "<table border=\"1\" class=\"dataframe\">\n",
       "  <thead>\n",
       "    <tr style=\"text-align: right;\">\n",
       "      <th></th>\n",
       "      <th>START_DAY</th>\n",
       "      <th>END_DAY</th>\n",
       "    </tr>\n",
       "  </thead>\n",
       "  <tbody>\n",
       "    <tr>\n",
       "      <th>0</th>\n",
       "      <td>29/01/2019</td>\n",
       "      <td>12/04/2019</td>\n",
       "    </tr>\n",
       "    <tr>\n",
       "      <th>1</th>\n",
       "      <td>29/04/2019</td>\n",
       "      <td>5/07/2019</td>\n",
       "    </tr>\n",
       "    <tr>\n",
       "      <th>2</th>\n",
       "      <td>22/07/2019</td>\n",
       "      <td>27/09/2019</td>\n",
       "    </tr>\n",
       "    <tr>\n",
       "      <th>3</th>\n",
       "      <td>14/10/2019</td>\n",
       "      <td>20/12/2019</td>\n",
       "    </tr>\n",
       "    <tr>\n",
       "      <th>4</th>\n",
       "      <td>28/01/2020</td>\n",
       "      <td>9/04/2020</td>\n",
       "    </tr>\n",
       "    <tr>\n",
       "      <th>5</th>\n",
       "      <td>27/04/2020</td>\n",
       "      <td>3/07/2020</td>\n",
       "    </tr>\n",
       "    <tr>\n",
       "      <th>6</th>\n",
       "      <td>20/07/2020</td>\n",
       "      <td>25/09/2020</td>\n",
       "    </tr>\n",
       "    <tr>\n",
       "      <th>7</th>\n",
       "      <td>12/10/2020</td>\n",
       "      <td>18/12/2020</td>\n",
       "    </tr>\n",
       "    <tr>\n",
       "      <th>8</th>\n",
       "      <td>27/01/2021</td>\n",
       "      <td>1/04/2021</td>\n",
       "    </tr>\n",
       "    <tr>\n",
       "      <th>9</th>\n",
       "      <td>19/04/2021</td>\n",
       "      <td>25/06/2021</td>\n",
       "    </tr>\n",
       "    <tr>\n",
       "      <th>10</th>\n",
       "      <td>12/07/2021</td>\n",
       "      <td>17/09/2021</td>\n",
       "    </tr>\n",
       "    <tr>\n",
       "      <th>11</th>\n",
       "      <td>5/10/2021</td>\n",
       "      <td>17/12/2021</td>\n",
       "    </tr>\n",
       "    <tr>\n",
       "      <th>12</th>\n",
       "      <td>28/01/2022</td>\n",
       "      <td>8/04/2022</td>\n",
       "    </tr>\n",
       "    <tr>\n",
       "      <th>13</th>\n",
       "      <td>26/04/2022</td>\n",
       "      <td>1/07/2022</td>\n",
       "    </tr>\n",
       "    <tr>\n",
       "      <th>14</th>\n",
       "      <td>18/07/2022</td>\n",
       "      <td>23/09/2022</td>\n",
       "    </tr>\n",
       "    <tr>\n",
       "      <th>15</th>\n",
       "      <td>10/10/2022</td>\n",
       "      <td>20/12/2022</td>\n",
       "    </tr>\n",
       "    <tr>\n",
       "      <th>16</th>\n",
       "      <td>27/01/2023</td>\n",
       "      <td>6/04/2023</td>\n",
       "    </tr>\n",
       "    <tr>\n",
       "      <th>17</th>\n",
       "      <td>24/04/2023</td>\n",
       "      <td>30/06/2023</td>\n",
       "    </tr>\n",
       "    <tr>\n",
       "      <th>18</th>\n",
       "      <td>17/07/2023</td>\n",
       "      <td>22/09/2023</td>\n",
       "    </tr>\n",
       "    <tr>\n",
       "      <th>19</th>\n",
       "      <td>9/10/2023</td>\n",
       "      <td>19/12/2023</td>\n",
       "    </tr>\n",
       "    <tr>\n",
       "      <th>20</th>\n",
       "      <td>30/01/2024</td>\n",
       "      <td>12/04/2024</td>\n",
       "    </tr>\n",
       "    <tr>\n",
       "      <th>21</th>\n",
       "      <td>29/04/2024</td>\n",
       "      <td>5/07/2024</td>\n",
       "    </tr>\n",
       "    <tr>\n",
       "      <th>22</th>\n",
       "      <td>22/07/2024</td>\n",
       "      <td>27/09/2024</td>\n",
       "    </tr>\n",
       "    <tr>\n",
       "      <th>23</th>\n",
       "      <td>14/10/2024</td>\n",
       "      <td>20/12/2024</td>\n",
       "    </tr>\n",
       "    <tr>\n",
       "      <th>24</th>\n",
       "      <td>31/01/2025</td>\n",
       "      <td>11/04/2025</td>\n",
       "    </tr>\n",
       "    <tr>\n",
       "      <th>25</th>\n",
       "      <td>28/04/2025</td>\n",
       "      <td>4/07/2025</td>\n",
       "    </tr>\n",
       "    <tr>\n",
       "      <th>26</th>\n",
       "      <td>21/07/2025</td>\n",
       "      <td>26/09/2025</td>\n",
       "    </tr>\n",
       "    <tr>\n",
       "      <th>27</th>\n",
       "      <td>13/10/2025</td>\n",
       "      <td>19/12/2025</td>\n",
       "    </tr>\n",
       "  </tbody>\n",
       "</table>\n",
       "</div>"
      ],
      "text/plain": [
       "     START_DAY     END_DAY\n",
       "0   29/01/2019  12/04/2019\n",
       "1   29/04/2019   5/07/2019\n",
       "2   22/07/2019  27/09/2019\n",
       "3   14/10/2019  20/12/2019\n",
       "4   28/01/2020   9/04/2020\n",
       "5   27/04/2020   3/07/2020\n",
       "6   20/07/2020  25/09/2020\n",
       "7   12/10/2020  18/12/2020\n",
       "8   27/01/2021   1/04/2021\n",
       "9   19/04/2021  25/06/2021\n",
       "10  12/07/2021  17/09/2021\n",
       "11   5/10/2021  17/12/2021\n",
       "12  28/01/2022   8/04/2022\n",
       "13  26/04/2022   1/07/2022\n",
       "14  18/07/2022  23/09/2022\n",
       "15  10/10/2022  20/12/2022\n",
       "16  27/01/2023   6/04/2023\n",
       "17  24/04/2023  30/06/2023\n",
       "18  17/07/2023  22/09/2023\n",
       "19   9/10/2023  19/12/2023\n",
       "20  30/01/2024  12/04/2024\n",
       "21  29/04/2024   5/07/2024\n",
       "22  22/07/2024  27/09/2024\n",
       "23  14/10/2024  20/12/2024\n",
       "24  31/01/2025  11/04/2025\n",
       "25  28/04/2025   4/07/2025\n",
       "26  21/07/2025  26/09/2025\n",
       "27  13/10/2025  19/12/2025"
      ]
     },
     "execution_count": 68,
     "metadata": {},
     "output_type": "execute_result"
    }
   ],
   "source": [
    "school_holidays_nsw = pd.read_csv(\"school_holidays_nsw.csv\")\n",
    "school_holidays_nsw"
   ]
  },
  {
   "cell_type": "code",
   "execution_count": 70,
   "id": "2fae033e",
   "metadata": {},
   "outputs": [
    {
     "data": {
      "application/vnd.microsoft.datawrangler.viewer.v0+json": {
       "columns": [
        {
         "name": "index",
         "rawType": "int64",
         "type": "integer"
        },
        {
         "name": "week",
         "rawType": "datetime64[ns]",
         "type": "datetime"
        },
        {
         "name": "is_holiday",
         "rawType": "int64",
         "type": "integer"
        }
       ],
       "ref": "49b8846a-e52a-4855-a1d6-a57d2ccb87c2",
       "rows": [
        [
         "0",
         "2019-04-15 00:00:00",
         "1"
        ],
        [
         "1",
         "2019-04-22 00:00:00",
         "1"
        ],
        [
         "2",
         "2019-04-29 00:00:00",
         "0"
        ],
        [
         "3",
         "2019-05-06 00:00:00",
         "0"
        ],
        [
         "4",
         "2019-05-13 00:00:00",
         "0"
        ],
        [
         "5",
         "2019-05-20 00:00:00",
         "0"
        ],
        [
         "6",
         "2019-05-27 00:00:00",
         "0"
        ],
        [
         "7",
         "2019-06-03 00:00:00",
         "0"
        ],
        [
         "8",
         "2019-06-10 00:00:00",
         "0"
        ],
        [
         "9",
         "2019-06-17 00:00:00",
         "0"
        ],
        [
         "10",
         "2019-06-24 00:00:00",
         "0"
        ],
        [
         "11",
         "2019-07-01 00:00:00",
         "1"
        ],
        [
         "12",
         "2019-07-08 00:00:00",
         "1"
        ],
        [
         "13",
         "2019-07-15 00:00:00",
         "1"
        ],
        [
         "14",
         "2019-07-22 00:00:00",
         "0"
        ],
        [
         "15",
         "2019-07-29 00:00:00",
         "0"
        ],
        [
         "16",
         "2019-08-05 00:00:00",
         "0"
        ],
        [
         "17",
         "2019-08-12 00:00:00",
         "0"
        ],
        [
         "18",
         "2019-08-19 00:00:00",
         "0"
        ],
        [
         "19",
         "2019-08-26 00:00:00",
         "0"
        ],
        [
         "20",
         "2019-09-02 00:00:00",
         "0"
        ],
        [
         "21",
         "2019-09-09 00:00:00",
         "0"
        ],
        [
         "22",
         "2019-09-16 00:00:00",
         "0"
        ],
        [
         "23",
         "2019-09-23 00:00:00",
         "1"
        ],
        [
         "24",
         "2019-09-30 00:00:00",
         "1"
        ],
        [
         "25",
         "2019-10-07 00:00:00",
         "1"
        ],
        [
         "26",
         "2019-10-14 00:00:00",
         "0"
        ],
        [
         "27",
         "2019-10-21 00:00:00",
         "0"
        ],
        [
         "28",
         "2019-10-28 00:00:00",
         "0"
        ],
        [
         "29",
         "2019-11-04 00:00:00",
         "0"
        ],
        [
         "30",
         "2019-11-11 00:00:00",
         "0"
        ],
        [
         "31",
         "2019-11-18 00:00:00",
         "0"
        ],
        [
         "32",
         "2019-11-25 00:00:00",
         "0"
        ],
        [
         "33",
         "2019-12-02 00:00:00",
         "0"
        ],
        [
         "34",
         "2019-12-09 00:00:00",
         "0"
        ],
        [
         "35",
         "2019-12-16 00:00:00",
         "1"
        ],
        [
         "36",
         "2019-12-23 00:00:00",
         "1"
        ],
        [
         "37",
         "2019-12-30 00:00:00",
         "1"
        ],
        [
         "38",
         "2020-01-06 00:00:00",
         "1"
        ],
        [
         "39",
         "2020-01-13 00:00:00",
         "1"
        ],
        [
         "40",
         "2020-01-20 00:00:00",
         "1"
        ],
        [
         "41",
         "2020-01-27 00:00:00",
         "1"
        ],
        [
         "42",
         "2020-02-03 00:00:00",
         "0"
        ],
        [
         "43",
         "2020-02-10 00:00:00",
         "0"
        ],
        [
         "44",
         "2020-02-17 00:00:00",
         "0"
        ],
        [
         "45",
         "2020-02-24 00:00:00",
         "0"
        ],
        [
         "46",
         "2020-03-02 00:00:00",
         "0"
        ],
        [
         "47",
         "2020-03-09 00:00:00",
         "0"
        ],
        [
         "48",
         "2020-03-16 00:00:00",
         "0"
        ],
        [
         "49",
         "2020-03-23 00:00:00",
         "0"
        ]
       ],
       "shape": {
        "columns": 2,
        "rows": 339
       }
      },
      "text/html": [
       "<div>\n",
       "<style scoped>\n",
       "    .dataframe tbody tr th:only-of-type {\n",
       "        vertical-align: middle;\n",
       "    }\n",
       "\n",
       "    .dataframe tbody tr th {\n",
       "        vertical-align: top;\n",
       "    }\n",
       "\n",
       "    .dataframe thead th {\n",
       "        text-align: right;\n",
       "    }\n",
       "</style>\n",
       "<table border=\"1\" class=\"dataframe\">\n",
       "  <thead>\n",
       "    <tr style=\"text-align: right;\">\n",
       "      <th></th>\n",
       "      <th>week</th>\n",
       "      <th>is_holiday</th>\n",
       "    </tr>\n",
       "  </thead>\n",
       "  <tbody>\n",
       "    <tr>\n",
       "      <th>0</th>\n",
       "      <td>2019-04-15</td>\n",
       "      <td>1</td>\n",
       "    </tr>\n",
       "    <tr>\n",
       "      <th>1</th>\n",
       "      <td>2019-04-22</td>\n",
       "      <td>1</td>\n",
       "    </tr>\n",
       "    <tr>\n",
       "      <th>2</th>\n",
       "      <td>2019-04-29</td>\n",
       "      <td>0</td>\n",
       "    </tr>\n",
       "    <tr>\n",
       "      <th>3</th>\n",
       "      <td>2019-05-06</td>\n",
       "      <td>0</td>\n",
       "    </tr>\n",
       "    <tr>\n",
       "      <th>4</th>\n",
       "      <td>2019-05-13</td>\n",
       "      <td>0</td>\n",
       "    </tr>\n",
       "    <tr>\n",
       "      <th>...</th>\n",
       "      <td>...</td>\n",
       "      <td>...</td>\n",
       "    </tr>\n",
       "    <tr>\n",
       "      <th>334</th>\n",
       "      <td>2025-09-08</td>\n",
       "      <td>0</td>\n",
       "    </tr>\n",
       "    <tr>\n",
       "      <th>335</th>\n",
       "      <td>2025-09-15</td>\n",
       "      <td>0</td>\n",
       "    </tr>\n",
       "    <tr>\n",
       "      <th>336</th>\n",
       "      <td>2025-09-22</td>\n",
       "      <td>1</td>\n",
       "    </tr>\n",
       "    <tr>\n",
       "      <th>337</th>\n",
       "      <td>2025-09-29</td>\n",
       "      <td>1</td>\n",
       "    </tr>\n",
       "    <tr>\n",
       "      <th>338</th>\n",
       "      <td>2025-10-06</td>\n",
       "      <td>1</td>\n",
       "    </tr>\n",
       "  </tbody>\n",
       "</table>\n",
       "<p>339 rows × 2 columns</p>\n",
       "</div>"
      ],
      "text/plain": [
       "          week  is_holiday\n",
       "0   2019-04-15           1\n",
       "1   2019-04-22           1\n",
       "2   2019-04-29           0\n",
       "3   2019-05-06           0\n",
       "4   2019-05-13           0\n",
       "..         ...         ...\n",
       "334 2025-09-08           0\n",
       "335 2025-09-15           0\n",
       "336 2025-09-22           1\n",
       "337 2025-09-29           1\n",
       "338 2025-10-06           1\n",
       "\n",
       "[339 rows x 2 columns]"
      ]
     },
     "execution_count": 70,
     "metadata": {},
     "output_type": "execute_result"
    }
   ],
   "source": [
    "import pandas as pd\n",
    "\n",
    "nsw = school_holidays_nsw.copy()\n",
    "\n",
    "# 1) Parse dates & sort\n",
    "nsw[\"START_DAY\"] = pd.to_datetime(nsw[\"START_DAY\"], dayfirst=True, errors=\"coerce\")\n",
    "nsw[\"END_DAY\"]   = pd.to_datetime(nsw[\"END_DAY\"],   dayfirst=True, errors=\"coerce\")\n",
    "nsw = nsw.sort_values([\"START_DAY\", \"END_DAY\"]).reset_index(drop=True)\n",
    "\n",
    "# 2) Holidays are the GAPS between consecutive terms:\n",
    "#    holiday_start = previous term's END_DAY + 1\n",
    "#    holiday_end   = next term's START_DAY - 1\n",
    "nsw[\"next_start\"]   = nsw[\"START_DAY\"].shift(-1)\n",
    "hol = pd.DataFrame({\n",
    "    \"holiday_start\": nsw[\"END_DAY\"]   + pd.Timedelta(days=1),\n",
    "    \"holiday_end\":   nsw[\"next_start\"] - pd.Timedelta(days=1),\n",
    "})\n",
    "\n",
    "# Keep valid gaps only\n",
    "hol = hol.dropna()\n",
    "hol = hol[hol[\"holiday_start\"] <= hol[\"holiday_end\"]].reset_index(drop=True)\n",
    "\n",
    "# 3) Build weekly calendar over the covered range\n",
    "weeks = pd.date_range(hol[\"holiday_start\"].min().floor(\"D\"),\n",
    "                      hol[\"holiday_end\"].max().ceil(\"D\"),\n",
    "                      freq=\"W-MON\")\n",
    "calendar = pd.DataFrame({\"week\": weeks})\n",
    "calendar[\"week_end\"] = calendar[\"week\"] + pd.Timedelta(days=6)\n",
    "calendar[\"is_holiday\"] = 0\n",
    "\n",
    "# 4) Mark weeks as holiday if the week interval overlaps any holiday interval\n",
    "for _, r in hol.iterrows():\n",
    "    overlap = (calendar[\"week_end\"] >= r[\"holiday_start\"]) & (calendar[\"week\"] <= r[\"holiday_end\"])\n",
    "    calendar.loc[overlap, \"is_holiday\"] = 1\n",
    "\n",
    "# 5) Final output in the same format as `syd_weekly`\n",
    "nsw_weekly = calendar[[\"week\", \"is_holiday\"]].sort_values(\"week\").reset_index(drop=True)\n",
    "\n",
    "nsw_weekly\n"
   ]
  },
  {
   "cell_type": "code",
   "execution_count": null,
   "id": "40063d82",
   "metadata": {},
   "outputs": [],
   "source": [
    "import pandas as pd\n",
    "import numpy as np\n",
    "\n",
    "# ensure same dtypes\n",
    "syd_weekly[\"week\"] = pd.to_datetime(syd_weekly[\"week\"])\n",
    "nsw_weekly[\"week\"] = pd.to_datetime(nsw_weekly[\"week\"])\n",
    "\n",
    "combined = syd_weekly.merge(\n",
    "    nsw_weekly, on=\"week\", how=\"outer\", suffixes=(\"_syd\", \"_nsw\")\n",
    ")\n",
    "\n",
    "# use Sydney if it exists, otherwise NSW\n",
    "combined[\"is_holiday\"] = combined[\"is_holiday_syd\"].where(\n",
    "    combined[\"is_holiday_syd\"].notna(), combined[\"is_holiday_nsw\"]\n",
    ").fillna(0).astype(int)\n",
    "\n",
    "holiday_weeks_sydney = (combined[[\"week\", \"is_holiday\"]]\n",
    "                .sort_values(\"week\")\n",
    "                .reset_index(drop=True))\n",
    "holiday_weeks_sydney\n",
    "\n"
   ]
  },
  {
   "cell_type": "markdown",
   "id": "bb2f8b0d",
   "metadata": {},
   "source": [
    "# School Holidays for Sydney and Melbourne"
   ]
  },
  {
   "cell_type": "code",
   "execution_count": 85,
   "id": "86c41029",
   "metadata": {},
   "outputs": [
    {
     "data": {
      "application/vnd.microsoft.datawrangler.viewer.v0+json": {
       "columns": [
        {
         "name": "index",
         "rawType": "int64",
         "type": "integer"
        },
        {
         "name": "week",
         "rawType": "datetime64[ns]",
         "type": "datetime"
        },
        {
         "name": "is_holiday",
         "rawType": "int64",
         "type": "integer"
        }
       ],
       "ref": "1d404b6d-81d3-48b1-978a-6e4ec6999067",
       "rows": [
        [
         "0",
         "2003-12-30 00:00:00",
         "1"
        ],
        [
         "1",
         "2004-01-06 00:00:00",
         "1"
        ],
        [
         "2",
         "2004-01-13 00:00:00",
         "1"
        ],
        [
         "3",
         "2004-01-20 00:00:00",
         "1"
        ],
        [
         "4",
         "2004-01-27 00:00:00",
         "0"
        ],
        [
         "5",
         "2004-02-03 00:00:00",
         "0"
        ],
        [
         "6",
         "2004-02-10 00:00:00",
         "0"
        ],
        [
         "7",
         "2004-02-17 00:00:00",
         "0"
        ],
        [
         "8",
         "2004-02-24 00:00:00",
         "0"
        ],
        [
         "9",
         "2004-03-02 00:00:00",
         "0"
        ],
        [
         "10",
         "2004-03-09 00:00:00",
         "0"
        ],
        [
         "11",
         "2004-03-16 00:00:00",
         "0"
        ],
        [
         "12",
         "2004-03-23 00:00:00",
         "0"
        ],
        [
         "13",
         "2004-03-30 00:00:00",
         "0"
        ],
        [
         "14",
         "2004-04-06 00:00:00",
         "1"
        ],
        [
         "15",
         "2004-04-13 00:00:00",
         "1"
        ],
        [
         "16",
         "2004-04-20 00:00:00",
         "1"
        ],
        [
         "17",
         "2004-04-27 00:00:00",
         "0"
        ],
        [
         "18",
         "2004-05-04 00:00:00",
         "0"
        ],
        [
         "19",
         "2004-05-11 00:00:00",
         "0"
        ],
        [
         "20",
         "2004-05-18 00:00:00",
         "0"
        ],
        [
         "21",
         "2004-05-25 00:00:00",
         "0"
        ],
        [
         "22",
         "2004-06-01 00:00:00",
         "0"
        ],
        [
         "23",
         "2004-06-08 00:00:00",
         "0"
        ],
        [
         "24",
         "2004-06-15 00:00:00",
         "0"
        ],
        [
         "25",
         "2004-06-22 00:00:00",
         "0"
        ],
        [
         "26",
         "2004-06-29 00:00:00",
         "1"
        ],
        [
         "27",
         "2004-07-06 00:00:00",
         "1"
        ],
        [
         "28",
         "2004-07-13 00:00:00",
         "1"
        ],
        [
         "29",
         "2004-07-20 00:00:00",
         "0"
        ],
        [
         "30",
         "2004-07-27 00:00:00",
         "0"
        ],
        [
         "31",
         "2004-08-03 00:00:00",
         "0"
        ],
        [
         "32",
         "2004-08-10 00:00:00",
         "0"
        ],
        [
         "33",
         "2004-08-17 00:00:00",
         "0"
        ],
        [
         "34",
         "2004-08-24 00:00:00",
         "0"
        ],
        [
         "35",
         "2004-08-31 00:00:00",
         "0"
        ],
        [
         "36",
         "2004-09-07 00:00:00",
         "0"
        ],
        [
         "37",
         "2004-09-14 00:00:00",
         "0"
        ],
        [
         "38",
         "2004-09-21 00:00:00",
         "1"
        ],
        [
         "39",
         "2004-09-28 00:00:00",
         "1"
        ],
        [
         "40",
         "2004-10-05 00:00:00",
         "1"
        ],
        [
         "41",
         "2004-10-12 00:00:00",
         "0"
        ],
        [
         "42",
         "2004-10-19 00:00:00",
         "0"
        ],
        [
         "43",
         "2004-10-26 00:00:00",
         "0"
        ],
        [
         "44",
         "2004-11-02 00:00:00",
         "0"
        ],
        [
         "45",
         "2004-11-09 00:00:00",
         "0"
        ],
        [
         "46",
         "2004-11-16 00:00:00",
         "0"
        ],
        [
         "47",
         "2004-11-23 00:00:00",
         "0"
        ],
        [
         "48",
         "2004-11-30 00:00:00",
         "0"
        ],
        [
         "49",
         "2004-12-07 00:00:00",
         "0"
        ]
       ],
       "shape": {
        "columns": 2,
        "rows": 1383
       }
      },
      "text/html": [
       "<div>\n",
       "<style scoped>\n",
       "    .dataframe tbody tr th:only-of-type {\n",
       "        vertical-align: middle;\n",
       "    }\n",
       "\n",
       "    .dataframe tbody tr th {\n",
       "        vertical-align: top;\n",
       "    }\n",
       "\n",
       "    .dataframe thead th {\n",
       "        text-align: right;\n",
       "    }\n",
       "</style>\n",
       "<table border=\"1\" class=\"dataframe\">\n",
       "  <thead>\n",
       "    <tr style=\"text-align: right;\">\n",
       "      <th></th>\n",
       "      <th>week</th>\n",
       "      <th>is_holiday</th>\n",
       "    </tr>\n",
       "  </thead>\n",
       "  <tbody>\n",
       "    <tr>\n",
       "      <th>0</th>\n",
       "      <td>2003-12-30</td>\n",
       "      <td>1</td>\n",
       "    </tr>\n",
       "    <tr>\n",
       "      <th>1</th>\n",
       "      <td>2004-01-06</td>\n",
       "      <td>1</td>\n",
       "    </tr>\n",
       "    <tr>\n",
       "      <th>2</th>\n",
       "      <td>2004-01-13</td>\n",
       "      <td>1</td>\n",
       "    </tr>\n",
       "    <tr>\n",
       "      <th>3</th>\n",
       "      <td>2004-01-20</td>\n",
       "      <td>1</td>\n",
       "    </tr>\n",
       "    <tr>\n",
       "      <th>4</th>\n",
       "      <td>2004-01-27</td>\n",
       "      <td>0</td>\n",
       "    </tr>\n",
       "    <tr>\n",
       "      <th>...</th>\n",
       "      <td>...</td>\n",
       "      <td>...</td>\n",
       "    </tr>\n",
       "    <tr>\n",
       "      <th>1378</th>\n",
       "      <td>2025-09-08</td>\n",
       "      <td>0</td>\n",
       "    </tr>\n",
       "    <tr>\n",
       "      <th>1379</th>\n",
       "      <td>2025-09-15</td>\n",
       "      <td>0</td>\n",
       "    </tr>\n",
       "    <tr>\n",
       "      <th>1380</th>\n",
       "      <td>2025-09-22</td>\n",
       "      <td>1</td>\n",
       "    </tr>\n",
       "    <tr>\n",
       "      <th>1381</th>\n",
       "      <td>2025-09-29</td>\n",
       "      <td>1</td>\n",
       "    </tr>\n",
       "    <tr>\n",
       "      <th>1382</th>\n",
       "      <td>2025-10-06</td>\n",
       "      <td>1</td>\n",
       "    </tr>\n",
       "  </tbody>\n",
       "</table>\n",
       "<p>1383 rows × 2 columns</p>\n",
       "</div>"
      ],
      "text/plain": [
       "           week  is_holiday\n",
       "0    2003-12-30           1\n",
       "1    2004-01-06           1\n",
       "2    2004-01-13           1\n",
       "3    2004-01-20           1\n",
       "4    2004-01-27           0\n",
       "...         ...         ...\n",
       "1378 2025-09-08           0\n",
       "1379 2025-09-15           0\n",
       "1380 2025-09-22           1\n",
       "1381 2025-09-29           1\n",
       "1382 2025-10-06           1\n",
       "\n",
       "[1383 rows x 2 columns]"
      ]
     },
     "execution_count": 85,
     "metadata": {},
     "output_type": "execute_result"
    }
   ],
   "source": [
    "holiday_weeks_sydney"
   ]
  },
  {
   "cell_type": "code",
   "execution_count": 84,
   "id": "97044e0b",
   "metadata": {},
   "outputs": [
    {
     "data": {
      "application/vnd.microsoft.datawrangler.viewer.v0+json": {
       "columns": [
        {
         "name": "index",
         "rawType": "int64",
         "type": "integer"
        },
        {
         "name": "week",
         "rawType": "datetime64[ns]",
         "type": "datetime"
        },
        {
         "name": "is_holiday",
         "rawType": "int64",
         "type": "integer"
        }
       ],
       "ref": "09223856-1d1c-4989-b3d3-8ce581dba921",
       "rows": [
        [
         "0",
         "2003-12-30 00:00:00",
         "1"
        ],
        [
         "1",
         "2004-01-06 00:00:00",
         "1"
        ],
        [
         "2",
         "2004-01-13 00:00:00",
         "1"
        ],
        [
         "3",
         "2004-01-20 00:00:00",
         "1"
        ],
        [
         "4",
         "2004-01-27 00:00:00",
         "1"
        ],
        [
         "5",
         "2004-02-03 00:00:00",
         "0"
        ],
        [
         "6",
         "2004-02-10 00:00:00",
         "0"
        ],
        [
         "7",
         "2004-02-17 00:00:00",
         "0"
        ],
        [
         "8",
         "2004-02-24 00:00:00",
         "0"
        ],
        [
         "9",
         "2004-03-02 00:00:00",
         "0"
        ],
        [
         "10",
         "2004-03-09 00:00:00",
         "0"
        ],
        [
         "11",
         "2004-03-16 00:00:00",
         "0"
        ],
        [
         "12",
         "2004-03-23 00:00:00",
         "0"
        ],
        [
         "13",
         "2004-03-30 00:00:00",
         "1"
        ],
        [
         "14",
         "2004-04-06 00:00:00",
         "1"
        ],
        [
         "15",
         "2004-04-13 00:00:00",
         "1"
        ],
        [
         "16",
         "2004-04-20 00:00:00",
         "0"
        ],
        [
         "17",
         "2004-04-27 00:00:00",
         "0"
        ],
        [
         "18",
         "2004-05-04 00:00:00",
         "0"
        ],
        [
         "19",
         "2004-05-11 00:00:00",
         "0"
        ],
        [
         "20",
         "2004-05-18 00:00:00",
         "0"
        ],
        [
         "21",
         "2004-05-25 00:00:00",
         "0"
        ],
        [
         "22",
         "2004-06-01 00:00:00",
         "0"
        ],
        [
         "23",
         "2004-06-08 00:00:00",
         "0"
        ],
        [
         "24",
         "2004-06-15 00:00:00",
         "0"
        ],
        [
         "25",
         "2004-06-22 00:00:00",
         "1"
        ],
        [
         "26",
         "2004-06-29 00:00:00",
         "1"
        ],
        [
         "27",
         "2004-07-06 00:00:00",
         "1"
        ],
        [
         "28",
         "2004-07-13 00:00:00",
         "0"
        ],
        [
         "29",
         "2004-07-20 00:00:00",
         "0"
        ],
        [
         "30",
         "2004-07-27 00:00:00",
         "0"
        ],
        [
         "31",
         "2004-08-03 00:00:00",
         "0"
        ],
        [
         "32",
         "2004-08-10 00:00:00",
         "0"
        ],
        [
         "33",
         "2004-08-17 00:00:00",
         "0"
        ],
        [
         "34",
         "2004-08-24 00:00:00",
         "0"
        ],
        [
         "35",
         "2004-08-31 00:00:00",
         "0"
        ],
        [
         "36",
         "2004-09-07 00:00:00",
         "0"
        ],
        [
         "37",
         "2004-09-14 00:00:00",
         "1"
        ],
        [
         "38",
         "2004-09-21 00:00:00",
         "1"
        ],
        [
         "39",
         "2004-09-28 00:00:00",
         "1"
        ],
        [
         "40",
         "2004-10-05 00:00:00",
         "0"
        ],
        [
         "41",
         "2004-10-12 00:00:00",
         "0"
        ],
        [
         "42",
         "2004-10-19 00:00:00",
         "0"
        ],
        [
         "43",
         "2004-10-26 00:00:00",
         "0"
        ],
        [
         "44",
         "2004-11-02 00:00:00",
         "0"
        ],
        [
         "45",
         "2004-11-09 00:00:00",
         "0"
        ],
        [
         "46",
         "2004-11-16 00:00:00",
         "0"
        ],
        [
         "47",
         "2004-11-23 00:00:00",
         "0"
        ],
        [
         "48",
         "2004-11-30 00:00:00",
         "0"
        ],
        [
         "49",
         "2004-12-07 00:00:00",
         "0"
        ]
       ],
       "shape": {
        "columns": 2,
        "rows": 1409
       }
      },
      "text/html": [
       "<div>\n",
       "<style scoped>\n",
       "    .dataframe tbody tr th:only-of-type {\n",
       "        vertical-align: middle;\n",
       "    }\n",
       "\n",
       "    .dataframe tbody tr th {\n",
       "        vertical-align: top;\n",
       "    }\n",
       "\n",
       "    .dataframe thead th {\n",
       "        text-align: right;\n",
       "    }\n",
       "</style>\n",
       "<table border=\"1\" class=\"dataframe\">\n",
       "  <thead>\n",
       "    <tr style=\"text-align: right;\">\n",
       "      <th></th>\n",
       "      <th>week</th>\n",
       "      <th>is_holiday</th>\n",
       "    </tr>\n",
       "  </thead>\n",
       "  <tbody>\n",
       "    <tr>\n",
       "      <th>0</th>\n",
       "      <td>2003-12-30</td>\n",
       "      <td>1</td>\n",
       "    </tr>\n",
       "    <tr>\n",
       "      <th>1</th>\n",
       "      <td>2004-01-06</td>\n",
       "      <td>1</td>\n",
       "    </tr>\n",
       "    <tr>\n",
       "      <th>2</th>\n",
       "      <td>2004-01-13</td>\n",
       "      <td>1</td>\n",
       "    </tr>\n",
       "    <tr>\n",
       "      <th>3</th>\n",
       "      <td>2004-01-20</td>\n",
       "      <td>1</td>\n",
       "    </tr>\n",
       "    <tr>\n",
       "      <th>4</th>\n",
       "      <td>2004-01-27</td>\n",
       "      <td>1</td>\n",
       "    </tr>\n",
       "    <tr>\n",
       "      <th>...</th>\n",
       "      <td>...</td>\n",
       "      <td>...</td>\n",
       "    </tr>\n",
       "    <tr>\n",
       "      <th>1404</th>\n",
       "      <td>2025-12-01</td>\n",
       "      <td>0</td>\n",
       "    </tr>\n",
       "    <tr>\n",
       "      <th>1405</th>\n",
       "      <td>2025-12-08</td>\n",
       "      <td>0</td>\n",
       "    </tr>\n",
       "    <tr>\n",
       "      <th>1406</th>\n",
       "      <td>2025-12-15</td>\n",
       "      <td>0</td>\n",
       "    </tr>\n",
       "    <tr>\n",
       "      <th>1407</th>\n",
       "      <td>2025-12-22</td>\n",
       "      <td>0</td>\n",
       "    </tr>\n",
       "    <tr>\n",
       "      <th>1408</th>\n",
       "      <td>2025-12-29</td>\n",
       "      <td>0</td>\n",
       "    </tr>\n",
       "  </tbody>\n",
       "</table>\n",
       "<p>1409 rows × 2 columns</p>\n",
       "</div>"
      ],
      "text/plain": [
       "           week  is_holiday\n",
       "0    2003-12-30           1\n",
       "1    2004-01-06           1\n",
       "2    2004-01-13           1\n",
       "3    2004-01-20           1\n",
       "4    2004-01-27           1\n",
       "...         ...         ...\n",
       "1404 2025-12-01           0\n",
       "1405 2025-12-08           0\n",
       "1406 2025-12-15           0\n",
       "1407 2025-12-22           0\n",
       "1408 2025-12-29           0\n",
       "\n",
       "[1409 rows x 2 columns]"
      ]
     },
     "execution_count": 84,
     "metadata": {},
     "output_type": "execute_result"
    }
   ],
   "source": [
    "holiday_weeks_victoria"
   ]
  }
 ],
 "metadata": {
  "kernelspec": {
   "display_name": "base",
   "language": "python",
   "name": "python3"
  },
  "language_info": {
   "codemirror_mode": {
    "name": "ipython",
    "version": 3
   },
   "file_extension": ".py",
   "mimetype": "text/x-python",
   "name": "python",
   "nbconvert_exporter": "python",
   "pygments_lexer": "ipython3",
   "version": "3.12.2"
  }
 },
 "nbformat": 4,
 "nbformat_minor": 5
}
