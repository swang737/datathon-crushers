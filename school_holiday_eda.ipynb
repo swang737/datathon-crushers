{
 "cells": [
  {
   "cell_type": "code",
   "execution_count": 85,
   "id": "7cd01448",
   "metadata": {},
   "outputs": [],
   "source": [
    "import pandas as pd"
   ]
  },
  {
   "cell_type": "code",
   "execution_count": 86,
   "id": "2606f963",
   "metadata": {},
   "outputs": [],
   "source": [
    "all_holidays_victoria_df = pd.read_csv(\"all_holidays_victoria.csv\")"
   ]
  },
  {
   "cell_type": "code",
   "execution_count": 87,
   "id": "10e33cb1",
   "metadata": {},
   "outputs": [
    {
     "name": "stdout",
     "output_type": "stream",
     "text": [
      "<class 'pandas.core.frame.DataFrame'>\n",
      "RangeIndex: 2851 entries, 0 to 2850\n",
      "Data columns (total 6 columns):\n",
      " #   Column          Non-Null Count  Dtype \n",
      "---  ------          --------------  ----- \n",
      " 0   dateType        2851 non-null   object\n",
      " 1   name            2851 non-null   object\n",
      " 2   important_date  2851 non-null   object\n",
      " 3   publisher       2851 non-null   object\n",
      " 4   description     1680 non-null   object\n",
      " 5   source          2795 non-null   object\n",
      "dtypes: object(6)\n",
      "memory usage: 133.8+ KB\n"
     ]
    }
   ],
   "source": [
    "all_holidays_victoria_df.info()"
   ]
  },
  {
   "cell_type": "code",
   "execution_count": 88,
   "id": "a87f0582",
   "metadata": {},
   "outputs": [
    {
     "data": {
      "application/vnd.microsoft.datawrangler.viewer.v0+json": {
       "columns": [
        {
         "name": "index",
         "rawType": "int64",
         "type": "integer"
        },
        {
         "name": "dateType",
         "rawType": "object",
         "type": "string"
        },
        {
         "name": "name",
         "rawType": "object",
         "type": "string"
        },
        {
         "name": "important_date",
         "rawType": "object",
         "type": "string"
        },
        {
         "name": "publisher",
         "rawType": "object",
         "type": "string"
        },
        {
         "name": "description",
         "rawType": "object",
         "type": "unknown"
        },
        {
         "name": "source",
         "rawType": "object",
         "type": "unknown"
        }
       ],
       "ref": "b45698c5-2423-4b55-9ce9-6b46eaf214ab",
       "rows": [
        [
         "0",
         "MULTI_FAITH",
         "Lent",
         "6/03/2019",
         "Faith Communities Council of Victoria",
         "6 March 2019 - 18 April 2019",
         "http://www.faithvictoria.org.au/calendar"
        ],
        [
         "1",
         "MULTI_FAITH",
         "Lent",
         "16/03/2019",
         "Faith Communities Council of Victoria",
         "6 March 2019 - 18 April 2019",
         "http://www.faithvictoria.org.au/calendar"
        ],
        [
         "2",
         "MULTI_FAITH",
         "Lent",
         "17/03/2019",
         "Faith Communities Council of Victoria",
         "6 March 2019 - 18 April 2019",
         "http://www.faithvictoria.org.au/calendar"
        ],
        [
         "3",
         "MULTI_FAITH",
         "Lent",
         "18/03/2019",
         "Faith Communities Council of Victoria",
         "6 March 2019 - 18 April 2019",
         "http://www.faithvictoria.org.au/calendar"
        ],
        [
         "4",
         "MULTI_FAITH",
         "Great lent (Orthodox)",
         "14/03/2019",
         "Faith Communities Council of Victoria",
         "11 March 2019-19 April 2019",
         "http://www.faithvictoria.org.au/calendar"
        ],
        [
         "5",
         "MULTI_FAITH",
         "Lent",
         "14/03/2019",
         "Faith Communities Council of Victoria",
         "6 March 2019 - 18 April 2019",
         "http://www.faithvictoria.org.au/calendar"
        ],
        [
         "6",
         "MULTI_FAITH",
         "Great lent (Orthodox)",
         "30/03/2019",
         "Faith Communities Council of Victoria",
         "11 March 2019-19 April 2019",
         "http://www.faithvictoria.org.au/calendar"
        ],
        [
         "7",
         "MULTI_FAITH",
         "Great lent (Orthodox)",
         "1/04/2019",
         "Faith Communities Council of Victoria",
         "11 March 2019-19 April 2019",
         "http://www.faithvictoria.org.au/calendar"
        ],
        [
         "8",
         "MULTI_FAITH",
         "Great lent (Orthodox)",
         "16/03/2019",
         "Faith Communities Council of Victoria",
         "11 March 2019-19 April 2019",
         "http://www.faithvictoria.org.au/calendar"
        ],
        [
         "9",
         "MULTI_FAITH",
         "Lent",
         "20/03/2019",
         "Faith Communities Council of Victoria",
         "6 March 2019 - 18 April 2019",
         "http://www.faithvictoria.org.au/calendar"
        ],
        [
         "10",
         "MULTI_FAITH",
         "Lent",
         "30/03/2019",
         "Faith Communities Council of Victoria",
         "6 March 2019 - 18 April 2019",
         "http://www.faithvictoria.org.au/calendar"
        ],
        [
         "11",
         "MULTI_FAITH",
         "Lent",
         "15/03/2019",
         "Faith Communities Council of Victoria",
         "6 March 2019 - 18 April 2019",
         "http://www.faithvictoria.org.au/calendar"
        ],
        [
         "12",
         "MULTI_FAITH",
         "Purim",
         "21/03/2019",
         "Faith Communities Council of Victoria",
         null,
         "http://www.faithvictoria.org.au/calendar"
        ],
        [
         "13",
         "MULTI_FAITH",
         "Great lent (Orthodox)",
         "13/04/2019",
         "Faith Communities Council of Victoria",
         "11 March 2019-19 April 2019",
         "http://www.faithvictoria.org.au/calendar"
        ],
        [
         "14",
         "MULTI_FAITH",
         "Lent",
         "13/04/2019",
         "Faith Communities Council of Victoria",
         "6 March 2019 - 18 April 2019",
         "http://www.faithvictoria.org.au/calendar"
        ],
        [
         "15",
         "MULTI_FAITH",
         "Great lent (Orthodox)",
         "14/04/2019",
         "Faith Communities Council of Victoria",
         "11 March 2019-19 April 2019",
         "http://www.faithvictoria.org.au/calendar"
        ],
        [
         "16",
         "MULTI_FAITH",
         "Lent",
         "17/04/2019",
         "Faith Communities Council of Victoria",
         "6 March 2019 - 18 April 2019",
         "http://www.faithvictoria.org.au/calendar"
        ],
        [
         "17",
         "MULTI_FAITH",
         "Great lent (Orthodox)",
         "18/04/2019",
         "Faith Communities Council of Victoria",
         "11 March 2019-19 April 2019",
         "http://www.faithvictoria.org.au/calendar"
        ],
        [
         "18",
         "MULTI_FAITH",
         "Great lent (Orthodox)",
         "19/04/2019",
         "Faith Communities Council of Victoria",
         "11 March 2019-19 April 2019",
         "http://www.faithvictoria.org.au/calendar"
        ],
        [
         "19",
         "MULTI_FAITH",
         "Great lent (Orthodox)",
         "12/04/2019",
         "Faith Communities Council of Victoria",
         "11 March 2019-19 April 2019",
         "http://www.faithvictoria.org.au/calendar"
        ],
        [
         "20",
         "MULTI_FAITH",
         "Great lent (Orthodox)",
         "7/04/2019",
         "Faith Communities Council of Victoria",
         "11 March 2019-19 April 2019",
         "http://www.faithvictoria.org.au/calendar"
        ],
        [
         "21",
         "MULTI_FAITH",
         "Ridvan",
         "22/04/2019",
         "Faith Communities Council of Victoria",
         "21 April - 2 May 2019",
         "http://www.faithvictoria.org.au/calendar"
        ],
        [
         "22",
         "MULTI_FAITH",
         "Pesach",
         "26/04/2019",
         "Faith Communities Council of Victoria",
         "20-27 April 2019",
         "http://www.faithvictoria.org.au/calendar"
        ],
        [
         "23",
         "MULTI_FAITH",
         "Ramadan",
         "10/05/2019",
         "Faith Communities Council of Victoria",
         "6 May -4 June 2019",
         "http://www.faithvictoria.org.au/calendar"
        ],
        [
         "24",
         "MULTI_FAITH",
         "Krishna Janmashtami",
         "23/08/2019",
         "Faith Communities Council of Victoria",
         null,
         "http://www.faithvictoria.org.au/calendar"
        ],
        [
         "25",
         "MULTI_FAITH",
         "Ramadan",
         "12/05/2019",
         "Faith Communities Council of Victoria",
         "6 May -4 June 2019",
         "http://www.faithvictoria.org.au/calendar"
        ],
        [
         "26",
         "MULTI_FAITH",
         "Ramadan",
         "15/05/2019",
         "Faith Communities Council of Victoria",
         "6 May -4 June 2019",
         "http://www.faithvictoria.org.au/calendar"
        ],
        [
         "27",
         "MULTI_FAITH",
         "Ramadan",
         "21/05/2019",
         "Faith Communities Council of Victoria",
         "6 May -4 June 2019",
         "http://www.faithvictoria.org.au/calendar"
        ],
        [
         "28",
         "MULTI_FAITH",
         "Declaration of the Bab",
         "24/05/2019",
         "Faith Communities Council of Victoria",
         null,
         "http://www.faithvictoria.org.au/calendar"
        ],
        [
         "29",
         "MULTI_FAITH",
         "Tisha B'Av",
         "11/08/2019",
         "Faith Communities Council of Victoria",
         null,
         "http://www.faithvictoria.org.au/calendar"
        ],
        [
         "30",
         "MULTI_FAITH",
         "Navaratri",
         "7/10/2019",
         "Faith Communities Council of Victoria",
         "29 September - 7 October 2019",
         "http://www.faithvictoria.org.au/calendar"
        ],
        [
         "31",
         "MULTI_FAITH",
         "Sukkot",
         "14/10/2019",
         "Faith Communities Council of Victoria",
         "14-20 October 2019",
         "http://www.faithvictoria.org.au/calendar"
        ],
        [
         "32",
         "MULTI_FAITH",
         "Sukkot",
         "18/10/2019",
         "Faith Communities Council of Victoria",
         "14-20 October 2019",
         "http://www.faithvictoria.org.au/calendar"
        ],
        [
         "33",
         "MULTI_FAITH",
         "Advent",
         "3/12/2019",
         "Faith Communities Council of Victoria",
         "1-24 Dec 2019",
         "http://www.faithvictoria.org.au/calendar"
        ],
        [
         "34",
         "MULTI_FAITH",
         "All Saints day",
         "1/11/2019",
         "Faith Communities Council of Victoria",
         null,
         "http://www.faithvictoria.org.au/calendar"
        ],
        [
         "35",
         "MULTI_FAITH",
         "Advent",
         "17/12/2019",
         "Faith Communities Council of Victoria",
         "1-24 Dec 2019",
         "http://www.faithvictoria.org.au/calendar"
        ],
        [
         "36",
         "MULTI_FAITH",
         "Advent",
         "18/12/2019",
         "Faith Communities Council of Victoria",
         "1-24 Dec 2019",
         "http://www.faithvictoria.org.au/calendar"
        ],
        [
         "37",
         "MULTI_FAITH",
         "Advent",
         "20/12/2019",
         "Faith Communities Council of Victoria",
         "1-24 Dec 2019",
         "http://www.faithvictoria.org.au/calendar"
        ],
        [
         "38",
         "MULTI_FAITH",
         "Hanukkah",
         "27/12/2019",
         "Faith Communities Council of Victoria",
         "23-30 December 2019",
         "http://www.faithvictoria.org.au/calendar"
        ],
        [
         "39",
         "MULTI_FAITH",
         "Advent",
         "22/12/2019",
         "Faith Communities Council of Victoria",
         "1-24 Dec 2019",
         "http://www.faithvictoria.org.au/calendar"
        ],
        [
         "40",
         "MULTI_FAITH",
         "Advent",
         "16/12/2019",
         "Faith Communities Council of Victoria",
         "1-24 Dec 2019",
         "http://www.faithvictoria.org.au/calendar"
        ],
        [
         "41",
         "MULTI_FAITH",
         "Advent",
         "12/12/2019",
         "Faith Communities Council of Victoria",
         "1-24 Dec 2019",
         "http://www.faithvictoria.org.au/calendar"
        ],
        [
         "42",
         "MULTI_FAITH",
         "Lent",
         "10/03/2020",
         "Faith Communities Council of Victoria",
         "26 February - 9 April 2020",
         "http://www.faithvictoria.org.au/calendar"
        ],
        [
         "43",
         "MULTI_FAITH",
         "Lent",
         "13/03/2020",
         "Faith Communities Council of Victoria",
         "26 February - 9 April 2020",
         "http://www.faithvictoria.org.au/calendar"
        ],
        [
         "44",
         "MULTI_FAITH",
         "Lent",
         "15/03/2020",
         "Faith Communities Council of Victoria",
         "26 February - 9 April 2020",
         "http://www.faithvictoria.org.au/calendar"
        ],
        [
         "45",
         "MULTI_FAITH",
         "Lent",
         "26/02/2020",
         "Faith Communities Council of Victoria",
         "26 February - 9 April 2020",
         "http://www.faithvictoria.org.au/calendar"
        ],
        [
         "46",
         "MULTI_FAITH",
         "Lent",
         "23/03/2020",
         "Faith Communities Council of Victoria",
         "26 February - 9 April 2020",
         "http://www.faithvictoria.org.au/calendar"
        ],
        [
         "47",
         "MULTI_FAITH",
         "Lent",
         "19/03/2020",
         "Faith Communities Council of Victoria",
         "26 February - 9 April 2020",
         "http://www.faithvictoria.org.au/calendar"
        ],
        [
         "48",
         "MULTI_FAITH",
         "Lent",
         "5/03/2020",
         "Faith Communities Council of Victoria",
         "26 February - 9 April 2020",
         "http://www.faithvictoria.org.au/calendar"
        ],
        [
         "49",
         "MULTI_FAITH",
         "Maghi",
         "13/01/2020",
         "Faith Communities Council of Victoria",
         null,
         "http://www.faithvictoria.org.au/calendar"
        ]
       ],
       "shape": {
        "columns": 6,
        "rows": 2851
       }
      },
      "text/html": [
       "<div>\n",
       "<style scoped>\n",
       "    .dataframe tbody tr th:only-of-type {\n",
       "        vertical-align: middle;\n",
       "    }\n",
       "\n",
       "    .dataframe tbody tr th {\n",
       "        vertical-align: top;\n",
       "    }\n",
       "\n",
       "    .dataframe thead th {\n",
       "        text-align: right;\n",
       "    }\n",
       "</style>\n",
       "<table border=\"1\" class=\"dataframe\">\n",
       "  <thead>\n",
       "    <tr style=\"text-align: right;\">\n",
       "      <th></th>\n",
       "      <th>dateType</th>\n",
       "      <th>name</th>\n",
       "      <th>important_date</th>\n",
       "      <th>publisher</th>\n",
       "      <th>description</th>\n",
       "      <th>source</th>\n",
       "    </tr>\n",
       "  </thead>\n",
       "  <tbody>\n",
       "    <tr>\n",
       "      <th>0</th>\n",
       "      <td>MULTI_FAITH</td>\n",
       "      <td>Lent</td>\n",
       "      <td>6/03/2019</td>\n",
       "      <td>Faith Communities Council of Victoria</td>\n",
       "      <td>6 March 2019 - 18 April 2019</td>\n",
       "      <td>http://www.faithvictoria.org.au/calendar</td>\n",
       "    </tr>\n",
       "    <tr>\n",
       "      <th>1</th>\n",
       "      <td>MULTI_FAITH</td>\n",
       "      <td>Lent</td>\n",
       "      <td>16/03/2019</td>\n",
       "      <td>Faith Communities Council of Victoria</td>\n",
       "      <td>6 March 2019 - 18 April 2019</td>\n",
       "      <td>http://www.faithvictoria.org.au/calendar</td>\n",
       "    </tr>\n",
       "    <tr>\n",
       "      <th>2</th>\n",
       "      <td>MULTI_FAITH</td>\n",
       "      <td>Lent</td>\n",
       "      <td>17/03/2019</td>\n",
       "      <td>Faith Communities Council of Victoria</td>\n",
       "      <td>6 March 2019 - 18 April 2019</td>\n",
       "      <td>http://www.faithvictoria.org.au/calendar</td>\n",
       "    </tr>\n",
       "    <tr>\n",
       "      <th>3</th>\n",
       "      <td>MULTI_FAITH</td>\n",
       "      <td>Lent</td>\n",
       "      <td>18/03/2019</td>\n",
       "      <td>Faith Communities Council of Victoria</td>\n",
       "      <td>6 March 2019 - 18 April 2019</td>\n",
       "      <td>http://www.faithvictoria.org.au/calendar</td>\n",
       "    </tr>\n",
       "    <tr>\n",
       "      <th>4</th>\n",
       "      <td>MULTI_FAITH</td>\n",
       "      <td>Great lent (Orthodox)</td>\n",
       "      <td>14/03/2019</td>\n",
       "      <td>Faith Communities Council of Victoria</td>\n",
       "      <td>11 March 2019-19 April 2019</td>\n",
       "      <td>http://www.faithvictoria.org.au/calendar</td>\n",
       "    </tr>\n",
       "    <tr>\n",
       "      <th>...</th>\n",
       "      <td>...</td>\n",
       "      <td>...</td>\n",
       "      <td>...</td>\n",
       "      <td>...</td>\n",
       "      <td>...</td>\n",
       "      <td>...</td>\n",
       "    </tr>\n",
       "    <tr>\n",
       "      <th>2846</th>\n",
       "      <td>MULTI_FAITH</td>\n",
       "      <td>Hanukkah</td>\n",
       "      <td>12/12/2026</td>\n",
       "      <td>Faith Communities Council of Victoria</td>\n",
       "      <td>5-12 December 2026</td>\n",
       "      <td>http://www.faithvictoria.org.au/calendar</td>\n",
       "    </tr>\n",
       "    <tr>\n",
       "      <th>2847</th>\n",
       "      <td>MULTI_FAITH</td>\n",
       "      <td>Bodhi Day</td>\n",
       "      <td>8/12/2026</td>\n",
       "      <td>Faith Communities Council of Victoria</td>\n",
       "      <td>NaN</td>\n",
       "      <td>http://www.faithvictoria.org.au/calendar</td>\n",
       "    </tr>\n",
       "    <tr>\n",
       "      <th>2848</th>\n",
       "      <td>MULTI_FAITH</td>\n",
       "      <td>Christmas</td>\n",
       "      <td>25/12/2026</td>\n",
       "      <td>Faith Communities Council of Victoria</td>\n",
       "      <td>NaN</td>\n",
       "      <td>http://www.faithvictoria.org.au/calendar</td>\n",
       "    </tr>\n",
       "    <tr>\n",
       "      <th>2849</th>\n",
       "      <td>DAYLIGHT_SAVING</td>\n",
       "      <td>Daylight Savings Starts</td>\n",
       "      <td>5/10/2025</td>\n",
       "      <td>Business Victoria</td>\n",
       "      <td>Daylight Saving Time begins at 2am on the firs...</td>\n",
       "      <td>https://business.vic.gov.au/business-informati...</td>\n",
       "    </tr>\n",
       "    <tr>\n",
       "      <th>2850</th>\n",
       "      <td>DAYLIGHT_SAVING</td>\n",
       "      <td>Daylight Savings Ends</td>\n",
       "      <td>5/04/2026</td>\n",
       "      <td>Business Victoria</td>\n",
       "      <td>Daylight Saving Time ends at 2am (3am Daylight...</td>\n",
       "      <td>https://business.vic.gov.au/business-informati...</td>\n",
       "    </tr>\n",
       "  </tbody>\n",
       "</table>\n",
       "<p>2851 rows × 6 columns</p>\n",
       "</div>"
      ],
      "text/plain": [
       "             dateType                     name important_date  \\\n",
       "0         MULTI_FAITH                     Lent      6/03/2019   \n",
       "1         MULTI_FAITH                     Lent     16/03/2019   \n",
       "2         MULTI_FAITH                     Lent     17/03/2019   \n",
       "3         MULTI_FAITH                     Lent     18/03/2019   \n",
       "4         MULTI_FAITH    Great lent (Orthodox)     14/03/2019   \n",
       "...               ...                      ...            ...   \n",
       "2846      MULTI_FAITH                 Hanukkah     12/12/2026   \n",
       "2847      MULTI_FAITH                Bodhi Day      8/12/2026   \n",
       "2848      MULTI_FAITH                Christmas     25/12/2026   \n",
       "2849  DAYLIGHT_SAVING  Daylight Savings Starts      5/10/2025   \n",
       "2850  DAYLIGHT_SAVING    Daylight Savings Ends      5/04/2026   \n",
       "\n",
       "                                  publisher  \\\n",
       "0     Faith Communities Council of Victoria   \n",
       "1     Faith Communities Council of Victoria   \n",
       "2     Faith Communities Council of Victoria   \n",
       "3     Faith Communities Council of Victoria   \n",
       "4     Faith Communities Council of Victoria   \n",
       "...                                     ...   \n",
       "2846  Faith Communities Council of Victoria   \n",
       "2847  Faith Communities Council of Victoria   \n",
       "2848  Faith Communities Council of Victoria   \n",
       "2849                      Business Victoria   \n",
       "2850                      Business Victoria   \n",
       "\n",
       "                                            description  \\\n",
       "0                          6 March 2019 - 18 April 2019   \n",
       "1                          6 March 2019 - 18 April 2019   \n",
       "2                          6 March 2019 - 18 April 2019   \n",
       "3                          6 March 2019 - 18 April 2019   \n",
       "4                           11 March 2019-19 April 2019   \n",
       "...                                                 ...   \n",
       "2846                                 5-12 December 2026   \n",
       "2847                                                NaN   \n",
       "2848                                                NaN   \n",
       "2849  Daylight Saving Time begins at 2am on the firs...   \n",
       "2850  Daylight Saving Time ends at 2am (3am Daylight...   \n",
       "\n",
       "                                                 source  \n",
       "0              http://www.faithvictoria.org.au/calendar  \n",
       "1              http://www.faithvictoria.org.au/calendar  \n",
       "2              http://www.faithvictoria.org.au/calendar  \n",
       "3              http://www.faithvictoria.org.au/calendar  \n",
       "4              http://www.faithvictoria.org.au/calendar  \n",
       "...                                                 ...  \n",
       "2846           http://www.faithvictoria.org.au/calendar  \n",
       "2847           http://www.faithvictoria.org.au/calendar  \n",
       "2848           http://www.faithvictoria.org.au/calendar  \n",
       "2849  https://business.vic.gov.au/business-informati...  \n",
       "2850  https://business.vic.gov.au/business-informati...  \n",
       "\n",
       "[2851 rows x 6 columns]"
      ]
     },
     "execution_count": 88,
     "metadata": {},
     "output_type": "execute_result"
    }
   ],
   "source": [
    "all_holidays_victoria_df"
   ]
  },
  {
   "cell_type": "code",
   "execution_count": 89,
   "id": "d431b590",
   "metadata": {},
   "outputs": [
    {
     "data": {
      "text/plain": [
       "array(['Lent', 'Great lent (Orthodox)', 'Purim', 'Ridvan', 'Pesach',\n",
       "       'Ramadan', 'Krishna Janmashtami', 'Declaration of the Bab',\n",
       "       \"Tisha B'Av\", 'Navaratri', 'Sukkot', 'Advent', 'All Saints day',\n",
       "       'Hanukkah', 'Maghi', 'Lailat al Miraj', 'Holy Week',\n",
       "       'Great Lent (Orthodox)', 'Eid Al Adha', 'Raksha Bandhan',\n",
       "       'Rosh Hashanah', 'Lailat al Qadr', 'Christmas', 'Diwali',\n",
       "       'Birth of Guru Nanak Dev Sahib Ji', 'Ash Wednesday',\n",
       "       'Mahayana New Year', 'Nirvana Day', 'Martyrdom of the Bab',\n",
       "       'Eid ul Fitr', 'Ashala Puja / Dharma Day',\n",
       "       \"Ascension of Baha'ullah\", 'Hijra', \"Birth of Baha'ullah\",\n",
       "       'Birthday of Guru Gobind Singh Ji', 'Epiphany ',\n",
       "       'Chinese New Year', 'Theravada New Year', 'Holi', 'Shavuot',\n",
       "       'Assumption of the Blessed Virgin Mary', 'Bodhi Day',\n",
       "       'Tet Nam Moiaabs', 'New Ruz', 'Good/Holy Friday',\n",
       "       'Easter/Pascha [Orthodox]', 'Pentecost', 'Dussehra',\n",
       "       'Bandi Chhor Divas (Diwali)', 'Birth of Bab', 'Yom Kippur',\n",
       "       'Magha Puja Day / Sangha Day', 'Baisakhi', 'Simchat Torah',\n",
       "       'Martyrdom of Guru Arjun Dev Ji', 'Vesak / Buddha Day',\n",
       "       'All Saints Day', 'Nativity (Orthodox)', 'Hola Mohalla',\n",
       "       'Rama Navami', \"Lailat al Bara'ah\",\n",
       "       'Conferment of Guruship to Guru Granth Sahib',\n",
       "       'Martyrdom of Guru Tegh Bahadur Ji', 'Bodhi', 'Yom HaShoah',\n",
       "       'Easter/Pascha (Orthodox)', 'Easter', 'MahaShivaratri', 'Epiphany',\n",
       "       'Ganesh Chaturthi', 'Naw Ruz', 'Birth of the Bab', 'Pongal',\n",
       "       'Lent begins on Ash Wednesday', 'Asalha Puja/Dharma Day',\n",
       "       'Both Houses sitting', 'Legislative council only',\n",
       "       'Both Houses sitting - Budget Day', 'Melbourne Cup day',\n",
       "       'Saturday before Easter Sunday', \"Queen's Birthday\",\n",
       "       'Easter Monday', 'Labour Day', 'Melbourne Cup',\n",
       "       \"New Year's Day - additional public holiday\", 'ANZAC Day',\n",
       "       'Good Friday', 'Christmas Day', 'Boxing Day', 'Australia day',\n",
       "       'Australia Day',\n",
       "       'Australia Day (26 Jan is a Sunday hence Monday is a public holiday)',\n",
       "       'Easter Sunday', \"New Year's Day\", 'New Years Day',\n",
       "       'Friday before the AFL grand final',\n",
       "       'Boxing Day - additional public holiday', 'Boxing day',\n",
       "       'Australia Day - As Australia Day falls on a Sunday the public holiday is on the following Monday',\n",
       "       \"Kings's Birthday\", 'Christmas Day - additional public holiday',\n",
       "       'Christmas day', 'Term 1 2019 - Holiday start date',\n",
       "       'Term 3 2022 - Holiday end date',\n",
       "       'Term 4 2022 - Holiday start date',\n",
       "       'Term 4 2020 - Holiday start date',\n",
       "       'Term 1 2021 - Holiday start date',\n",
       "       'Term 3 2023 - Holiday start date',\n",
       "       'Term 3 2022 - Holiday start date',\n",
       "       'Term 3 2021 - Holiday end date',\n",
       "       'Term 1 2024 - Holiday start date',\n",
       "       'Term 1 2025 - Holiday start date',\n",
       "       'Term 1 2020 - Holiday start date',\n",
       "       'Term 3 2020 - Holiday start date',\n",
       "       'Term 1 2024 - Holiday end date',\n",
       "       'Term 3 2024 - Holiday start date',\n",
       "       'Term 1 2023 - Holiday end date',\n",
       "       'Term 2 2023 - Holiday start date',\n",
       "       'Term 3 2021 - Holiday start date',\n",
       "       'Term 4 2024 - Holiday start date',\n",
       "       'Term 1 2022 - Holiday end date', 'Term 2 2022 - Holiday end date',\n",
       "       'Term 2 2025 - Holiday end date',\n",
       "       'Term 3 2025 - Holiday start date',\n",
       "       'Term 1 2025 - Holiday end date', 'Term 3 2025 - Holiday end date',\n",
       "       'Term 1 2019 Holiday end date', 'Term 4  2019 Holiday end date',\n",
       "       'Term 2 2020 - Holiday end date', 'Term 4 2021 - Holiday end date',\n",
       "       'Term 1 2022 - Holiday start date',\n",
       "       'Term 4 2023 - Holiday start date',\n",
       "       'Term 4 2023 - Holiday end date', 'Term 3 2024 - Holiday end date',\n",
       "       'Term 4 2022 - Holiday end date', 'Term 2 2023 - Holiday end date',\n",
       "       'Term 2 2024 - Holiday end date', 'Term 2 2021 - Holiday end date',\n",
       "       'Term2 2019 Holiday start date', 'Term 3 2019 - Holiday end date',\n",
       "       'Term 2 2021 - Holiday start date',\n",
       "       'Term 2 2025 - Holiday start date',\n",
       "       'Term 4 2025 - Holiday start date',\n",
       "       'Term 4 2021 - Holiday start date',\n",
       "       'Term 3 2019 - Holiday start date',\n",
       "       'Term 2 2019 - Holiday end date',\n",
       "       'Term 4 2019 - Holiday start date',\n",
       "       'Term 1 2020 - Holiday end date',\n",
       "       'Term 2 2020 - Holiday start date',\n",
       "       'Term 2 2022 - Holiday start date',\n",
       "       'Term 1 2023 - Holiday start date',\n",
       "       'Term 4 2020 - Holiday end date', 'Term 1 2021 - Holiday end date',\n",
       "       'Term 3 2020 - Holiday end date', 'Term 3 2023 - Holiday end date',\n",
       "       'Term 2 2024 - Holiday start date',\n",
       "       'Term 4 2024 - Holiday end date', 'Term 1 2019 -Start date',\n",
       "       'Term 1 2020 - Start date - Students start 29 January in government schools',\n",
       "       'Term 3 2020 - Start date', 'Term 4 2020 - End date',\n",
       "       'Term 3 2023 - Start date', 'Term 4 2023 - End date',\n",
       "       'Term 1 2024 - End date', 'Term 2 2024 - End date',\n",
       "       'Term 4 2022 - End date', 'Term 3 2019 - Start date',\n",
       "       'Term 1 2021 - End date', 'Term 3 2021 - Start date',\n",
       "       'Term 3 2020 - End date',\n",
       "       'Term 1 2022 - Start date - Students start 31 January in government schools',\n",
       "       'Term 1 2023 - Start date - Students start 30 January in government schools',\n",
       "       'Term 4 2020 - Start date', 'Term 4 2025 - End date',\n",
       "       'Term 1 2025 - Start date - Students start 29 January in government schools',\n",
       "       'Term 2 2025 - End date', 'Term 3 2025 - Start date',\n",
       "       'Term 2 2023 - Start date', 'Term 2 2023 - End date',\n",
       "       'Term 4 2021 - Start date', 'Term 4 2021 - End date',\n",
       "       'Term 1 2023 - Start date', 'Term 2 2024 - Start date',\n",
       "       'Term 1 2024 - Start date', 'Term 2 2020 - End date',\n",
       "       'Term 3 2023 - End date', 'Term 4 2025 - Start date',\n",
       "       'Term 1 2025 - Start date', 'Term 1 2019 -End date',\n",
       "       'Term 1 2024 - Start date - Students start 30 January in government schools',\n",
       "       'Term 3 2024 - Start date', 'Term 2 2022 - Start date',\n",
       "       'Term 2 2022 - End date', 'Term 4 2024 - Start date',\n",
       "       'Term 4 2022 - Start date', 'Term 1 2023 - End date',\n",
       "       'Term 2 2020 - Start date', 'Term 1 2020 - Start date',\n",
       "       'Term 1 2022 - End date', 'Term 1 2025 - End date',\n",
       "       'Term 3 2025 - End date', 'Term 2 2019 - Start date',\n",
       "       'Term 2 2019 - End date', 'Term 4 2019 -Start date',\n",
       "       'Term 3 2019-End date', 'Term 4 2019-End date',\n",
       "       'Term 1 2021 - Start date - Students start 28 January in government schools',\n",
       "       'Term 3 2022 - Start date', 'Term 1 2021 - Start date',\n",
       "       'Term 2 2021 - Start date', 'Term 1 2020 - End date',\n",
       "       'Term 3 2022 - End date', 'Term 1 2022 - Start date',\n",
       "       'Term 2 2021 - End date', 'Term 4 2024 - End date',\n",
       "       'Term 4 2023 - Start date', 'Term 2 2025 - Start date',\n",
       "       'Term 3 2024 - End date', 'Daylight Savings Ends',\n",
       "       'Daylight Savings Starts', 'Tet Nam Moiaabsc', 'Magha Puja Day',\n",
       "       'Tibetan New Year', 'Mahavir Jayanti', 'Asalha Puja', 'Ullambana',\n",
       "       'Paryushana', 'Samvatsari', 'Daslakshana', 'Kshamavani', 'Kathina',\n",
       "       'Shemini Atzeret', 'Mahavira Nirvana (Diwali)',\n",
       "       'Day of the Covenant', \"Ascension of Abdu'l-Baha\",\n",
       "       'Assembly only sitting', 'Council only sitting',\n",
       "       'National Day of Mourning', 'Epiphany (Orthdox)',\n",
       "       'Lailat at Miraj', 'Lent begins', 'Annunciation', 'Ashura',\n",
       "       'Regional sitting - Council only', 'Assembly only',\n",
       "       'Feast of Epiphany (Orthdox)', 'Lunar New Year',\n",
       "       'Losar/Tibetan New Year', 'Good/Holy Friday (Orthodox)',\n",
       "       'Saga Dawa Duchen',\n",
       "       'Term 1 2026 - Start date - students start 28 January in government schools',\n",
       "       'Term 2 2026 - Start date', 'Term 3 2026 - Start date',\n",
       "       'Term 4 2026 - Start date', 'Term 1 2026 - End date',\n",
       "       'Term 2 2026 - End date', 'Term 3 2026 - End date',\n",
       "       'Term 4 2026 - End date',\n",
       "       'Term 1 2027 - Start date - students start 28 January in government schools',\n",
       "       'Term 2 2027 - Start date', 'Term 3 2027 - Start date',\n",
       "       'Term 4 2027 - Start date', 'Term 1 2027 - End date',\n",
       "       'Term 2 2027 - End date', 'Term 3 2027 - End date',\n",
       "       'Term 4 2027 - End date',\n",
       "       'Term 1 2028 - Start date - students start 28 January in government schools',\n",
       "       'Term 2 2028 - Start date', 'Term 3 2028 - Start date',\n",
       "       'Term 4 2028 - Start date', 'Term 1 2028 - End date',\n",
       "       'Term 2 2028 - End date', 'Term 3 2028 - End date',\n",
       "       'Term 4 2028 - End date',\n",
       "       'Term 1 2029 - Start date - students start 30 January in government schools',\n",
       "       'Term 2 2029 - Start date', 'Term 3 2029 - Start date',\n",
       "       'Term 4 2029 - Start date', 'Term 1 2029 - End date',\n",
       "       'Term 2 2029 - End date', 'Term 3 2029 - End date',\n",
       "       'Term 4 2029 - End date',\n",
       "       'Term 1 2030 - Start date - students start 30 January in government schools',\n",
       "       'Term 2 2030 - Start date', 'Term 3 2030 - Start date',\n",
       "       'Term 4 2030 - Start date', 'Term 1 2030 - End date',\n",
       "       'Term 2 2030 - End date', 'Term 3 2030 - End date',\n",
       "       'Term 4 2030 - End date', 'Sikh New Year', 'Easter/Pascha',\n",
       "       'Vaisakhi'], dtype=object)"
      ]
     },
     "execution_count": 89,
     "metadata": {},
     "output_type": "execute_result"
    }
   ],
   "source": [
    "all_holidays_victoria_df[\"name\"].unique()"
   ]
  },
  {
   "cell_type": "code",
   "execution_count": 90,
   "id": "022e65bb",
   "metadata": {},
   "outputs": [],
   "source": [
    "school_holidays = all_holidays_victoria_df[all_holidays_victoria_df[\"dateType\"] == \"SCHOOL_HOLIDAY\"]\n"
   ]
  },
  {
   "cell_type": "code",
   "execution_count": 91,
   "id": "a078e080",
   "metadata": {},
   "outputs": [
    {
     "name": "stderr",
     "output_type": "stream",
     "text": [
      "/var/folders/83/z6dh6x592f7cw62tg8hz97000000gp/T/ipykernel_32005/2825708164.py:2: SettingWithCopyWarning: \n",
      "A value is trying to be set on a copy of a slice from a DataFrame.\n",
      "Try using .loc[row_indexer,col_indexer] = value instead\n",
      "\n",
      "See the caveats in the documentation: https://pandas.pydata.org/pandas-docs/stable/user_guide/indexing.html#returning-a-view-versus-a-copy\n",
      "  school_holidays[\"important_date\"] = pd.to_datetime(school_holidays[\"important_date\"], dayfirst=True)\n"
     ]
    }
   ],
   "source": [
    "# Convert string to datetime\n",
    "school_holidays[\"important_date\"] = pd.to_datetime(school_holidays[\"important_date\"], dayfirst=True)  \n"
   ]
  },
  {
   "cell_type": "code",
   "execution_count": 92,
   "id": "97356d4c",
   "metadata": {},
   "outputs": [
    {
     "data": {
      "application/vnd.microsoft.datawrangler.viewer.v0+json": {
       "columns": [
        {
         "name": "index",
         "rawType": "int64",
         "type": "integer"
        },
        {
         "name": "week",
         "rawType": "datetime64[ns]",
         "type": "datetime"
        },
        {
         "name": "is_holiday",
         "rawType": "int64",
         "type": "integer"
        }
       ],
       "ref": "9e4ec82d-e30a-4421-8e5c-72d6feb69edb",
       "rows": [
        [
         "0",
         "2019-01-07 00:00:00",
         "0"
        ],
        [
         "1",
         "2019-01-14 00:00:00",
         "0"
        ],
        [
         "2",
         "2019-01-21 00:00:00",
         "0"
        ],
        [
         "3",
         "2019-01-28 00:00:00",
         "0"
        ],
        [
         "4",
         "2019-02-04 00:00:00",
         "0"
        ],
        [
         "5",
         "2019-02-11 00:00:00",
         "0"
        ],
        [
         "6",
         "2019-02-18 00:00:00",
         "0"
        ],
        [
         "7",
         "2019-02-25 00:00:00",
         "0"
        ],
        [
         "8",
         "2019-03-04 00:00:00",
         "0"
        ],
        [
         "9",
         "2019-03-11 00:00:00",
         "0"
        ],
        [
         "10",
         "2019-03-18 00:00:00",
         "0"
        ],
        [
         "11",
         "2019-03-25 00:00:00",
         "0"
        ],
        [
         "12",
         "2019-04-01 00:00:00",
         "0"
        ],
        [
         "13",
         "2019-04-08 00:00:00",
         "1"
        ],
        [
         "14",
         "2019-04-15 00:00:00",
         "1"
        ],
        [
         "15",
         "2019-04-22 00:00:00",
         "0"
        ],
        [
         "16",
         "2019-04-29 00:00:00",
         "0"
        ],
        [
         "17",
         "2019-05-06 00:00:00",
         "0"
        ],
        [
         "18",
         "2019-05-13 00:00:00",
         "0"
        ],
        [
         "19",
         "2019-05-20 00:00:00",
         "0"
        ],
        [
         "20",
         "2019-05-27 00:00:00",
         "0"
        ],
        [
         "21",
         "2019-06-03 00:00:00",
         "0"
        ],
        [
         "22",
         "2019-06-10 00:00:00",
         "0"
        ],
        [
         "23",
         "2019-06-17 00:00:00",
         "0"
        ],
        [
         "24",
         "2019-06-24 00:00:00",
         "0"
        ],
        [
         "25",
         "2019-07-01 00:00:00",
         "1"
        ],
        [
         "26",
         "2019-07-08 00:00:00",
         "1"
        ],
        [
         "27",
         "2019-07-15 00:00:00",
         "0"
        ],
        [
         "28",
         "2019-07-22 00:00:00",
         "0"
        ],
        [
         "29",
         "2019-07-29 00:00:00",
         "0"
        ],
        [
         "30",
         "2019-08-05 00:00:00",
         "0"
        ],
        [
         "31",
         "2019-08-12 00:00:00",
         "0"
        ],
        [
         "32",
         "2019-08-19 00:00:00",
         "0"
        ],
        [
         "33",
         "2019-08-26 00:00:00",
         "0"
        ],
        [
         "34",
         "2019-09-02 00:00:00",
         "0"
        ],
        [
         "35",
         "2019-09-09 00:00:00",
         "0"
        ],
        [
         "36",
         "2019-09-16 00:00:00",
         "0"
        ],
        [
         "37",
         "2019-09-23 00:00:00",
         "1"
        ],
        [
         "38",
         "2019-09-30 00:00:00",
         "1"
        ],
        [
         "39",
         "2019-10-07 00:00:00",
         "0"
        ],
        [
         "40",
         "2019-10-14 00:00:00",
         "0"
        ],
        [
         "41",
         "2019-10-21 00:00:00",
         "0"
        ],
        [
         "42",
         "2019-10-28 00:00:00",
         "0"
        ],
        [
         "43",
         "2019-11-04 00:00:00",
         "0"
        ],
        [
         "44",
         "2019-11-11 00:00:00",
         "0"
        ],
        [
         "45",
         "2019-11-18 00:00:00",
         "0"
        ],
        [
         "46",
         "2019-11-25 00:00:00",
         "0"
        ],
        [
         "47",
         "2019-12-02 00:00:00",
         "0"
        ],
        [
         "48",
         "2019-12-09 00:00:00",
         "0"
        ],
        [
         "49",
         "2019-12-16 00:00:00",
         "0"
        ]
       ],
       "shape": {
        "columns": 2,
        "rows": 365
       }
      },
      "text/html": [
       "<div>\n",
       "<style scoped>\n",
       "    .dataframe tbody tr th:only-of-type {\n",
       "        vertical-align: middle;\n",
       "    }\n",
       "\n",
       "    .dataframe tbody tr th {\n",
       "        vertical-align: top;\n",
       "    }\n",
       "\n",
       "    .dataframe thead th {\n",
       "        text-align: right;\n",
       "    }\n",
       "</style>\n",
       "<table border=\"1\" class=\"dataframe\">\n",
       "  <thead>\n",
       "    <tr style=\"text-align: right;\">\n",
       "      <th></th>\n",
       "      <th>week</th>\n",
       "      <th>is_holiday</th>\n",
       "    </tr>\n",
       "  </thead>\n",
       "  <tbody>\n",
       "    <tr>\n",
       "      <th>0</th>\n",
       "      <td>2019-01-07</td>\n",
       "      <td>0</td>\n",
       "    </tr>\n",
       "    <tr>\n",
       "      <th>1</th>\n",
       "      <td>2019-01-14</td>\n",
       "      <td>0</td>\n",
       "    </tr>\n",
       "    <tr>\n",
       "      <th>2</th>\n",
       "      <td>2019-01-21</td>\n",
       "      <td>0</td>\n",
       "    </tr>\n",
       "    <tr>\n",
       "      <th>3</th>\n",
       "      <td>2019-01-28</td>\n",
       "      <td>0</td>\n",
       "    </tr>\n",
       "    <tr>\n",
       "      <th>4</th>\n",
       "      <td>2019-02-04</td>\n",
       "      <td>0</td>\n",
       "    </tr>\n",
       "    <tr>\n",
       "      <th>...</th>\n",
       "      <td>...</td>\n",
       "      <td>...</td>\n",
       "    </tr>\n",
       "    <tr>\n",
       "      <th>360</th>\n",
       "      <td>2025-12-01</td>\n",
       "      <td>0</td>\n",
       "    </tr>\n",
       "    <tr>\n",
       "      <th>361</th>\n",
       "      <td>2025-12-08</td>\n",
       "      <td>0</td>\n",
       "    </tr>\n",
       "    <tr>\n",
       "      <th>362</th>\n",
       "      <td>2025-12-15</td>\n",
       "      <td>0</td>\n",
       "    </tr>\n",
       "    <tr>\n",
       "      <th>363</th>\n",
       "      <td>2025-12-22</td>\n",
       "      <td>0</td>\n",
       "    </tr>\n",
       "    <tr>\n",
       "      <th>364</th>\n",
       "      <td>2025-12-29</td>\n",
       "      <td>0</td>\n",
       "    </tr>\n",
       "  </tbody>\n",
       "</table>\n",
       "<p>365 rows × 2 columns</p>\n",
       "</div>"
      ],
      "text/plain": [
       "          week  is_holiday\n",
       "0   2019-01-07           0\n",
       "1   2019-01-14           0\n",
       "2   2019-01-21           0\n",
       "3   2019-01-28           0\n",
       "4   2019-02-04           0\n",
       "..         ...         ...\n",
       "360 2025-12-01           0\n",
       "361 2025-12-08           0\n",
       "362 2025-12-15           0\n",
       "363 2025-12-22           0\n",
       "364 2025-12-29           0\n",
       "\n",
       "[365 rows x 2 columns]"
      ]
     },
     "execution_count": 92,
     "metadata": {},
     "output_type": "execute_result"
    }
   ],
   "source": [
    "import numpy as np\n",
    "import re\n",
    "\n",
    "# --- 0) Start from your dataframe of holidays only ---\n",
    "hol = school_holidays.copy()\n",
    "hol = hol[hol[\"dateType\"].eq(\"SCHOOL_HOLIDAY\")].copy()\n",
    "\n",
    "# Parse the date column\n",
    "hol[\"important_date\"] = pd.to_datetime(hol[\"important_date\"], dayfirst=True, errors=\"coerce\")\n",
    "\n",
    "# --- 1) Robust start/end detection (just the words 'start'/'end') ---\n",
    "name_lower = hol[\"name\"].str.lower()\n",
    "hol[\"boundary\"] = np.where(name_lower.str.contains(r\"\\bend\\b\"), \"end\",\n",
    "                   np.where(name_lower.str.contains(r\"\\bstart\\b\"), \"start\", pd.NA))\n",
    "\n",
    "# Keep only rows where we could tell start/end\n",
    "hol = hol.dropna(subset=[\"boundary\"])\n",
    "\n",
    "# --- 2) Extract a clean key to pair starts with ends (e.g., 'Term 3 2025') ---\n",
    "# Handles 'Term 3 2025', 'Term3 2025', extra spaces, etc.\n",
    "hol[\"term\"] = hol[\"name\"].str.extract(r\"term\\s*([1-4])\", flags=re.I, expand=True)\n",
    "hol[\"year\"] = hol[\"name\"].str.extract(r\"(20\\d{2}|2030)\", flags=re.I, expand=True)\n",
    "hol = hol.dropna(subset=[\"term\",\"year\"])\n",
    "hol[\"term_key\"] = \"Term \" + hol[\"term\"].astype(str) + \" \" + hol[\"year\"].astype(str)\n",
    "\n",
    "# --- 3) Get one start + end per term_key (min/max covers duplicates) ---\n",
    "tidy = (hol.groupby([\"term_key\"])\n",
    "          .agg(start=(\"important_date\", lambda s: s[name_lower.loc[s.index].str.contains(r\"\\bstart\\b\")].min()),\n",
    "               end  =(\"important_date\", lambda s: s[name_lower.loc[s.index].str.contains(r\"\\bend\\b\")].max()))\n",
    "          .reset_index())\n",
    "\n",
    "# Drop incomplete or reversed intervals\n",
    "tidy = tidy.dropna(subset=[\"start\",\"end\"])\n",
    "tidy = tidy[tidy[\"start\"] <= tidy[\"end\"]].sort_values(\"start\").reset_index(drop=True)\n",
    "\n",
    "# --- 4) Weekly calendar with overlap logic (counts weeks that partially overlap) ---\n",
    "calendar = pd.DataFrame({\"week\": pd.date_range(\"2014-01-01\", \"2030-12-31\", freq=\"W-MON\")})\n",
    "calendar[\"week_end\"] = calendar[\"week\"] + pd.Timedelta(days=6)\n",
    "calendar[\"is_holiday\"] = 0\n",
    "\n",
    "for _, r in tidy.iterrows():\n",
    "    overlap = (calendar[\"week_end\"] >= r[\"start\"]) & (calendar[\"week\"] <= r[\"end\"])\n",
    "    calendar.loc[overlap, \"is_holiday\"] = 1\n",
    "\n",
    "holiday_weeks_victoria = calendar[[\"week\", \"is_holiday\"]]\n",
    "\n",
    "# Find the range of years actually present in your Excel file\n",
    "min_year = hol[\"important_date\"].dt.year.min()\n",
    "max_year = hol[\"important_date\"].dt.year.max()\n",
    "\n",
    "# Keep only weeks within that year range\n",
    "holiday_weeks_victoria = holiday_weeks_victoria[\n",
    "    (holiday_weeks_victoria[\"week\"].dt.year >= min_year) &\n",
    "    (holiday_weeks_victoria[\"week\"].dt.year <= max_year)\n",
    "].reset_index(drop=True)\n",
    "\n",
    "holiday_weeks_victoria\n"
   ]
  },
  {
   "cell_type": "code",
   "execution_count": 93,
   "id": "ed96b1aa",
   "metadata": {},
   "outputs": [
    {
     "data": {
      "application/vnd.microsoft.datawrangler.viewer.v0+json": {
       "columns": [
        {
         "name": "index",
         "rawType": "int64",
         "type": "integer"
        },
        {
         "name": "City",
         "rawType": "object",
         "type": "string"
        },
        {
         "name": "Date",
         "rawType": "object",
         "type": "string"
        },
        {
         "name": "schoolhols",
         "rawType": "int64",
         "type": "integer"
        },
        {
         "name": "school.hols",
         "rawType": "float64",
         "type": "float"
        }
       ],
       "ref": "87bd6456-7e4a-478e-b494-8f2f78c55bea",
       "rows": [
        [
         "1",
         "Adelaide",
         "2004-01-01",
         "1",
         "4.0"
        ],
        [
         "2",
         "Brisbane",
         "2004-01-01",
         "1",
         "4.0"
        ],
        [
         "3",
         "Canberra",
         "2004-01-01",
         "1",
         "4.0"
        ],
        [
         "4",
         "Darwin",
         "2004-01-01",
         "1",
         "4.0"
        ],
        [
         "5",
         "Hobart",
         "2004-01-01",
         "1",
         "4.0"
        ],
        [
         "6",
         "Melbourne",
         "2004-01-01",
         "1",
         "4.0"
        ],
        [
         "7",
         "Perth",
         "2004-01-01",
         "1",
         "4.0"
        ],
        [
         "8",
         "Sydney",
         "2004-01-01",
         "1",
         "4.0"
        ],
        [
         "9",
         "Adelaide",
         "2004-01-02",
         "1",
         "4.0"
        ],
        [
         "10",
         "Brisbane",
         "2004-01-02",
         "1",
         "4.0"
        ],
        [
         "11",
         "Canberra",
         "2004-01-02",
         "1",
         "4.0"
        ],
        [
         "12",
         "Darwin",
         "2004-01-02",
         "1",
         "4.0"
        ],
        [
         "13",
         "Hobart",
         "2004-01-02",
         "1",
         "4.0"
        ],
        [
         "14",
         "Melbourne",
         "2004-01-02",
         "1",
         "4.0"
        ],
        [
         "15",
         "Perth",
         "2004-01-02",
         "1",
         "4.0"
        ],
        [
         "16",
         "Sydney",
         "2004-01-02",
         "1",
         "4.0"
        ],
        [
         "17",
         "Adelaide",
         "2004-01-03",
         "1",
         "4.0"
        ],
        [
         "18",
         "Brisbane",
         "2004-01-03",
         "1",
         "4.0"
        ],
        [
         "19",
         "Canberra",
         "2004-01-03",
         "1",
         "4.0"
        ],
        [
         "20",
         "Darwin",
         "2004-01-03",
         "1",
         "4.0"
        ],
        [
         "21",
         "Hobart",
         "2004-01-03",
         "1",
         "4.0"
        ],
        [
         "22",
         "Melbourne",
         "2004-01-03",
         "1",
         "4.0"
        ],
        [
         "23",
         "Perth",
         "2004-01-03",
         "1",
         "4.0"
        ],
        [
         "24",
         "Sydney",
         "2004-01-03",
         "1",
         "4.0"
        ],
        [
         "25",
         "Adelaide",
         "2004-01-04",
         "1",
         "4.0"
        ],
        [
         "26",
         "Brisbane",
         "2004-01-04",
         "1",
         "4.0"
        ],
        [
         "27",
         "Canberra",
         "2004-01-04",
         "1",
         "4.0"
        ],
        [
         "28",
         "Darwin",
         "2004-01-04",
         "1",
         "4.0"
        ],
        [
         "29",
         "Hobart",
         "2004-01-04",
         "1",
         "4.0"
        ],
        [
         "30",
         "Melbourne",
         "2004-01-04",
         "1",
         "4.0"
        ],
        [
         "31",
         "Perth",
         "2004-01-04",
         "1",
         "4.0"
        ],
        [
         "32",
         "Sydney",
         "2004-01-04",
         "1",
         "4.0"
        ],
        [
         "33",
         "Adelaide",
         "2004-01-05",
         "1",
         "4.0"
        ],
        [
         "34",
         "Brisbane",
         "2004-01-05",
         "1",
         "4.0"
        ],
        [
         "35",
         "Canberra",
         "2004-01-05",
         "1",
         "4.0"
        ],
        [
         "36",
         "Darwin",
         "2004-01-05",
         "1",
         "4.0"
        ],
        [
         "37",
         "Hobart",
         "2004-01-05",
         "1",
         "4.0"
        ],
        [
         "38",
         "Melbourne",
         "2004-01-05",
         "1",
         "4.0"
        ],
        [
         "39",
         "Perth",
         "2004-01-05",
         "1",
         "4.0"
        ],
        [
         "40",
         "Sydney",
         "2004-01-05",
         "1",
         "4.0"
        ],
        [
         "41",
         "Adelaide",
         "2004-01-06",
         "1",
         "4.0"
        ],
        [
         "42",
         "Brisbane",
         "2004-01-06",
         "1",
         "4.0"
        ],
        [
         "43",
         "Canberra",
         "2004-01-06",
         "1",
         "4.0"
        ],
        [
         "44",
         "Darwin",
         "2004-01-06",
         "1",
         "4.0"
        ],
        [
         "45",
         "Hobart",
         "2004-01-06",
         "1",
         "4.0"
        ],
        [
         "46",
         "Melbourne",
         "2004-01-06",
         "1",
         "4.0"
        ],
        [
         "47",
         "Perth",
         "2004-01-06",
         "1",
         "4.0"
        ],
        [
         "48",
         "Sydney",
         "2004-01-06",
         "1",
         "4.0"
        ],
        [
         "49",
         "Adelaide",
         "2004-01-07",
         "1",
         "4.0"
        ],
        [
         "50",
         "Brisbane",
         "2004-01-07",
         "1",
         "4.0"
        ]
       ],
       "shape": {
        "columns": 4,
        "rows": 58440
       }
      },
      "text/html": [
       "<div>\n",
       "<style scoped>\n",
       "    .dataframe tbody tr th:only-of-type {\n",
       "        vertical-align: middle;\n",
       "    }\n",
       "\n",
       "    .dataframe tbody tr th {\n",
       "        vertical-align: top;\n",
       "    }\n",
       "\n",
       "    .dataframe thead th {\n",
       "        text-align: right;\n",
       "    }\n",
       "</style>\n",
       "<table border=\"1\" class=\"dataframe\">\n",
       "  <thead>\n",
       "    <tr style=\"text-align: right;\">\n",
       "      <th></th>\n",
       "      <th>City</th>\n",
       "      <th>Date</th>\n",
       "      <th>schoolhols</th>\n",
       "      <th>school.hols</th>\n",
       "    </tr>\n",
       "  </thead>\n",
       "  <tbody>\n",
       "    <tr>\n",
       "      <th>1</th>\n",
       "      <td>Adelaide</td>\n",
       "      <td>2004-01-01</td>\n",
       "      <td>1</td>\n",
       "      <td>4.0</td>\n",
       "    </tr>\n",
       "    <tr>\n",
       "      <th>2</th>\n",
       "      <td>Brisbane</td>\n",
       "      <td>2004-01-01</td>\n",
       "      <td>1</td>\n",
       "      <td>4.0</td>\n",
       "    </tr>\n",
       "    <tr>\n",
       "      <th>3</th>\n",
       "      <td>Canberra</td>\n",
       "      <td>2004-01-01</td>\n",
       "      <td>1</td>\n",
       "      <td>4.0</td>\n",
       "    </tr>\n",
       "    <tr>\n",
       "      <th>4</th>\n",
       "      <td>Darwin</td>\n",
       "      <td>2004-01-01</td>\n",
       "      <td>1</td>\n",
       "      <td>4.0</td>\n",
       "    </tr>\n",
       "    <tr>\n",
       "      <th>5</th>\n",
       "      <td>Hobart</td>\n",
       "      <td>2004-01-01</td>\n",
       "      <td>1</td>\n",
       "      <td>4.0</td>\n",
       "    </tr>\n",
       "    <tr>\n",
       "      <th>...</th>\n",
       "      <td>...</td>\n",
       "      <td>...</td>\n",
       "      <td>...</td>\n",
       "      <td>...</td>\n",
       "    </tr>\n",
       "    <tr>\n",
       "      <th>58436</th>\n",
       "      <td>Darwin</td>\n",
       "      <td>2023-12-31</td>\n",
       "      <td>1</td>\n",
       "      <td>4.0</td>\n",
       "    </tr>\n",
       "    <tr>\n",
       "      <th>58437</th>\n",
       "      <td>Hobart</td>\n",
       "      <td>2023-12-31</td>\n",
       "      <td>1</td>\n",
       "      <td>4.0</td>\n",
       "    </tr>\n",
       "    <tr>\n",
       "      <th>58438</th>\n",
       "      <td>Melbourne</td>\n",
       "      <td>2023-12-31</td>\n",
       "      <td>1</td>\n",
       "      <td>4.0</td>\n",
       "    </tr>\n",
       "    <tr>\n",
       "      <th>58439</th>\n",
       "      <td>Perth</td>\n",
       "      <td>2023-12-31</td>\n",
       "      <td>1</td>\n",
       "      <td>4.0</td>\n",
       "    </tr>\n",
       "    <tr>\n",
       "      <th>58440</th>\n",
       "      <td>Sydney</td>\n",
       "      <td>2023-12-31</td>\n",
       "      <td>1</td>\n",
       "      <td>4.0</td>\n",
       "    </tr>\n",
       "  </tbody>\n",
       "</table>\n",
       "<p>58440 rows × 4 columns</p>\n",
       "</div>"
      ],
      "text/plain": [
       "            City        Date  schoolhols  school.hols\n",
       "1       Adelaide  2004-01-01           1          4.0\n",
       "2       Brisbane  2004-01-01           1          4.0\n",
       "3       Canberra  2004-01-01           1          4.0\n",
       "4         Darwin  2004-01-01           1          4.0\n",
       "5         Hobart  2004-01-01           1          4.0\n",
       "...          ...         ...         ...          ...\n",
       "58436     Darwin  2023-12-31           1          4.0\n",
       "58437     Hobart  2023-12-31           1          4.0\n",
       "58438  Melbourne  2023-12-31           1          4.0\n",
       "58439      Perth  2023-12-31           1          4.0\n",
       "58440     Sydney  2023-12-31           1          4.0\n",
       "\n",
       "[58440 rows x 4 columns]"
      ]
     },
     "execution_count": 93,
     "metadata": {},
     "output_type": "execute_result"
    }
   ],
   "source": [
    "school_holidays_all_states = pd.read_csv(\"school.holidays_all_states.txt\")\n",
    "school_holidays_all_states"
   ]
  },
  {
   "cell_type": "code",
   "execution_count": 94,
   "id": "803dffab",
   "metadata": {},
   "outputs": [
    {
     "data": {
      "application/vnd.microsoft.datawrangler.viewer.v0+json": {
       "columns": [
        {
         "name": "index",
         "rawType": "int64",
         "type": "integer"
        },
        {
         "name": "week",
         "rawType": "datetime64[ns]",
         "type": "datetime"
        },
        {
         "name": "is_holiday",
         "rawType": "int64",
         "type": "integer"
        }
       ],
       "ref": "b4c02572-ff1c-4e67-974a-c8a38095c588",
       "rows": [
        [
         "0",
         "2003-12-30 00:00:00",
         "1"
        ],
        [
         "1",
         "2004-01-06 00:00:00",
         "1"
        ],
        [
         "2",
         "2004-01-13 00:00:00",
         "1"
        ],
        [
         "3",
         "2004-01-20 00:00:00",
         "1"
        ],
        [
         "4",
         "2004-01-27 00:00:00",
         "1"
        ],
        [
         "5",
         "2004-02-03 00:00:00",
         "0"
        ],
        [
         "6",
         "2004-02-10 00:00:00",
         "0"
        ],
        [
         "7",
         "2004-02-17 00:00:00",
         "0"
        ],
        [
         "8",
         "2004-02-24 00:00:00",
         "0"
        ],
        [
         "9",
         "2004-03-02 00:00:00",
         "0"
        ],
        [
         "10",
         "2004-03-09 00:00:00",
         "0"
        ],
        [
         "11",
         "2004-03-16 00:00:00",
         "0"
        ],
        [
         "12",
         "2004-03-23 00:00:00",
         "0"
        ],
        [
         "13",
         "2004-03-30 00:00:00",
         "1"
        ],
        [
         "14",
         "2004-04-06 00:00:00",
         "1"
        ],
        [
         "15",
         "2004-04-13 00:00:00",
         "1"
        ],
        [
         "16",
         "2004-04-20 00:00:00",
         "0"
        ],
        [
         "17",
         "2004-04-27 00:00:00",
         "0"
        ],
        [
         "18",
         "2004-05-04 00:00:00",
         "0"
        ],
        [
         "19",
         "2004-05-11 00:00:00",
         "0"
        ],
        [
         "20",
         "2004-05-18 00:00:00",
         "0"
        ],
        [
         "21",
         "2004-05-25 00:00:00",
         "0"
        ],
        [
         "22",
         "2004-06-01 00:00:00",
         "0"
        ],
        [
         "23",
         "2004-06-08 00:00:00",
         "0"
        ],
        [
         "24",
         "2004-06-15 00:00:00",
         "0"
        ],
        [
         "25",
         "2004-06-22 00:00:00",
         "1"
        ],
        [
         "26",
         "2004-06-29 00:00:00",
         "1"
        ],
        [
         "27",
         "2004-07-06 00:00:00",
         "1"
        ],
        [
         "28",
         "2004-07-13 00:00:00",
         "0"
        ],
        [
         "29",
         "2004-07-20 00:00:00",
         "0"
        ],
        [
         "30",
         "2004-07-27 00:00:00",
         "0"
        ],
        [
         "31",
         "2004-08-03 00:00:00",
         "0"
        ],
        [
         "32",
         "2004-08-10 00:00:00",
         "0"
        ],
        [
         "33",
         "2004-08-17 00:00:00",
         "0"
        ],
        [
         "34",
         "2004-08-24 00:00:00",
         "0"
        ],
        [
         "35",
         "2004-08-31 00:00:00",
         "0"
        ],
        [
         "36",
         "2004-09-07 00:00:00",
         "0"
        ],
        [
         "37",
         "2004-09-14 00:00:00",
         "1"
        ],
        [
         "38",
         "2004-09-21 00:00:00",
         "1"
        ],
        [
         "39",
         "2004-09-28 00:00:00",
         "1"
        ],
        [
         "40",
         "2004-10-05 00:00:00",
         "0"
        ],
        [
         "41",
         "2004-10-12 00:00:00",
         "0"
        ],
        [
         "42",
         "2004-10-19 00:00:00",
         "0"
        ],
        [
         "43",
         "2004-10-26 00:00:00",
         "0"
        ],
        [
         "44",
         "2004-11-02 00:00:00",
         "0"
        ],
        [
         "45",
         "2004-11-09 00:00:00",
         "0"
        ],
        [
         "46",
         "2004-11-16 00:00:00",
         "0"
        ],
        [
         "47",
         "2004-11-23 00:00:00",
         "0"
        ],
        [
         "48",
         "2004-11-30 00:00:00",
         "0"
        ],
        [
         "49",
         "2004-12-07 00:00:00",
         "0"
        ]
       ],
       "shape": {
        "columns": 2,
        "rows": 1044
       }
      },
      "text/html": [
       "<div>\n",
       "<style scoped>\n",
       "    .dataframe tbody tr th:only-of-type {\n",
       "        vertical-align: middle;\n",
       "    }\n",
       "\n",
       "    .dataframe tbody tr th {\n",
       "        vertical-align: top;\n",
       "    }\n",
       "\n",
       "    .dataframe thead th {\n",
       "        text-align: right;\n",
       "    }\n",
       "</style>\n",
       "<table border=\"1\" class=\"dataframe\">\n",
       "  <thead>\n",
       "    <tr style=\"text-align: right;\">\n",
       "      <th></th>\n",
       "      <th>week</th>\n",
       "      <th>is_holiday</th>\n",
       "    </tr>\n",
       "  </thead>\n",
       "  <tbody>\n",
       "    <tr>\n",
       "      <th>0</th>\n",
       "      <td>2003-12-30</td>\n",
       "      <td>1</td>\n",
       "    </tr>\n",
       "    <tr>\n",
       "      <th>1</th>\n",
       "      <td>2004-01-06</td>\n",
       "      <td>1</td>\n",
       "    </tr>\n",
       "    <tr>\n",
       "      <th>2</th>\n",
       "      <td>2004-01-13</td>\n",
       "      <td>1</td>\n",
       "    </tr>\n",
       "    <tr>\n",
       "      <th>3</th>\n",
       "      <td>2004-01-20</td>\n",
       "      <td>1</td>\n",
       "    </tr>\n",
       "    <tr>\n",
       "      <th>4</th>\n",
       "      <td>2004-01-27</td>\n",
       "      <td>1</td>\n",
       "    </tr>\n",
       "    <tr>\n",
       "      <th>...</th>\n",
       "      <td>...</td>\n",
       "      <td>...</td>\n",
       "    </tr>\n",
       "    <tr>\n",
       "      <th>1039</th>\n",
       "      <td>2023-11-28</td>\n",
       "      <td>0</td>\n",
       "    </tr>\n",
       "    <tr>\n",
       "      <th>1040</th>\n",
       "      <td>2023-12-05</td>\n",
       "      <td>0</td>\n",
       "    </tr>\n",
       "    <tr>\n",
       "      <th>1041</th>\n",
       "      <td>2023-12-12</td>\n",
       "      <td>0</td>\n",
       "    </tr>\n",
       "    <tr>\n",
       "      <th>1042</th>\n",
       "      <td>2023-12-19</td>\n",
       "      <td>1</td>\n",
       "    </tr>\n",
       "    <tr>\n",
       "      <th>1043</th>\n",
       "      <td>2023-12-26</td>\n",
       "      <td>1</td>\n",
       "    </tr>\n",
       "  </tbody>\n",
       "</table>\n",
       "<p>1044 rows × 2 columns</p>\n",
       "</div>"
      ],
      "text/plain": [
       "           week  is_holiday\n",
       "0    2003-12-30           1\n",
       "1    2004-01-06           1\n",
       "2    2004-01-13           1\n",
       "3    2004-01-20           1\n",
       "4    2004-01-27           1\n",
       "...         ...         ...\n",
       "1039 2023-11-28           0\n",
       "1040 2023-12-05           0\n",
       "1041 2023-12-12           0\n",
       "1042 2023-12-19           1\n",
       "1043 2023-12-26           1\n",
       "\n",
       "[1044 rows x 2 columns]"
      ]
     },
     "execution_count": 94,
     "metadata": {},
     "output_type": "execute_result"
    }
   ],
   "source": [
    "# Filter Melbourne only\n",
    "mel = school_holidays_all_states[\n",
    "    school_holidays_all_states[\"City\"].str.lower() == \"melbourne\"\n",
    "].copy()\n",
    "\n",
    "# 1) ensure datetime\n",
    "mel[\"Date\"] = pd.to_datetime(mel[\"Date\"], errors=\"coerce\")\n",
    "\n",
    "# 2) map each day to its week start (Monday)\n",
    "mel[\"week\"] = mel[\"Date\"].dt.to_period(\"W-MON\").dt.start_time\n",
    "\n",
    "# 3) weekly dummy: if any day in the week is a holiday -> 1\n",
    "mel_weekly = (mel.groupby(\"week\")[\"schoolhols\"]\n",
    "                .max()\n",
    "                .reset_index()\n",
    "                .rename(columns={\"schoolhols\": \"is_holiday\"}))\n",
    "\n",
    "# optional: sort\n",
    "mel_weekly = mel_weekly.sort_values(\"week\").reset_index(drop=True)\n",
    "\n",
    "mel_weekly\n"
   ]
  },
  {
   "cell_type": "code",
   "execution_count": 95,
   "id": "4bb80820",
   "metadata": {},
   "outputs": [
    {
     "data": {
      "application/vnd.microsoft.datawrangler.viewer.v0+json": {
       "columns": [
        {
         "name": "index",
         "rawType": "int64",
         "type": "integer"
        },
        {
         "name": "week",
         "rawType": "datetime64[ns]",
         "type": "datetime"
        },
        {
         "name": "is_holiday",
         "rawType": "int64",
         "type": "integer"
        }
       ],
       "ref": "275475a5-d208-4b7d-8956-51c3755dfe9a",
       "rows": [
        [
         "0",
         "2003-12-30 00:00:00",
         "1"
        ],
        [
         "1",
         "2004-01-06 00:00:00",
         "1"
        ],
        [
         "2",
         "2004-01-13 00:00:00",
         "1"
        ],
        [
         "3",
         "2004-01-20 00:00:00",
         "1"
        ],
        [
         "4",
         "2004-01-27 00:00:00",
         "1"
        ],
        [
         "5",
         "2004-02-03 00:00:00",
         "0"
        ],
        [
         "6",
         "2004-02-10 00:00:00",
         "0"
        ],
        [
         "7",
         "2004-02-17 00:00:00",
         "0"
        ],
        [
         "8",
         "2004-02-24 00:00:00",
         "0"
        ],
        [
         "9",
         "2004-03-02 00:00:00",
         "0"
        ],
        [
         "10",
         "2004-03-09 00:00:00",
         "0"
        ],
        [
         "11",
         "2004-03-16 00:00:00",
         "0"
        ],
        [
         "12",
         "2004-03-23 00:00:00",
         "0"
        ],
        [
         "13",
         "2004-03-30 00:00:00",
         "1"
        ],
        [
         "14",
         "2004-04-06 00:00:00",
         "1"
        ],
        [
         "15",
         "2004-04-13 00:00:00",
         "1"
        ],
        [
         "16",
         "2004-04-20 00:00:00",
         "0"
        ],
        [
         "17",
         "2004-04-27 00:00:00",
         "0"
        ],
        [
         "18",
         "2004-05-04 00:00:00",
         "0"
        ],
        [
         "19",
         "2004-05-11 00:00:00",
         "0"
        ],
        [
         "20",
         "2004-05-18 00:00:00",
         "0"
        ],
        [
         "21",
         "2004-05-25 00:00:00",
         "0"
        ],
        [
         "22",
         "2004-06-01 00:00:00",
         "0"
        ],
        [
         "23",
         "2004-06-08 00:00:00",
         "0"
        ],
        [
         "24",
         "2004-06-15 00:00:00",
         "0"
        ],
        [
         "25",
         "2004-06-22 00:00:00",
         "1"
        ],
        [
         "26",
         "2004-06-29 00:00:00",
         "1"
        ],
        [
         "27",
         "2004-07-06 00:00:00",
         "1"
        ],
        [
         "28",
         "2004-07-13 00:00:00",
         "0"
        ],
        [
         "29",
         "2004-07-20 00:00:00",
         "0"
        ],
        [
         "30",
         "2004-07-27 00:00:00",
         "0"
        ],
        [
         "31",
         "2004-08-03 00:00:00",
         "0"
        ],
        [
         "32",
         "2004-08-10 00:00:00",
         "0"
        ],
        [
         "33",
         "2004-08-17 00:00:00",
         "0"
        ],
        [
         "34",
         "2004-08-24 00:00:00",
         "0"
        ],
        [
         "35",
         "2004-08-31 00:00:00",
         "0"
        ],
        [
         "36",
         "2004-09-07 00:00:00",
         "0"
        ],
        [
         "37",
         "2004-09-14 00:00:00",
         "1"
        ],
        [
         "38",
         "2004-09-21 00:00:00",
         "1"
        ],
        [
         "39",
         "2004-09-28 00:00:00",
         "1"
        ],
        [
         "40",
         "2004-10-05 00:00:00",
         "0"
        ],
        [
         "41",
         "2004-10-12 00:00:00",
         "0"
        ],
        [
         "42",
         "2004-10-19 00:00:00",
         "0"
        ],
        [
         "43",
         "2004-10-26 00:00:00",
         "0"
        ],
        [
         "44",
         "2004-11-02 00:00:00",
         "0"
        ],
        [
         "45",
         "2004-11-09 00:00:00",
         "0"
        ],
        [
         "46",
         "2004-11-16 00:00:00",
         "0"
        ],
        [
         "47",
         "2004-11-23 00:00:00",
         "0"
        ],
        [
         "48",
         "2004-11-30 00:00:00",
         "0"
        ],
        [
         "49",
         "2004-12-07 00:00:00",
         "0"
        ]
       ],
       "shape": {
        "columns": 2,
        "rows": 1409
       }
      },
      "text/html": [
       "<div>\n",
       "<style scoped>\n",
       "    .dataframe tbody tr th:only-of-type {\n",
       "        vertical-align: middle;\n",
       "    }\n",
       "\n",
       "    .dataframe tbody tr th {\n",
       "        vertical-align: top;\n",
       "    }\n",
       "\n",
       "    .dataframe thead th {\n",
       "        text-align: right;\n",
       "    }\n",
       "</style>\n",
       "<table border=\"1\" class=\"dataframe\">\n",
       "  <thead>\n",
       "    <tr style=\"text-align: right;\">\n",
       "      <th></th>\n",
       "      <th>week</th>\n",
       "      <th>is_holiday</th>\n",
       "    </tr>\n",
       "  </thead>\n",
       "  <tbody>\n",
       "    <tr>\n",
       "      <th>0</th>\n",
       "      <td>2003-12-30</td>\n",
       "      <td>1</td>\n",
       "    </tr>\n",
       "    <tr>\n",
       "      <th>1</th>\n",
       "      <td>2004-01-06</td>\n",
       "      <td>1</td>\n",
       "    </tr>\n",
       "    <tr>\n",
       "      <th>2</th>\n",
       "      <td>2004-01-13</td>\n",
       "      <td>1</td>\n",
       "    </tr>\n",
       "    <tr>\n",
       "      <th>3</th>\n",
       "      <td>2004-01-20</td>\n",
       "      <td>1</td>\n",
       "    </tr>\n",
       "    <tr>\n",
       "      <th>4</th>\n",
       "      <td>2004-01-27</td>\n",
       "      <td>1</td>\n",
       "    </tr>\n",
       "    <tr>\n",
       "      <th>...</th>\n",
       "      <td>...</td>\n",
       "      <td>...</td>\n",
       "    </tr>\n",
       "    <tr>\n",
       "      <th>1404</th>\n",
       "      <td>2025-12-01</td>\n",
       "      <td>0</td>\n",
       "    </tr>\n",
       "    <tr>\n",
       "      <th>1405</th>\n",
       "      <td>2025-12-08</td>\n",
       "      <td>0</td>\n",
       "    </tr>\n",
       "    <tr>\n",
       "      <th>1406</th>\n",
       "      <td>2025-12-15</td>\n",
       "      <td>0</td>\n",
       "    </tr>\n",
       "    <tr>\n",
       "      <th>1407</th>\n",
       "      <td>2025-12-22</td>\n",
       "      <td>0</td>\n",
       "    </tr>\n",
       "    <tr>\n",
       "      <th>1408</th>\n",
       "      <td>2025-12-29</td>\n",
       "      <td>0</td>\n",
       "    </tr>\n",
       "  </tbody>\n",
       "</table>\n",
       "<p>1409 rows × 2 columns</p>\n",
       "</div>"
      ],
      "text/plain": [
       "           week  is_holiday\n",
       "0    2003-12-30           1\n",
       "1    2004-01-06           1\n",
       "2    2004-01-13           1\n",
       "3    2004-01-20           1\n",
       "4    2004-01-27           1\n",
       "...         ...         ...\n",
       "1404 2025-12-01           0\n",
       "1405 2025-12-08           0\n",
       "1406 2025-12-15           0\n",
       "1407 2025-12-22           0\n",
       "1408 2025-12-29           0\n",
       "\n",
       "[1409 rows x 2 columns]"
      ]
     },
     "execution_count": 95,
     "metadata": {},
     "output_type": "execute_result"
    }
   ],
   "source": [
    "# ensure same dtypes\n",
    "mel_weekly[\"week\"] = pd.to_datetime(mel_weekly[\"week\"])\n",
    "holiday_weeks_victoria[\"week\"] = pd.to_datetime(holiday_weeks_victoria[\"week\"])\n",
    "\n",
    "# merge the two\n",
    "combined = mel_weekly.merge(\n",
    "    holiday_weeks_victoria, on=\"week\", how=\"outer\", suffixes=(\"_mel\", \"_vic\")\n",
    ")\n",
    "\n",
    "# use Melbourne if it exists, otherwise Victoria\n",
    "combined[\"is_holiday\"] = combined[\"is_holiday_mel\"].where(\n",
    "    combined[\"is_holiday_mel\"].notna(), combined[\"is_holiday_vic\"]\n",
    ").fillna(0).astype(int)\n",
    "\n",
    "# final weekly dataframe\n",
    "holiday_weeks_melbourne = (\n",
    "    combined[[\"week\", \"is_holiday\"]]\n",
    "    .sort_values(\"week\")\n",
    "    .reset_index(drop=True)\n",
    ")\n",
    "\n",
    "holiday_weeks_melbourne\n"
   ]
  },
  {
   "cell_type": "code",
   "execution_count": 96,
   "id": "7f651963",
   "metadata": {},
   "outputs": [
    {
     "data": {
      "application/vnd.microsoft.datawrangler.viewer.v0+json": {
       "columns": [
        {
         "name": "index",
         "rawType": "int64",
         "type": "integer"
        },
        {
         "name": "week",
         "rawType": "datetime64[ns]",
         "type": "datetime"
        },
        {
         "name": "is_holiday",
         "rawType": "int64",
         "type": "integer"
        }
       ],
       "ref": "57470f4a-1361-4d03-a03f-75d7f000cb56",
       "rows": [
        [
         "0",
         "2003-12-30 00:00:00",
         "1"
        ],
        [
         "1",
         "2004-01-06 00:00:00",
         "1"
        ],
        [
         "2",
         "2004-01-13 00:00:00",
         "1"
        ],
        [
         "3",
         "2004-01-20 00:00:00",
         "1"
        ],
        [
         "4",
         "2004-01-27 00:00:00",
         "0"
        ],
        [
         "5",
         "2004-02-03 00:00:00",
         "0"
        ],
        [
         "6",
         "2004-02-10 00:00:00",
         "0"
        ],
        [
         "7",
         "2004-02-17 00:00:00",
         "0"
        ],
        [
         "8",
         "2004-02-24 00:00:00",
         "0"
        ],
        [
         "9",
         "2004-03-02 00:00:00",
         "0"
        ],
        [
         "10",
         "2004-03-09 00:00:00",
         "0"
        ],
        [
         "11",
         "2004-03-16 00:00:00",
         "0"
        ],
        [
         "12",
         "2004-03-23 00:00:00",
         "0"
        ],
        [
         "13",
         "2004-03-30 00:00:00",
         "0"
        ],
        [
         "14",
         "2004-04-06 00:00:00",
         "1"
        ],
        [
         "15",
         "2004-04-13 00:00:00",
         "1"
        ],
        [
         "16",
         "2004-04-20 00:00:00",
         "1"
        ],
        [
         "17",
         "2004-04-27 00:00:00",
         "0"
        ],
        [
         "18",
         "2004-05-04 00:00:00",
         "0"
        ],
        [
         "19",
         "2004-05-11 00:00:00",
         "0"
        ],
        [
         "20",
         "2004-05-18 00:00:00",
         "0"
        ],
        [
         "21",
         "2004-05-25 00:00:00",
         "0"
        ],
        [
         "22",
         "2004-06-01 00:00:00",
         "0"
        ],
        [
         "23",
         "2004-06-08 00:00:00",
         "0"
        ],
        [
         "24",
         "2004-06-15 00:00:00",
         "0"
        ],
        [
         "25",
         "2004-06-22 00:00:00",
         "0"
        ],
        [
         "26",
         "2004-06-29 00:00:00",
         "1"
        ],
        [
         "27",
         "2004-07-06 00:00:00",
         "1"
        ],
        [
         "28",
         "2004-07-13 00:00:00",
         "1"
        ],
        [
         "29",
         "2004-07-20 00:00:00",
         "0"
        ],
        [
         "30",
         "2004-07-27 00:00:00",
         "0"
        ],
        [
         "31",
         "2004-08-03 00:00:00",
         "0"
        ],
        [
         "32",
         "2004-08-10 00:00:00",
         "0"
        ],
        [
         "33",
         "2004-08-17 00:00:00",
         "0"
        ],
        [
         "34",
         "2004-08-24 00:00:00",
         "0"
        ],
        [
         "35",
         "2004-08-31 00:00:00",
         "0"
        ],
        [
         "36",
         "2004-09-07 00:00:00",
         "0"
        ],
        [
         "37",
         "2004-09-14 00:00:00",
         "0"
        ],
        [
         "38",
         "2004-09-21 00:00:00",
         "1"
        ],
        [
         "39",
         "2004-09-28 00:00:00",
         "1"
        ],
        [
         "40",
         "2004-10-05 00:00:00",
         "1"
        ],
        [
         "41",
         "2004-10-12 00:00:00",
         "0"
        ],
        [
         "42",
         "2004-10-19 00:00:00",
         "0"
        ],
        [
         "43",
         "2004-10-26 00:00:00",
         "0"
        ],
        [
         "44",
         "2004-11-02 00:00:00",
         "0"
        ],
        [
         "45",
         "2004-11-09 00:00:00",
         "0"
        ],
        [
         "46",
         "2004-11-16 00:00:00",
         "0"
        ],
        [
         "47",
         "2004-11-23 00:00:00",
         "0"
        ],
        [
         "48",
         "2004-11-30 00:00:00",
         "0"
        ],
        [
         "49",
         "2004-12-07 00:00:00",
         "0"
        ]
       ],
       "shape": {
        "columns": 2,
        "rows": 1044
       }
      },
      "text/html": [
       "<div>\n",
       "<style scoped>\n",
       "    .dataframe tbody tr th:only-of-type {\n",
       "        vertical-align: middle;\n",
       "    }\n",
       "\n",
       "    .dataframe tbody tr th {\n",
       "        vertical-align: top;\n",
       "    }\n",
       "\n",
       "    .dataframe thead th {\n",
       "        text-align: right;\n",
       "    }\n",
       "</style>\n",
       "<table border=\"1\" class=\"dataframe\">\n",
       "  <thead>\n",
       "    <tr style=\"text-align: right;\">\n",
       "      <th></th>\n",
       "      <th>week</th>\n",
       "      <th>is_holiday</th>\n",
       "    </tr>\n",
       "  </thead>\n",
       "  <tbody>\n",
       "    <tr>\n",
       "      <th>0</th>\n",
       "      <td>2003-12-30</td>\n",
       "      <td>1</td>\n",
       "    </tr>\n",
       "    <tr>\n",
       "      <th>1</th>\n",
       "      <td>2004-01-06</td>\n",
       "      <td>1</td>\n",
       "    </tr>\n",
       "    <tr>\n",
       "      <th>2</th>\n",
       "      <td>2004-01-13</td>\n",
       "      <td>1</td>\n",
       "    </tr>\n",
       "    <tr>\n",
       "      <th>3</th>\n",
       "      <td>2004-01-20</td>\n",
       "      <td>1</td>\n",
       "    </tr>\n",
       "    <tr>\n",
       "      <th>4</th>\n",
       "      <td>2004-01-27</td>\n",
       "      <td>0</td>\n",
       "    </tr>\n",
       "    <tr>\n",
       "      <th>...</th>\n",
       "      <td>...</td>\n",
       "      <td>...</td>\n",
       "    </tr>\n",
       "    <tr>\n",
       "      <th>1039</th>\n",
       "      <td>2023-11-28</td>\n",
       "      <td>0</td>\n",
       "    </tr>\n",
       "    <tr>\n",
       "      <th>1040</th>\n",
       "      <td>2023-12-05</td>\n",
       "      <td>0</td>\n",
       "    </tr>\n",
       "    <tr>\n",
       "      <th>1041</th>\n",
       "      <td>2023-12-12</td>\n",
       "      <td>0</td>\n",
       "    </tr>\n",
       "    <tr>\n",
       "      <th>1042</th>\n",
       "      <td>2023-12-19</td>\n",
       "      <td>1</td>\n",
       "    </tr>\n",
       "    <tr>\n",
       "      <th>1043</th>\n",
       "      <td>2023-12-26</td>\n",
       "      <td>1</td>\n",
       "    </tr>\n",
       "  </tbody>\n",
       "</table>\n",
       "<p>1044 rows × 2 columns</p>\n",
       "</div>"
      ],
      "text/plain": [
       "           week  is_holiday\n",
       "0    2003-12-30           1\n",
       "1    2004-01-06           1\n",
       "2    2004-01-13           1\n",
       "3    2004-01-20           1\n",
       "4    2004-01-27           0\n",
       "...         ...         ...\n",
       "1039 2023-11-28           0\n",
       "1040 2023-12-05           0\n",
       "1041 2023-12-12           0\n",
       "1042 2023-12-19           1\n",
       "1043 2023-12-26           1\n",
       "\n",
       "[1044 rows x 2 columns]"
      ]
     },
     "execution_count": 96,
     "metadata": {},
     "output_type": "execute_result"
    }
   ],
   "source": [
    "# Filter Sydney only\n",
    "syd = school_holidays_all_states[\n",
    "    school_holidays_all_states[\"City\"].str.lower() == \"sydney\"\n",
    "].copy()\n",
    "\n",
    "# 1) ensure datetime\n",
    "syd[\"Date\"] = pd.to_datetime(syd[\"Date\"], errors=\"coerce\")\n",
    "\n",
    "# 2) map each day to its week start (Monday)\n",
    "syd[\"week\"] = syd[\"Date\"].dt.to_period(\"W-MON\").dt.start_time\n",
    "\n",
    "# 3) weekly dummy: if any day in the week is a holiday -> 1\n",
    "syd_weekly = (syd.groupby(\"week\")[\"schoolhols\"]\n",
    "                .max()\n",
    "                .reset_index()\n",
    "                .rename(columns={\"schoolhols\": \"is_holiday\"}))\n",
    "\n",
    "# optional: sort\n",
    "syd_weekly = syd_weekly.sort_values(\"week\").reset_index(drop=True)\n",
    "\n",
    "syd_weekly"
   ]
  },
  {
   "cell_type": "code",
   "execution_count": 97,
   "id": "ade44455",
   "metadata": {},
   "outputs": [
    {
     "data": {
      "application/vnd.microsoft.datawrangler.viewer.v0+json": {
       "columns": [
        {
         "name": "index",
         "rawType": "int64",
         "type": "integer"
        },
        {
         "name": "START_DAY",
         "rawType": "object",
         "type": "string"
        },
        {
         "name": "END_DAY",
         "rawType": "object",
         "type": "string"
        }
       ],
       "ref": "b106bcd6-aa00-4230-a9de-f4118e583a3c",
       "rows": [
        [
         "0",
         "29/01/2019",
         "12/04/2019"
        ],
        [
         "1",
         "29/04/2019",
         "5/07/2019"
        ],
        [
         "2",
         "22/07/2019",
         "27/09/2019"
        ],
        [
         "3",
         "14/10/2019",
         "20/12/2019"
        ],
        [
         "4",
         "28/01/2020",
         "9/04/2020"
        ],
        [
         "5",
         "27/04/2020",
         "3/07/2020"
        ],
        [
         "6",
         "20/07/2020",
         "25/09/2020"
        ],
        [
         "7",
         "12/10/2020",
         "18/12/2020"
        ],
        [
         "8",
         "27/01/2021",
         "1/04/2021"
        ],
        [
         "9",
         "19/04/2021",
         "25/06/2021"
        ],
        [
         "10",
         "12/07/2021",
         "17/09/2021"
        ],
        [
         "11",
         "5/10/2021",
         "17/12/2021"
        ],
        [
         "12",
         "28/01/2022",
         "8/04/2022"
        ],
        [
         "13",
         "26/04/2022",
         "1/07/2022"
        ],
        [
         "14",
         "18/07/2022",
         "23/09/2022"
        ],
        [
         "15",
         "10/10/2022",
         "20/12/2022"
        ],
        [
         "16",
         "27/01/2023",
         "6/04/2023"
        ],
        [
         "17",
         "24/04/2023",
         "30/06/2023"
        ],
        [
         "18",
         "17/07/2023",
         "22/09/2023"
        ],
        [
         "19",
         "9/10/2023",
         "19/12/2023"
        ],
        [
         "20",
         "30/01/2024",
         "12/04/2024"
        ],
        [
         "21",
         "29/04/2024",
         "5/07/2024"
        ],
        [
         "22",
         "22/07/2024",
         "27/09/2024"
        ],
        [
         "23",
         "14/10/2024",
         "20/12/2024"
        ],
        [
         "24",
         "31/01/2025",
         "11/04/2025"
        ],
        [
         "25",
         "28/04/2025",
         "4/07/2025"
        ],
        [
         "26",
         "21/07/2025",
         "26/09/2025"
        ],
        [
         "27",
         "13/10/2025",
         "19/12/2025"
        ]
       ],
       "shape": {
        "columns": 2,
        "rows": 28
       }
      },
      "text/html": [
       "<div>\n",
       "<style scoped>\n",
       "    .dataframe tbody tr th:only-of-type {\n",
       "        vertical-align: middle;\n",
       "    }\n",
       "\n",
       "    .dataframe tbody tr th {\n",
       "        vertical-align: top;\n",
       "    }\n",
       "\n",
       "    .dataframe thead th {\n",
       "        text-align: right;\n",
       "    }\n",
       "</style>\n",
       "<table border=\"1\" class=\"dataframe\">\n",
       "  <thead>\n",
       "    <tr style=\"text-align: right;\">\n",
       "      <th></th>\n",
       "      <th>START_DAY</th>\n",
       "      <th>END_DAY</th>\n",
       "    </tr>\n",
       "  </thead>\n",
       "  <tbody>\n",
       "    <tr>\n",
       "      <th>0</th>\n",
       "      <td>29/01/2019</td>\n",
       "      <td>12/04/2019</td>\n",
       "    </tr>\n",
       "    <tr>\n",
       "      <th>1</th>\n",
       "      <td>29/04/2019</td>\n",
       "      <td>5/07/2019</td>\n",
       "    </tr>\n",
       "    <tr>\n",
       "      <th>2</th>\n",
       "      <td>22/07/2019</td>\n",
       "      <td>27/09/2019</td>\n",
       "    </tr>\n",
       "    <tr>\n",
       "      <th>3</th>\n",
       "      <td>14/10/2019</td>\n",
       "      <td>20/12/2019</td>\n",
       "    </tr>\n",
       "    <tr>\n",
       "      <th>4</th>\n",
       "      <td>28/01/2020</td>\n",
       "      <td>9/04/2020</td>\n",
       "    </tr>\n",
       "    <tr>\n",
       "      <th>5</th>\n",
       "      <td>27/04/2020</td>\n",
       "      <td>3/07/2020</td>\n",
       "    </tr>\n",
       "    <tr>\n",
       "      <th>6</th>\n",
       "      <td>20/07/2020</td>\n",
       "      <td>25/09/2020</td>\n",
       "    </tr>\n",
       "    <tr>\n",
       "      <th>7</th>\n",
       "      <td>12/10/2020</td>\n",
       "      <td>18/12/2020</td>\n",
       "    </tr>\n",
       "    <tr>\n",
       "      <th>8</th>\n",
       "      <td>27/01/2021</td>\n",
       "      <td>1/04/2021</td>\n",
       "    </tr>\n",
       "    <tr>\n",
       "      <th>9</th>\n",
       "      <td>19/04/2021</td>\n",
       "      <td>25/06/2021</td>\n",
       "    </tr>\n",
       "    <tr>\n",
       "      <th>10</th>\n",
       "      <td>12/07/2021</td>\n",
       "      <td>17/09/2021</td>\n",
       "    </tr>\n",
       "    <tr>\n",
       "      <th>11</th>\n",
       "      <td>5/10/2021</td>\n",
       "      <td>17/12/2021</td>\n",
       "    </tr>\n",
       "    <tr>\n",
       "      <th>12</th>\n",
       "      <td>28/01/2022</td>\n",
       "      <td>8/04/2022</td>\n",
       "    </tr>\n",
       "    <tr>\n",
       "      <th>13</th>\n",
       "      <td>26/04/2022</td>\n",
       "      <td>1/07/2022</td>\n",
       "    </tr>\n",
       "    <tr>\n",
       "      <th>14</th>\n",
       "      <td>18/07/2022</td>\n",
       "      <td>23/09/2022</td>\n",
       "    </tr>\n",
       "    <tr>\n",
       "      <th>15</th>\n",
       "      <td>10/10/2022</td>\n",
       "      <td>20/12/2022</td>\n",
       "    </tr>\n",
       "    <tr>\n",
       "      <th>16</th>\n",
       "      <td>27/01/2023</td>\n",
       "      <td>6/04/2023</td>\n",
       "    </tr>\n",
       "    <tr>\n",
       "      <th>17</th>\n",
       "      <td>24/04/2023</td>\n",
       "      <td>30/06/2023</td>\n",
       "    </tr>\n",
       "    <tr>\n",
       "      <th>18</th>\n",
       "      <td>17/07/2023</td>\n",
       "      <td>22/09/2023</td>\n",
       "    </tr>\n",
       "    <tr>\n",
       "      <th>19</th>\n",
       "      <td>9/10/2023</td>\n",
       "      <td>19/12/2023</td>\n",
       "    </tr>\n",
       "    <tr>\n",
       "      <th>20</th>\n",
       "      <td>30/01/2024</td>\n",
       "      <td>12/04/2024</td>\n",
       "    </tr>\n",
       "    <tr>\n",
       "      <th>21</th>\n",
       "      <td>29/04/2024</td>\n",
       "      <td>5/07/2024</td>\n",
       "    </tr>\n",
       "    <tr>\n",
       "      <th>22</th>\n",
       "      <td>22/07/2024</td>\n",
       "      <td>27/09/2024</td>\n",
       "    </tr>\n",
       "    <tr>\n",
       "      <th>23</th>\n",
       "      <td>14/10/2024</td>\n",
       "      <td>20/12/2024</td>\n",
       "    </tr>\n",
       "    <tr>\n",
       "      <th>24</th>\n",
       "      <td>31/01/2025</td>\n",
       "      <td>11/04/2025</td>\n",
       "    </tr>\n",
       "    <tr>\n",
       "      <th>25</th>\n",
       "      <td>28/04/2025</td>\n",
       "      <td>4/07/2025</td>\n",
       "    </tr>\n",
       "    <tr>\n",
       "      <th>26</th>\n",
       "      <td>21/07/2025</td>\n",
       "      <td>26/09/2025</td>\n",
       "    </tr>\n",
       "    <tr>\n",
       "      <th>27</th>\n",
       "      <td>13/10/2025</td>\n",
       "      <td>19/12/2025</td>\n",
       "    </tr>\n",
       "  </tbody>\n",
       "</table>\n",
       "</div>"
      ],
      "text/plain": [
       "     START_DAY     END_DAY\n",
       "0   29/01/2019  12/04/2019\n",
       "1   29/04/2019   5/07/2019\n",
       "2   22/07/2019  27/09/2019\n",
       "3   14/10/2019  20/12/2019\n",
       "4   28/01/2020   9/04/2020\n",
       "5   27/04/2020   3/07/2020\n",
       "6   20/07/2020  25/09/2020\n",
       "7   12/10/2020  18/12/2020\n",
       "8   27/01/2021   1/04/2021\n",
       "9   19/04/2021  25/06/2021\n",
       "10  12/07/2021  17/09/2021\n",
       "11   5/10/2021  17/12/2021\n",
       "12  28/01/2022   8/04/2022\n",
       "13  26/04/2022   1/07/2022\n",
       "14  18/07/2022  23/09/2022\n",
       "15  10/10/2022  20/12/2022\n",
       "16  27/01/2023   6/04/2023\n",
       "17  24/04/2023  30/06/2023\n",
       "18  17/07/2023  22/09/2023\n",
       "19   9/10/2023  19/12/2023\n",
       "20  30/01/2024  12/04/2024\n",
       "21  29/04/2024   5/07/2024\n",
       "22  22/07/2024  27/09/2024\n",
       "23  14/10/2024  20/12/2024\n",
       "24  31/01/2025  11/04/2025\n",
       "25  28/04/2025   4/07/2025\n",
       "26  21/07/2025  26/09/2025\n",
       "27  13/10/2025  19/12/2025"
      ]
     },
     "execution_count": 97,
     "metadata": {},
     "output_type": "execute_result"
    }
   ],
   "source": [
    "school_holidays_nsw = pd.read_csv(\"school_holidays_nsw.csv\")\n",
    "school_holidays_nsw"
   ]
  },
  {
   "cell_type": "code",
   "execution_count": 98,
   "id": "2fae033e",
   "metadata": {},
   "outputs": [
    {
     "data": {
      "application/vnd.microsoft.datawrangler.viewer.v0+json": {
       "columns": [
        {
         "name": "index",
         "rawType": "int64",
         "type": "integer"
        },
        {
         "name": "week",
         "rawType": "datetime64[ns]",
         "type": "datetime"
        },
        {
         "name": "is_holiday",
         "rawType": "int64",
         "type": "integer"
        }
       ],
       "ref": "1002e043-63bb-4188-ad2c-b2b4db9be75c",
       "rows": [
        [
         "0",
         "2019-04-15 00:00:00",
         "1"
        ],
        [
         "1",
         "2019-04-22 00:00:00",
         "1"
        ],
        [
         "2",
         "2019-04-29 00:00:00",
         "0"
        ],
        [
         "3",
         "2019-05-06 00:00:00",
         "0"
        ],
        [
         "4",
         "2019-05-13 00:00:00",
         "0"
        ],
        [
         "5",
         "2019-05-20 00:00:00",
         "0"
        ],
        [
         "6",
         "2019-05-27 00:00:00",
         "0"
        ],
        [
         "7",
         "2019-06-03 00:00:00",
         "0"
        ],
        [
         "8",
         "2019-06-10 00:00:00",
         "0"
        ],
        [
         "9",
         "2019-06-17 00:00:00",
         "0"
        ],
        [
         "10",
         "2019-06-24 00:00:00",
         "0"
        ],
        [
         "11",
         "2019-07-01 00:00:00",
         "1"
        ],
        [
         "12",
         "2019-07-08 00:00:00",
         "1"
        ],
        [
         "13",
         "2019-07-15 00:00:00",
         "1"
        ],
        [
         "14",
         "2019-07-22 00:00:00",
         "0"
        ],
        [
         "15",
         "2019-07-29 00:00:00",
         "0"
        ],
        [
         "16",
         "2019-08-05 00:00:00",
         "0"
        ],
        [
         "17",
         "2019-08-12 00:00:00",
         "0"
        ],
        [
         "18",
         "2019-08-19 00:00:00",
         "0"
        ],
        [
         "19",
         "2019-08-26 00:00:00",
         "0"
        ],
        [
         "20",
         "2019-09-02 00:00:00",
         "0"
        ],
        [
         "21",
         "2019-09-09 00:00:00",
         "0"
        ],
        [
         "22",
         "2019-09-16 00:00:00",
         "0"
        ],
        [
         "23",
         "2019-09-23 00:00:00",
         "1"
        ],
        [
         "24",
         "2019-09-30 00:00:00",
         "1"
        ],
        [
         "25",
         "2019-10-07 00:00:00",
         "1"
        ],
        [
         "26",
         "2019-10-14 00:00:00",
         "0"
        ],
        [
         "27",
         "2019-10-21 00:00:00",
         "0"
        ],
        [
         "28",
         "2019-10-28 00:00:00",
         "0"
        ],
        [
         "29",
         "2019-11-04 00:00:00",
         "0"
        ],
        [
         "30",
         "2019-11-11 00:00:00",
         "0"
        ],
        [
         "31",
         "2019-11-18 00:00:00",
         "0"
        ],
        [
         "32",
         "2019-11-25 00:00:00",
         "0"
        ],
        [
         "33",
         "2019-12-02 00:00:00",
         "0"
        ],
        [
         "34",
         "2019-12-09 00:00:00",
         "0"
        ],
        [
         "35",
         "2019-12-16 00:00:00",
         "1"
        ],
        [
         "36",
         "2019-12-23 00:00:00",
         "1"
        ],
        [
         "37",
         "2019-12-30 00:00:00",
         "1"
        ],
        [
         "38",
         "2020-01-06 00:00:00",
         "1"
        ],
        [
         "39",
         "2020-01-13 00:00:00",
         "1"
        ],
        [
         "40",
         "2020-01-20 00:00:00",
         "1"
        ],
        [
         "41",
         "2020-01-27 00:00:00",
         "1"
        ],
        [
         "42",
         "2020-02-03 00:00:00",
         "0"
        ],
        [
         "43",
         "2020-02-10 00:00:00",
         "0"
        ],
        [
         "44",
         "2020-02-17 00:00:00",
         "0"
        ],
        [
         "45",
         "2020-02-24 00:00:00",
         "0"
        ],
        [
         "46",
         "2020-03-02 00:00:00",
         "0"
        ],
        [
         "47",
         "2020-03-09 00:00:00",
         "0"
        ],
        [
         "48",
         "2020-03-16 00:00:00",
         "0"
        ],
        [
         "49",
         "2020-03-23 00:00:00",
         "0"
        ]
       ],
       "shape": {
        "columns": 2,
        "rows": 339
       }
      },
      "text/html": [
       "<div>\n",
       "<style scoped>\n",
       "    .dataframe tbody tr th:only-of-type {\n",
       "        vertical-align: middle;\n",
       "    }\n",
       "\n",
       "    .dataframe tbody tr th {\n",
       "        vertical-align: top;\n",
       "    }\n",
       "\n",
       "    .dataframe thead th {\n",
       "        text-align: right;\n",
       "    }\n",
       "</style>\n",
       "<table border=\"1\" class=\"dataframe\">\n",
       "  <thead>\n",
       "    <tr style=\"text-align: right;\">\n",
       "      <th></th>\n",
       "      <th>week</th>\n",
       "      <th>is_holiday</th>\n",
       "    </tr>\n",
       "  </thead>\n",
       "  <tbody>\n",
       "    <tr>\n",
       "      <th>0</th>\n",
       "      <td>2019-04-15</td>\n",
       "      <td>1</td>\n",
       "    </tr>\n",
       "    <tr>\n",
       "      <th>1</th>\n",
       "      <td>2019-04-22</td>\n",
       "      <td>1</td>\n",
       "    </tr>\n",
       "    <tr>\n",
       "      <th>2</th>\n",
       "      <td>2019-04-29</td>\n",
       "      <td>0</td>\n",
       "    </tr>\n",
       "    <tr>\n",
       "      <th>3</th>\n",
       "      <td>2019-05-06</td>\n",
       "      <td>0</td>\n",
       "    </tr>\n",
       "    <tr>\n",
       "      <th>4</th>\n",
       "      <td>2019-05-13</td>\n",
       "      <td>0</td>\n",
       "    </tr>\n",
       "    <tr>\n",
       "      <th>...</th>\n",
       "      <td>...</td>\n",
       "      <td>...</td>\n",
       "    </tr>\n",
       "    <tr>\n",
       "      <th>334</th>\n",
       "      <td>2025-09-08</td>\n",
       "      <td>0</td>\n",
       "    </tr>\n",
       "    <tr>\n",
       "      <th>335</th>\n",
       "      <td>2025-09-15</td>\n",
       "      <td>0</td>\n",
       "    </tr>\n",
       "    <tr>\n",
       "      <th>336</th>\n",
       "      <td>2025-09-22</td>\n",
       "      <td>1</td>\n",
       "    </tr>\n",
       "    <tr>\n",
       "      <th>337</th>\n",
       "      <td>2025-09-29</td>\n",
       "      <td>1</td>\n",
       "    </tr>\n",
       "    <tr>\n",
       "      <th>338</th>\n",
       "      <td>2025-10-06</td>\n",
       "      <td>1</td>\n",
       "    </tr>\n",
       "  </tbody>\n",
       "</table>\n",
       "<p>339 rows × 2 columns</p>\n",
       "</div>"
      ],
      "text/plain": [
       "          week  is_holiday\n",
       "0   2019-04-15           1\n",
       "1   2019-04-22           1\n",
       "2   2019-04-29           0\n",
       "3   2019-05-06           0\n",
       "4   2019-05-13           0\n",
       "..         ...         ...\n",
       "334 2025-09-08           0\n",
       "335 2025-09-15           0\n",
       "336 2025-09-22           1\n",
       "337 2025-09-29           1\n",
       "338 2025-10-06           1\n",
       "\n",
       "[339 rows x 2 columns]"
      ]
     },
     "execution_count": 98,
     "metadata": {},
     "output_type": "execute_result"
    }
   ],
   "source": [
    "import pandas as pd\n",
    "\n",
    "nsw = school_holidays_nsw.copy()\n",
    "\n",
    "# 1) Parse dates & sort\n",
    "nsw[\"START_DAY\"] = pd.to_datetime(nsw[\"START_DAY\"], dayfirst=True, errors=\"coerce\")\n",
    "nsw[\"END_DAY\"]   = pd.to_datetime(nsw[\"END_DAY\"],   dayfirst=True, errors=\"coerce\")\n",
    "nsw = nsw.sort_values([\"START_DAY\", \"END_DAY\"]).reset_index(drop=True)\n",
    "\n",
    "# 2) Holidays are the GAPS between consecutive terms:\n",
    "#    holiday_start = previous term's END_DAY + 1\n",
    "#    holiday_end   = next term's START_DAY - 1\n",
    "nsw[\"next_start\"]   = nsw[\"START_DAY\"].shift(-1)\n",
    "hol = pd.DataFrame({\n",
    "    \"holiday_start\": nsw[\"END_DAY\"]   + pd.Timedelta(days=1),\n",
    "    \"holiday_end\":   nsw[\"next_start\"] - pd.Timedelta(days=1),\n",
    "})\n",
    "\n",
    "# Keep valid gaps only\n",
    "hol = hol.dropna()\n",
    "hol = hol[hol[\"holiday_start\"] <= hol[\"holiday_end\"]].reset_index(drop=True)\n",
    "\n",
    "# 3) Build weekly calendar over the covered range\n",
    "weeks = pd.date_range(hol[\"holiday_start\"].min().floor(\"D\"),\n",
    "                      hol[\"holiday_end\"].max().ceil(\"D\"),\n",
    "                      freq=\"W-MON\")\n",
    "calendar = pd.DataFrame({\"week\": weeks})\n",
    "calendar[\"week_end\"] = calendar[\"week\"] + pd.Timedelta(days=6)\n",
    "calendar[\"is_holiday\"] = 0\n",
    "\n",
    "# 4) Mark weeks as holiday if the week interval overlaps any holiday interval\n",
    "for _, r in hol.iterrows():\n",
    "    overlap = (calendar[\"week_end\"] >= r[\"holiday_start\"]) & (calendar[\"week\"] <= r[\"holiday_end\"])\n",
    "    calendar.loc[overlap, \"is_holiday\"] = 1\n",
    "\n",
    "# 5) Final output in the same format as `syd_weekly`\n",
    "nsw_weekly = calendar[[\"week\", \"is_holiday\"]].sort_values(\"week\").reset_index(drop=True)\n",
    "\n",
    "nsw_weekly\n"
   ]
  },
  {
   "cell_type": "code",
   "execution_count": 99,
   "id": "40063d82",
   "metadata": {},
   "outputs": [
    {
     "data": {
      "application/vnd.microsoft.datawrangler.viewer.v0+json": {
       "columns": [
        {
         "name": "index",
         "rawType": "int64",
         "type": "integer"
        },
        {
         "name": "week",
         "rawType": "datetime64[ns]",
         "type": "datetime"
        },
        {
         "name": "is_holiday",
         "rawType": "int64",
         "type": "integer"
        }
       ],
       "ref": "4a6e58f7-e275-4d75-88aa-b847fcc42807",
       "rows": [
        [
         "0",
         "2003-12-30 00:00:00",
         "1"
        ],
        [
         "1",
         "2004-01-06 00:00:00",
         "1"
        ],
        [
         "2",
         "2004-01-13 00:00:00",
         "1"
        ],
        [
         "3",
         "2004-01-20 00:00:00",
         "1"
        ],
        [
         "4",
         "2004-01-27 00:00:00",
         "0"
        ],
        [
         "5",
         "2004-02-03 00:00:00",
         "0"
        ],
        [
         "6",
         "2004-02-10 00:00:00",
         "0"
        ],
        [
         "7",
         "2004-02-17 00:00:00",
         "0"
        ],
        [
         "8",
         "2004-02-24 00:00:00",
         "0"
        ],
        [
         "9",
         "2004-03-02 00:00:00",
         "0"
        ],
        [
         "10",
         "2004-03-09 00:00:00",
         "0"
        ],
        [
         "11",
         "2004-03-16 00:00:00",
         "0"
        ],
        [
         "12",
         "2004-03-23 00:00:00",
         "0"
        ],
        [
         "13",
         "2004-03-30 00:00:00",
         "0"
        ],
        [
         "14",
         "2004-04-06 00:00:00",
         "1"
        ],
        [
         "15",
         "2004-04-13 00:00:00",
         "1"
        ],
        [
         "16",
         "2004-04-20 00:00:00",
         "1"
        ],
        [
         "17",
         "2004-04-27 00:00:00",
         "0"
        ],
        [
         "18",
         "2004-05-04 00:00:00",
         "0"
        ],
        [
         "19",
         "2004-05-11 00:00:00",
         "0"
        ],
        [
         "20",
         "2004-05-18 00:00:00",
         "0"
        ],
        [
         "21",
         "2004-05-25 00:00:00",
         "0"
        ],
        [
         "22",
         "2004-06-01 00:00:00",
         "0"
        ],
        [
         "23",
         "2004-06-08 00:00:00",
         "0"
        ],
        [
         "24",
         "2004-06-15 00:00:00",
         "0"
        ],
        [
         "25",
         "2004-06-22 00:00:00",
         "0"
        ],
        [
         "26",
         "2004-06-29 00:00:00",
         "1"
        ],
        [
         "27",
         "2004-07-06 00:00:00",
         "1"
        ],
        [
         "28",
         "2004-07-13 00:00:00",
         "1"
        ],
        [
         "29",
         "2004-07-20 00:00:00",
         "0"
        ],
        [
         "30",
         "2004-07-27 00:00:00",
         "0"
        ],
        [
         "31",
         "2004-08-03 00:00:00",
         "0"
        ],
        [
         "32",
         "2004-08-10 00:00:00",
         "0"
        ],
        [
         "33",
         "2004-08-17 00:00:00",
         "0"
        ],
        [
         "34",
         "2004-08-24 00:00:00",
         "0"
        ],
        [
         "35",
         "2004-08-31 00:00:00",
         "0"
        ],
        [
         "36",
         "2004-09-07 00:00:00",
         "0"
        ],
        [
         "37",
         "2004-09-14 00:00:00",
         "0"
        ],
        [
         "38",
         "2004-09-21 00:00:00",
         "1"
        ],
        [
         "39",
         "2004-09-28 00:00:00",
         "1"
        ],
        [
         "40",
         "2004-10-05 00:00:00",
         "1"
        ],
        [
         "41",
         "2004-10-12 00:00:00",
         "0"
        ],
        [
         "42",
         "2004-10-19 00:00:00",
         "0"
        ],
        [
         "43",
         "2004-10-26 00:00:00",
         "0"
        ],
        [
         "44",
         "2004-11-02 00:00:00",
         "0"
        ],
        [
         "45",
         "2004-11-09 00:00:00",
         "0"
        ],
        [
         "46",
         "2004-11-16 00:00:00",
         "0"
        ],
        [
         "47",
         "2004-11-23 00:00:00",
         "0"
        ],
        [
         "48",
         "2004-11-30 00:00:00",
         "0"
        ],
        [
         "49",
         "2004-12-07 00:00:00",
         "0"
        ]
       ],
       "shape": {
        "columns": 2,
        "rows": 1383
       }
      },
      "text/html": [
       "<div>\n",
       "<style scoped>\n",
       "    .dataframe tbody tr th:only-of-type {\n",
       "        vertical-align: middle;\n",
       "    }\n",
       "\n",
       "    .dataframe tbody tr th {\n",
       "        vertical-align: top;\n",
       "    }\n",
       "\n",
       "    .dataframe thead th {\n",
       "        text-align: right;\n",
       "    }\n",
       "</style>\n",
       "<table border=\"1\" class=\"dataframe\">\n",
       "  <thead>\n",
       "    <tr style=\"text-align: right;\">\n",
       "      <th></th>\n",
       "      <th>week</th>\n",
       "      <th>is_holiday</th>\n",
       "    </tr>\n",
       "  </thead>\n",
       "  <tbody>\n",
       "    <tr>\n",
       "      <th>0</th>\n",
       "      <td>2003-12-30</td>\n",
       "      <td>1</td>\n",
       "    </tr>\n",
       "    <tr>\n",
       "      <th>1</th>\n",
       "      <td>2004-01-06</td>\n",
       "      <td>1</td>\n",
       "    </tr>\n",
       "    <tr>\n",
       "      <th>2</th>\n",
       "      <td>2004-01-13</td>\n",
       "      <td>1</td>\n",
       "    </tr>\n",
       "    <tr>\n",
       "      <th>3</th>\n",
       "      <td>2004-01-20</td>\n",
       "      <td>1</td>\n",
       "    </tr>\n",
       "    <tr>\n",
       "      <th>4</th>\n",
       "      <td>2004-01-27</td>\n",
       "      <td>0</td>\n",
       "    </tr>\n",
       "    <tr>\n",
       "      <th>...</th>\n",
       "      <td>...</td>\n",
       "      <td>...</td>\n",
       "    </tr>\n",
       "    <tr>\n",
       "      <th>1378</th>\n",
       "      <td>2025-09-08</td>\n",
       "      <td>0</td>\n",
       "    </tr>\n",
       "    <tr>\n",
       "      <th>1379</th>\n",
       "      <td>2025-09-15</td>\n",
       "      <td>0</td>\n",
       "    </tr>\n",
       "    <tr>\n",
       "      <th>1380</th>\n",
       "      <td>2025-09-22</td>\n",
       "      <td>1</td>\n",
       "    </tr>\n",
       "    <tr>\n",
       "      <th>1381</th>\n",
       "      <td>2025-09-29</td>\n",
       "      <td>1</td>\n",
       "    </tr>\n",
       "    <tr>\n",
       "      <th>1382</th>\n",
       "      <td>2025-10-06</td>\n",
       "      <td>1</td>\n",
       "    </tr>\n",
       "  </tbody>\n",
       "</table>\n",
       "<p>1383 rows × 2 columns</p>\n",
       "</div>"
      ],
      "text/plain": [
       "           week  is_holiday\n",
       "0    2003-12-30           1\n",
       "1    2004-01-06           1\n",
       "2    2004-01-13           1\n",
       "3    2004-01-20           1\n",
       "4    2004-01-27           0\n",
       "...         ...         ...\n",
       "1378 2025-09-08           0\n",
       "1379 2025-09-15           0\n",
       "1380 2025-09-22           1\n",
       "1381 2025-09-29           1\n",
       "1382 2025-10-06           1\n",
       "\n",
       "[1383 rows x 2 columns]"
      ]
     },
     "execution_count": 99,
     "metadata": {},
     "output_type": "execute_result"
    }
   ],
   "source": [
    "# ensure same dtypes\n",
    "syd_weekly[\"week\"] = pd.to_datetime(syd_weekly[\"week\"])\n",
    "nsw_weekly[\"week\"] = pd.to_datetime(nsw_weekly[\"week\"])\n",
    "\n",
    "combined = syd_weekly.merge(\n",
    "    nsw_weekly, on=\"week\", how=\"outer\", suffixes=(\"_syd\", \"_nsw\")\n",
    ")\n",
    "\n",
    "# use Sydney if it exists, otherwise NSW\n",
    "combined[\"is_holiday\"] = combined[\"is_holiday_syd\"].where(\n",
    "    combined[\"is_holiday_syd\"].notna(), combined[\"is_holiday_nsw\"]\n",
    ").fillna(0).astype(int)\n",
    "\n",
    "holiday_weeks_sydney = (combined[[\"week\", \"is_holiday\"]]\n",
    "                .sort_values(\"week\")\n",
    "                .reset_index(drop=True))\n",
    "holiday_weeks_sydney\n",
    "\n"
   ]
  },
  {
   "cell_type": "markdown",
   "id": "bb2f8b0d",
   "metadata": {},
   "source": [
    "# School Holidays for Sydney and Melbourne"
   ]
  },
  {
   "cell_type": "code",
   "execution_count": 103,
   "id": "d143df67",
   "metadata": {},
   "outputs": [
    {
     "data": {
      "application/vnd.microsoft.datawrangler.viewer.v0+json": {
       "columns": [
        {
         "name": "index",
         "rawType": "int64",
         "type": "integer"
        },
        {
         "name": "week",
         "rawType": "datetime64[ns]",
         "type": "datetime"
        },
        {
         "name": "is_holiday",
         "rawType": "int64",
         "type": "integer"
        }
       ],
       "ref": "e8db5567-b4ae-41bb-988a-b427a69266cb",
       "rows": [
        [
         "0",
         "2003-12-30 00:00:00",
         "1"
        ],
        [
         "1",
         "2004-01-06 00:00:00",
         "1"
        ],
        [
         "2",
         "2004-01-13 00:00:00",
         "1"
        ],
        [
         "3",
         "2004-01-20 00:00:00",
         "1"
        ],
        [
         "4",
         "2004-01-27 00:00:00",
         "0"
        ],
        [
         "5",
         "2004-02-03 00:00:00",
         "0"
        ],
        [
         "6",
         "2004-02-10 00:00:00",
         "0"
        ],
        [
         "7",
         "2004-02-17 00:00:00",
         "0"
        ],
        [
         "8",
         "2004-02-24 00:00:00",
         "0"
        ],
        [
         "9",
         "2004-03-02 00:00:00",
         "0"
        ],
        [
         "10",
         "2004-03-09 00:00:00",
         "0"
        ],
        [
         "11",
         "2004-03-16 00:00:00",
         "0"
        ],
        [
         "12",
         "2004-03-23 00:00:00",
         "0"
        ],
        [
         "13",
         "2004-03-30 00:00:00",
         "0"
        ],
        [
         "14",
         "2004-04-06 00:00:00",
         "1"
        ],
        [
         "15",
         "2004-04-13 00:00:00",
         "1"
        ],
        [
         "16",
         "2004-04-20 00:00:00",
         "1"
        ],
        [
         "17",
         "2004-04-27 00:00:00",
         "0"
        ],
        [
         "18",
         "2004-05-04 00:00:00",
         "0"
        ],
        [
         "19",
         "2004-05-11 00:00:00",
         "0"
        ],
        [
         "20",
         "2004-05-18 00:00:00",
         "0"
        ],
        [
         "21",
         "2004-05-25 00:00:00",
         "0"
        ],
        [
         "22",
         "2004-06-01 00:00:00",
         "0"
        ],
        [
         "23",
         "2004-06-08 00:00:00",
         "0"
        ],
        [
         "24",
         "2004-06-15 00:00:00",
         "0"
        ],
        [
         "25",
         "2004-06-22 00:00:00",
         "0"
        ],
        [
         "26",
         "2004-06-29 00:00:00",
         "1"
        ],
        [
         "27",
         "2004-07-06 00:00:00",
         "1"
        ],
        [
         "28",
         "2004-07-13 00:00:00",
         "1"
        ],
        [
         "29",
         "2004-07-20 00:00:00",
         "0"
        ],
        [
         "30",
         "2004-07-27 00:00:00",
         "0"
        ],
        [
         "31",
         "2004-08-03 00:00:00",
         "0"
        ],
        [
         "32",
         "2004-08-10 00:00:00",
         "0"
        ],
        [
         "33",
         "2004-08-17 00:00:00",
         "0"
        ],
        [
         "34",
         "2004-08-24 00:00:00",
         "0"
        ],
        [
         "35",
         "2004-08-31 00:00:00",
         "0"
        ],
        [
         "36",
         "2004-09-07 00:00:00",
         "0"
        ],
        [
         "37",
         "2004-09-14 00:00:00",
         "0"
        ],
        [
         "38",
         "2004-09-21 00:00:00",
         "1"
        ],
        [
         "39",
         "2004-09-28 00:00:00",
         "1"
        ],
        [
         "40",
         "2004-10-05 00:00:00",
         "1"
        ],
        [
         "41",
         "2004-10-12 00:00:00",
         "0"
        ],
        [
         "42",
         "2004-10-19 00:00:00",
         "0"
        ],
        [
         "43",
         "2004-10-26 00:00:00",
         "0"
        ],
        [
         "44",
         "2004-11-02 00:00:00",
         "0"
        ],
        [
         "45",
         "2004-11-09 00:00:00",
         "0"
        ],
        [
         "46",
         "2004-11-16 00:00:00",
         "0"
        ],
        [
         "47",
         "2004-11-23 00:00:00",
         "0"
        ],
        [
         "48",
         "2004-11-30 00:00:00",
         "0"
        ],
        [
         "49",
         "2004-12-07 00:00:00",
         "0"
        ]
       ],
       "shape": {
        "columns": 2,
        "rows": 1383
       }
      },
      "text/html": [
       "<div>\n",
       "<style scoped>\n",
       "    .dataframe tbody tr th:only-of-type {\n",
       "        vertical-align: middle;\n",
       "    }\n",
       "\n",
       "    .dataframe tbody tr th {\n",
       "        vertical-align: top;\n",
       "    }\n",
       "\n",
       "    .dataframe thead th {\n",
       "        text-align: right;\n",
       "    }\n",
       "</style>\n",
       "<table border=\"1\" class=\"dataframe\">\n",
       "  <thead>\n",
       "    <tr style=\"text-align: right;\">\n",
       "      <th></th>\n",
       "      <th>week</th>\n",
       "      <th>is_holiday</th>\n",
       "    </tr>\n",
       "  </thead>\n",
       "  <tbody>\n",
       "    <tr>\n",
       "      <th>0</th>\n",
       "      <td>2003-12-30</td>\n",
       "      <td>1</td>\n",
       "    </tr>\n",
       "    <tr>\n",
       "      <th>1</th>\n",
       "      <td>2004-01-06</td>\n",
       "      <td>1</td>\n",
       "    </tr>\n",
       "    <tr>\n",
       "      <th>2</th>\n",
       "      <td>2004-01-13</td>\n",
       "      <td>1</td>\n",
       "    </tr>\n",
       "    <tr>\n",
       "      <th>3</th>\n",
       "      <td>2004-01-20</td>\n",
       "      <td>1</td>\n",
       "    </tr>\n",
       "    <tr>\n",
       "      <th>4</th>\n",
       "      <td>2004-01-27</td>\n",
       "      <td>0</td>\n",
       "    </tr>\n",
       "    <tr>\n",
       "      <th>...</th>\n",
       "      <td>...</td>\n",
       "      <td>...</td>\n",
       "    </tr>\n",
       "    <tr>\n",
       "      <th>1378</th>\n",
       "      <td>2025-09-08</td>\n",
       "      <td>0</td>\n",
       "    </tr>\n",
       "    <tr>\n",
       "      <th>1379</th>\n",
       "      <td>2025-09-15</td>\n",
       "      <td>0</td>\n",
       "    </tr>\n",
       "    <tr>\n",
       "      <th>1380</th>\n",
       "      <td>2025-09-22</td>\n",
       "      <td>1</td>\n",
       "    </tr>\n",
       "    <tr>\n",
       "      <th>1381</th>\n",
       "      <td>2025-09-29</td>\n",
       "      <td>1</td>\n",
       "    </tr>\n",
       "    <tr>\n",
       "      <th>1382</th>\n",
       "      <td>2025-10-06</td>\n",
       "      <td>1</td>\n",
       "    </tr>\n",
       "  </tbody>\n",
       "</table>\n",
       "<p>1383 rows × 2 columns</p>\n",
       "</div>"
      ],
      "text/plain": [
       "           week  is_holiday\n",
       "0    2003-12-30           1\n",
       "1    2004-01-06           1\n",
       "2    2004-01-13           1\n",
       "3    2004-01-20           1\n",
       "4    2004-01-27           0\n",
       "...         ...         ...\n",
       "1378 2025-09-08           0\n",
       "1379 2025-09-15           0\n",
       "1380 2025-09-22           1\n",
       "1381 2025-09-29           1\n",
       "1382 2025-10-06           1\n",
       "\n",
       "[1383 rows x 2 columns]"
      ]
     },
     "execution_count": 103,
     "metadata": {},
     "output_type": "execute_result"
    }
   ],
   "source": [
    "holiday_weeks_sydney"
   ]
  },
  {
   "cell_type": "code",
   "execution_count": null,
   "id": "5aedb6fa",
   "metadata": {},
   "outputs": [
    {
     "data": {
      "application/vnd.microsoft.datawrangler.viewer.v0+json": {
       "columns": [
        {
         "name": "index",
         "rawType": "int64",
         "type": "integer"
        },
        {
         "name": "week",
         "rawType": "datetime64[ns]",
         "type": "datetime"
        },
        {
         "name": "is_holiday",
         "rawType": "int64",
         "type": "integer"
        }
       ],
       "ref": "74e11282-3740-456a-8ee5-4bf0cc29107c",
       "rows": [
        [
         "0",
         "2003-12-30 00:00:00",
         "1"
        ],
        [
         "1",
         "2004-01-06 00:00:00",
         "1"
        ],
        [
         "2",
         "2004-01-13 00:00:00",
         "1"
        ],
        [
         "3",
         "2004-01-20 00:00:00",
         "1"
        ],
        [
         "4",
         "2004-01-27 00:00:00",
         "0"
        ],
        [
         "5",
         "2004-02-03 00:00:00",
         "0"
        ],
        [
         "6",
         "2004-02-10 00:00:00",
         "0"
        ],
        [
         "7",
         "2004-02-17 00:00:00",
         "0"
        ],
        [
         "8",
         "2004-02-24 00:00:00",
         "0"
        ],
        [
         "9",
         "2004-03-02 00:00:00",
         "0"
        ],
        [
         "10",
         "2004-03-09 00:00:00",
         "0"
        ],
        [
         "11",
         "2004-03-16 00:00:00",
         "0"
        ],
        [
         "12",
         "2004-03-23 00:00:00",
         "0"
        ],
        [
         "13",
         "2004-03-30 00:00:00",
         "0"
        ],
        [
         "14",
         "2004-04-06 00:00:00",
         "1"
        ],
        [
         "15",
         "2004-04-13 00:00:00",
         "1"
        ],
        [
         "16",
         "2004-04-20 00:00:00",
         "1"
        ],
        [
         "17",
         "2004-04-27 00:00:00",
         "0"
        ],
        [
         "18",
         "2004-05-04 00:00:00",
         "0"
        ],
        [
         "19",
         "2004-05-11 00:00:00",
         "0"
        ],
        [
         "20",
         "2004-05-18 00:00:00",
         "0"
        ],
        [
         "21",
         "2004-05-25 00:00:00",
         "0"
        ],
        [
         "22",
         "2004-06-01 00:00:00",
         "0"
        ],
        [
         "23",
         "2004-06-08 00:00:00",
         "0"
        ],
        [
         "24",
         "2004-06-15 00:00:00",
         "0"
        ],
        [
         "25",
         "2004-06-22 00:00:00",
         "0"
        ],
        [
         "26",
         "2004-06-29 00:00:00",
         "1"
        ],
        [
         "27",
         "2004-07-06 00:00:00",
         "1"
        ],
        [
         "28",
         "2004-07-13 00:00:00",
         "1"
        ],
        [
         "29",
         "2004-07-20 00:00:00",
         "0"
        ],
        [
         "30",
         "2004-07-27 00:00:00",
         "0"
        ],
        [
         "31",
         "2004-08-03 00:00:00",
         "0"
        ],
        [
         "32",
         "2004-08-10 00:00:00",
         "0"
        ],
        [
         "33",
         "2004-08-17 00:00:00",
         "0"
        ],
        [
         "34",
         "2004-08-24 00:00:00",
         "0"
        ],
        [
         "35",
         "2004-08-31 00:00:00",
         "0"
        ],
        [
         "36",
         "2004-09-07 00:00:00",
         "0"
        ],
        [
         "37",
         "2004-09-14 00:00:00",
         "0"
        ],
        [
         "38",
         "2004-09-21 00:00:00",
         "1"
        ],
        [
         "39",
         "2004-09-28 00:00:00",
         "1"
        ],
        [
         "40",
         "2004-10-05 00:00:00",
         "1"
        ],
        [
         "41",
         "2004-10-12 00:00:00",
         "0"
        ],
        [
         "42",
         "2004-10-19 00:00:00",
         "0"
        ],
        [
         "43",
         "2004-10-26 00:00:00",
         "0"
        ],
        [
         "44",
         "2004-11-02 00:00:00",
         "0"
        ],
        [
         "45",
         "2004-11-09 00:00:00",
         "0"
        ],
        [
         "46",
         "2004-11-16 00:00:00",
         "0"
        ],
        [
         "47",
         "2004-11-23 00:00:00",
         "0"
        ],
        [
         "48",
         "2004-11-30 00:00:00",
         "0"
        ],
        [
         "49",
         "2004-12-07 00:00:00",
         "0"
        ]
       ],
       "shape": {
        "columns": 2,
        "rows": 1447
       }
      },
      "text/html": [
       "<div>\n",
       "<style scoped>\n",
       "    .dataframe tbody tr th:only-of-type {\n",
       "        vertical-align: middle;\n",
       "    }\n",
       "\n",
       "    .dataframe tbody tr th {\n",
       "        vertical-align: top;\n",
       "    }\n",
       "\n",
       "    .dataframe thead th {\n",
       "        text-align: right;\n",
       "    }\n",
       "</style>\n",
       "<table border=\"1\" class=\"dataframe\">\n",
       "  <thead>\n",
       "    <tr style=\"text-align: right;\">\n",
       "      <th></th>\n",
       "      <th>week</th>\n",
       "      <th>is_holiday</th>\n",
       "    </tr>\n",
       "  </thead>\n",
       "  <tbody>\n",
       "    <tr>\n",
       "      <th>0</th>\n",
       "      <td>2003-12-30</td>\n",
       "      <td>1</td>\n",
       "    </tr>\n",
       "    <tr>\n",
       "      <th>1</th>\n",
       "      <td>2004-01-06</td>\n",
       "      <td>1</td>\n",
       "    </tr>\n",
       "    <tr>\n",
       "      <th>2</th>\n",
       "      <td>2004-01-13</td>\n",
       "      <td>1</td>\n",
       "    </tr>\n",
       "    <tr>\n",
       "      <th>3</th>\n",
       "      <td>2004-01-20</td>\n",
       "      <td>1</td>\n",
       "    </tr>\n",
       "    <tr>\n",
       "      <th>4</th>\n",
       "      <td>2004-01-27</td>\n",
       "      <td>0</td>\n",
       "    </tr>\n",
       "    <tr>\n",
       "      <th>...</th>\n",
       "      <td>...</td>\n",
       "      <td>...</td>\n",
       "    </tr>\n",
       "    <tr>\n",
       "      <th>1442</th>\n",
       "      <td>2026-11-30</td>\n",
       "      <td>0</td>\n",
       "    </tr>\n",
       "    <tr>\n",
       "      <th>1443</th>\n",
       "      <td>2026-12-07</td>\n",
       "      <td>0</td>\n",
       "    </tr>\n",
       "    <tr>\n",
       "      <th>1444</th>\n",
       "      <td>2026-12-14</td>\n",
       "      <td>0</td>\n",
       "    </tr>\n",
       "    <tr>\n",
       "      <th>1445</th>\n",
       "      <td>2026-12-21</td>\n",
       "      <td>1</td>\n",
       "    </tr>\n",
       "    <tr>\n",
       "      <th>1446</th>\n",
       "      <td>2026-12-28</td>\n",
       "      <td>1</td>\n",
       "    </tr>\n",
       "  </tbody>\n",
       "</table>\n",
       "<p>1447 rows × 2 columns</p>\n",
       "</div>"
      ],
      "text/plain": [
       "           week  is_holiday\n",
       "0    2003-12-30           1\n",
       "1    2004-01-06           1\n",
       "2    2004-01-13           1\n",
       "3    2004-01-20           1\n",
       "4    2004-01-27           0\n",
       "...         ...         ...\n",
       "1442 2026-11-30           0\n",
       "1443 2026-12-07           0\n",
       "1444 2026-12-14           0\n",
       "1445 2026-12-21           1\n",
       "1446 2026-12-28           1\n",
       "\n",
       "[1447 rows x 2 columns]"
      ]
     },
     "execution_count": 107,
     "metadata": {},
     "output_type": "execute_result"
    }
   ],
   "source": [
    "# --- manually create new rows you want to append ---\n",
    "extra_rows = pd.DataFrame({\n",
    "    \"week\": pd.to_datetime([\n",
    "        \"2025-10-13\", \"2025-10-20\", \"2025-10-27\", \"2025-11-03\", \"2025-11-10\", \n",
    "        \"2025-11-17\", \"2025-11-24\", \"2025-12-01\", \"2025-12-08\", \n",
    "        \"2025-12-15\", \"2025-12-22\", \"2025-12-29\",\n",
    "        \"2026-01-05\", \"2026-01-12\", \"2026-01-19\", \"2026-01-26\",\n",
    "        \"2026-02-02\", \"2026-02-09\", \"2026-02-16\", \"2026-02-23\",\n",
    "        \"2026-03-02\", \"2026-03-09\", \"2026-03-16\", \"2026-03-23\", \"2026-03-30\",\n",
    "        \"2026-04-06\", \"2026-04-13\", \"2026-04-20\", \"2026-04-27\",\n",
    "        \"2026-05-04\", \"2026-05-11\", \"2026-05-18\", \"2026-05-25\",\n",
    "        \"2026-06-01\", \"2026-06-08\", \"2026-06-15\", \"2026-06-22\", \"2026-06-29\",\n",
    "        \"2026-07-06\", \"2026-07-13\", \"2026-07-20\", \"2026-07-27\",\n",
    "        \"2026-08-03\", \"2026-08-10\", \"2026-08-17\", \"2026-08-24\", \"2026-08-31\",\n",
    "        \"2026-09-07\", \"2026-09-14\", \"2026-09-21\", \"2026-09-28\",\n",
    "        \"2026-10-05\", \"2026-10-12\", \"2026-10-19\", \"2026-10-26\",\n",
    "        \"2026-11-02\", \"2026-11-09\", \"2026-11-16\", \"2026-11-23\", \"2026-11-30\",\n",
    "        \"2026-12-07\", \"2026-12-14\", \"2026-12-21\", \"2026-12-28\"\n",
    "    ]),\n",
    "    \"is_holiday\": [\n",
    "    0,0,0,0,0,  # 2025-10-13 … 2025-12-15\n",
    "    0,0,0,0,          # 2025-12-22 … 2026-01-26 (summer break continues)\n",
    "    0,1,1,            # 2026-02-02 … 2026-03-02\n",
    "    1,1,1,0,            # 2026-03-09 … 2026-04-03\n",
    "    0,0,0,0,  # 2026-04-06, 2026-04-13 (autumn break), then term\n",
    "    0,0,0,0,0,                  # 2026-06-01 … 2026-06-08\n",
    "    0,1,1,0,  # 2026-07-06, 2026-07-13 (winter break), then term\n",
    "    0,0,0,0,  # 2026-09-07 … 2026-10-05 (spring break weeks flagged)\n",
    "    0,0,0,0,0,        # 2026-10-12 … 2026-11-30\n",
    "    1,1,0,0,\n",
    "    0,0,0,0,0,\n",
    "    0,0,0,1,\n",
    "    1,0,0,0,\n",
    "    0,0,0,0,0,\n",
    "    0,0,1,1\n",
    "]\n",
    "})\n",
    "\n",
    "# --- append to the existing DataFrame ---\n",
    "merged_sydney = pd.concat([holiday_weeks_sydney, extra_rows], ignore_index=True)\n",
    "merged_sydney"
   ]
  },
  {
   "cell_type": "code",
   "execution_count": 110,
   "id": "97044e0b",
   "metadata": {},
   "outputs": [
    {
     "data": {
      "application/vnd.microsoft.datawrangler.viewer.v0+json": {
       "columns": [
        {
         "name": "index",
         "rawType": "int64",
         "type": "integer"
        },
        {
         "name": "week",
         "rawType": "datetime64[ns]",
         "type": "datetime"
        },
        {
         "name": "is_holiday",
         "rawType": "int64",
         "type": "integer"
        }
       ],
       "ref": "a4d1087d-fdc1-4c75-b726-bc85f94addbc",
       "rows": [
        [
         "0",
         "2003-12-30 00:00:00",
         "1"
        ],
        [
         "1",
         "2004-01-06 00:00:00",
         "1"
        ],
        [
         "2",
         "2004-01-13 00:00:00",
         "1"
        ],
        [
         "3",
         "2004-01-20 00:00:00",
         "1"
        ],
        [
         "4",
         "2004-01-27 00:00:00",
         "1"
        ],
        [
         "5",
         "2004-02-03 00:00:00",
         "0"
        ],
        [
         "6",
         "2004-02-10 00:00:00",
         "0"
        ],
        [
         "7",
         "2004-02-17 00:00:00",
         "0"
        ],
        [
         "8",
         "2004-02-24 00:00:00",
         "0"
        ],
        [
         "9",
         "2004-03-02 00:00:00",
         "0"
        ],
        [
         "10",
         "2004-03-09 00:00:00",
         "0"
        ],
        [
         "11",
         "2004-03-16 00:00:00",
         "0"
        ],
        [
         "12",
         "2004-03-23 00:00:00",
         "0"
        ],
        [
         "13",
         "2004-03-30 00:00:00",
         "1"
        ],
        [
         "14",
         "2004-04-06 00:00:00",
         "1"
        ],
        [
         "15",
         "2004-04-13 00:00:00",
         "1"
        ],
        [
         "16",
         "2004-04-20 00:00:00",
         "0"
        ],
        [
         "17",
         "2004-04-27 00:00:00",
         "0"
        ],
        [
         "18",
         "2004-05-04 00:00:00",
         "0"
        ],
        [
         "19",
         "2004-05-11 00:00:00",
         "0"
        ],
        [
         "20",
         "2004-05-18 00:00:00",
         "0"
        ],
        [
         "21",
         "2004-05-25 00:00:00",
         "0"
        ],
        [
         "22",
         "2004-06-01 00:00:00",
         "0"
        ],
        [
         "23",
         "2004-06-08 00:00:00",
         "0"
        ],
        [
         "24",
         "2004-06-15 00:00:00",
         "0"
        ],
        [
         "25",
         "2004-06-22 00:00:00",
         "1"
        ],
        [
         "26",
         "2004-06-29 00:00:00",
         "1"
        ],
        [
         "27",
         "2004-07-06 00:00:00",
         "1"
        ],
        [
         "28",
         "2004-07-13 00:00:00",
         "0"
        ],
        [
         "29",
         "2004-07-20 00:00:00",
         "0"
        ],
        [
         "30",
         "2004-07-27 00:00:00",
         "0"
        ],
        [
         "31",
         "2004-08-03 00:00:00",
         "0"
        ],
        [
         "32",
         "2004-08-10 00:00:00",
         "0"
        ],
        [
         "33",
         "2004-08-17 00:00:00",
         "0"
        ],
        [
         "34",
         "2004-08-24 00:00:00",
         "0"
        ],
        [
         "35",
         "2004-08-31 00:00:00",
         "0"
        ],
        [
         "36",
         "2004-09-07 00:00:00",
         "0"
        ],
        [
         "37",
         "2004-09-14 00:00:00",
         "1"
        ],
        [
         "38",
         "2004-09-21 00:00:00",
         "1"
        ],
        [
         "39",
         "2004-09-28 00:00:00",
         "1"
        ],
        [
         "40",
         "2004-10-05 00:00:00",
         "0"
        ],
        [
         "41",
         "2004-10-12 00:00:00",
         "0"
        ],
        [
         "42",
         "2004-10-19 00:00:00",
         "0"
        ],
        [
         "43",
         "2004-10-26 00:00:00",
         "0"
        ],
        [
         "44",
         "2004-11-02 00:00:00",
         "0"
        ],
        [
         "45",
         "2004-11-09 00:00:00",
         "0"
        ],
        [
         "46",
         "2004-11-16 00:00:00",
         "0"
        ],
        [
         "47",
         "2004-11-23 00:00:00",
         "0"
        ],
        [
         "48",
         "2004-11-30 00:00:00",
         "0"
        ],
        [
         "49",
         "2004-12-07 00:00:00",
         "0"
        ]
       ],
       "shape": {
        "columns": 2,
        "rows": 1473
       }
      },
      "text/html": [
       "<div>\n",
       "<style scoped>\n",
       "    .dataframe tbody tr th:only-of-type {\n",
       "        vertical-align: middle;\n",
       "    }\n",
       "\n",
       "    .dataframe tbody tr th {\n",
       "        vertical-align: top;\n",
       "    }\n",
       "\n",
       "    .dataframe thead th {\n",
       "        text-align: right;\n",
       "    }\n",
       "</style>\n",
       "<table border=\"1\" class=\"dataframe\">\n",
       "  <thead>\n",
       "    <tr style=\"text-align: right;\">\n",
       "      <th></th>\n",
       "      <th>week</th>\n",
       "      <th>is_holiday</th>\n",
       "    </tr>\n",
       "  </thead>\n",
       "  <tbody>\n",
       "    <tr>\n",
       "      <th>0</th>\n",
       "      <td>2003-12-30</td>\n",
       "      <td>1</td>\n",
       "    </tr>\n",
       "    <tr>\n",
       "      <th>1</th>\n",
       "      <td>2004-01-06</td>\n",
       "      <td>1</td>\n",
       "    </tr>\n",
       "    <tr>\n",
       "      <th>2</th>\n",
       "      <td>2004-01-13</td>\n",
       "      <td>1</td>\n",
       "    </tr>\n",
       "    <tr>\n",
       "      <th>3</th>\n",
       "      <td>2004-01-20</td>\n",
       "      <td>1</td>\n",
       "    </tr>\n",
       "    <tr>\n",
       "      <th>4</th>\n",
       "      <td>2004-01-27</td>\n",
       "      <td>1</td>\n",
       "    </tr>\n",
       "    <tr>\n",
       "      <th>...</th>\n",
       "      <td>...</td>\n",
       "      <td>...</td>\n",
       "    </tr>\n",
       "    <tr>\n",
       "      <th>1468</th>\n",
       "      <td>2026-11-30</td>\n",
       "      <td>0</td>\n",
       "    </tr>\n",
       "    <tr>\n",
       "      <th>1469</th>\n",
       "      <td>2026-12-07</td>\n",
       "      <td>0</td>\n",
       "    </tr>\n",
       "    <tr>\n",
       "      <th>1470</th>\n",
       "      <td>2026-12-14</td>\n",
       "      <td>0</td>\n",
       "    </tr>\n",
       "    <tr>\n",
       "      <th>1471</th>\n",
       "      <td>2026-12-21</td>\n",
       "      <td>1</td>\n",
       "    </tr>\n",
       "    <tr>\n",
       "      <th>1472</th>\n",
       "      <td>2026-12-28</td>\n",
       "      <td>1</td>\n",
       "    </tr>\n",
       "  </tbody>\n",
       "</table>\n",
       "<p>1473 rows × 2 columns</p>\n",
       "</div>"
      ],
      "text/plain": [
       "           week  is_holiday\n",
       "0    2003-12-30           1\n",
       "1    2004-01-06           1\n",
       "2    2004-01-13           1\n",
       "3    2004-01-20           1\n",
       "4    2004-01-27           1\n",
       "...         ...         ...\n",
       "1468 2026-11-30           0\n",
       "1469 2026-12-07           0\n",
       "1470 2026-12-14           0\n",
       "1471 2026-12-21           1\n",
       "1472 2026-12-28           1\n",
       "\n",
       "[1473 rows x 2 columns]"
      ]
     },
     "execution_count": 110,
     "metadata": {},
     "output_type": "execute_result"
    }
   ],
   "source": [
    "# --- manually create new rows you want to append ---\n",
    "extra_rows = pd.DataFrame({\n",
    "    \"week\": pd.to_datetime([\n",
    "        \"2025-10-13\", \"2025-10-20\", \"2025-10-27\", \"2025-11-03\", \"2025-11-10\", \n",
    "        \"2025-11-17\", \"2025-11-24\", \"2025-12-01\", \"2025-12-08\", \n",
    "        \"2025-12-15\", \"2025-12-22\", \"2025-12-29\",\n",
    "        \"2026-01-05\", \"2026-01-12\", \"2026-01-19\", \"2026-01-26\",\n",
    "        \"2026-02-02\", \"2026-02-09\", \"2026-02-16\", \"2026-02-23\",\n",
    "        \"2026-03-02\", \"2026-03-09\", \"2026-03-16\", \"2026-03-23\", \"2026-03-30\",\n",
    "        \"2026-04-06\", \"2026-04-13\", \"2026-04-20\", \"2026-04-27\",\n",
    "        \"2026-05-04\", \"2026-05-11\", \"2026-05-18\", \"2026-05-25\",\n",
    "        \"2026-06-01\", \"2026-06-08\", \"2026-06-15\", \"2026-06-22\", \"2026-06-29\",\n",
    "        \"2026-07-06\", \"2026-07-13\", \"2026-07-20\", \"2026-07-27\",\n",
    "        \"2026-08-03\", \"2026-08-10\", \"2026-08-17\", \"2026-08-24\", \"2026-08-31\",\n",
    "        \"2026-09-07\", \"2026-09-14\", \"2026-09-21\", \"2026-09-28\",\n",
    "        \"2026-10-05\", \"2026-10-12\", \"2026-10-19\", \"2026-10-26\",\n",
    "        \"2026-11-02\", \"2026-11-09\", \"2026-11-16\", \"2026-11-23\", \"2026-11-30\",\n",
    "        \"2026-12-07\", \"2026-12-14\", \"2026-12-21\", \"2026-12-28\"\n",
    "    ]),\n",
    "    \"is_holiday\": [\n",
    "    0,0,0,0,0,  # 2025-10-13 … 2025-12-15\n",
    "    0,0,0,0,          # 2025-12-22 … 2026-01-26 (summer break continues)\n",
    "    0,1,1,            # 2026-02-02 … 2026-03-02\n",
    "    1,1,1,1,            # 2026-03-09 … 2026-04-03\n",
    "    0,0,0,0,  # 2026-04-06, 2026-04-13 (autumn break), then term\n",
    "    0,0,0,0,0,                  # 2026-06-01 … 2026-06-08\n",
    "    0,0,1,1,  # 2026-07-06, 2026-07-13 (winter break), then term\n",
    "    0,0,0,0,  # 2026-09-07 … 2026-10-05 (spring break weeks flagged)\n",
    "    0,0,0,0,0,        # 2026-10-12 … 2026-11-30\n",
    "    0,1,1,0,\n",
    "    0,0,0,0,0,\n",
    "    0,0,0,0,\n",
    "    1,1,0,0,\n",
    "    0,0,0,0,0,\n",
    "    0,0,1,1\n",
    "]\n",
    "})\n",
    "\n",
    "# --- append to the existing DataFrame ---\n",
    "merged_melbourne = pd.concat([holiday_weeks_melbourne, extra_rows], ignore_index=True)\n",
    "merged_melbourne"
   ]
  }
 ],
 "metadata": {
  "kernelspec": {
   "display_name": "base",
   "language": "python",
   "name": "python3"
  },
  "language_info": {
   "codemirror_mode": {
    "name": "ipython",
    "version": 3
   },
   "file_extension": ".py",
   "mimetype": "text/x-python",
   "name": "python",
   "nbconvert_exporter": "python",
   "pygments_lexer": "ipython3",
   "version": "3.12.2"
  }
 },
 "nbformat": 4,
 "nbformat_minor": 5
}
